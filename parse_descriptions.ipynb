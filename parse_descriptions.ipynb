{
 "cells": [
  {
   "cell_type": "code",
   "execution_count": 1,
   "metadata": {
    "collapsed": false,
    "scrolled": true
   },
   "outputs": [
    {
     "name": "stdout",
     "output_type": "stream",
     "text": [
      "0   The Infernal Comedy\n",
      "\n",
      "John Malkovich makes his UMS debut portraying a dead serial killer who returns to the stage to present his autobiography in a public reading. Malkovich appears as part of a theatrical opera of sorts that features a 40-piece chamber orchestra and two sopranos telling the real-life story of Jack Unterweger, a convicted murderer and acclaimed prison poet. Pardoned by the Austrian president Kurt Waldheim in 1990 at the behest of the Viennese literati, Unterweger’s public “rehabilitation” was anything but — within two years, he had been arrested and convicted for the brutal murder of 11 prostitutes in three countries. This gripping performance uses arias and music by Gluck, Vivaldi, Mozart, Beethoven, Boccherini, and Haydn as the counterpoint to Malkovich’s chilling monologue, which shifts between reality and delusion.\n",
      "\n"
     ]
    }
   ],
   "source": [
    "import pandas as pd\n",
    "import numpy as np\n",
    "\n",
    "with open('descriptions.txt') as f:\n",
    "    lines = f.readlines()\n",
    "    \n",
    "print lines[0]\n",
    "print lines[1]"
   ]
  },
  {
   "cell_type": "code",
   "execution_count": 2,
   "metadata": {
    "collapsed": false
   },
   "outputs": [
    {
     "name": "stdout",
     "output_type": "stream",
     "text": [
      "                    title                                        description\n",
      "0     The Infernal Comedy  John Malkovich makes his UMS debut portraying ...\n",
      "1        Yuja Wang, piano  Chinese pianist Yuja Wang combines the spontan...\n",
      "2     London Philharmonic  The London Philharmonic returns for its first ...\n",
      "3        Hamburg Symphony  In 1971, French composer Olivier Messiaen was ...\n",
      "4    Chicago Symphony Orc  Wind players of the Chicago Symphony come toge...\n"
     ]
    }
   ],
   "source": [
    "df = pd.DataFrame(columns=['title', 'description'])\n",
    "\n",
    "numDescriptions = 0\n",
    "index = 0\n",
    "while numDescriptions < 143:\n",
    "    title = ' '.join(lines[index].strip().split(' ')[1:])\n",
    "    description = ''\n",
    "    index = index + 1\n",
    "    while not lines[index] == '\\n':\n",
    "        description = description + ' ' + lines[index]\n",
    "        index = index + 1\n",
    "    index = index + 1\n",
    "    \n",
    "    df.loc[numDescriptions] = [title, description.strip()]\n",
    "    numDescriptions = numDescriptions + 1\n",
    "    \n",
    "df.to_pickle('descriptions.pkl')\n",
    "\n",
    "print df.head()"
   ]
  },
  {
   "cell_type": "code",
   "execution_count": 13,
   "metadata": {
    "collapsed": false
   },
   "outputs": [
    {
     "name": "stdout",
     "output_type": "stream",
     "text": [
      "  (0, 7496)\t1\n",
      "  (0, 8382)\t3\n",
      "  (0, 8357)\t1\n",
      "  (0, 14132)\t1\n",
      "  (0, 3808)\t1\n",
      "  (0, 10544)\t1\n",
      "  (0, 3791)\t1\n",
      "  (0, 12189)\t1\n",
      "  (0, 7679)\t1\n",
      "  (0, 11566)\t1\n",
      "  (0, 12867)\t1\n",
      "  (0, 10652)\t1\n",
      "  (0, 1270)\t1\n",
      "  (0, 10902)\t2\n",
      "  (0, 11166)\t1\n",
      "  (0, 905)\t1\n",
      "  (0, 13595)\t1\n",
      "  (0, 9641)\t1\n",
      "  (0, 12661)\t1\n",
      "  (0, 5264)\t1\n",
      "  (0, 310)\t1\n",
      "  (0, 10317)\t1\n",
      "  (0, 2441)\t1\n",
      "  (0, 9679)\t1\n",
      "  (0, 12659)\t1\n",
      "  :\t:\n",
      "  (0, 15154)\t1\n",
      "  (0, 1010)\t1\n",
      "  (0, 3360)\t1\n",
      "  (0, 2127)\t1\n",
      "  (0, 9067)\t1\n",
      "  (0, 24)\t1\n",
      "  (0, 10871)\t1\n",
      "  (0, 3423)\t1\n",
      "  (0, 6173)\t1\n",
      "  (0, 10092)\t1\n",
      "  (0, 14333)\t1\n",
      "  (0, 982)\t1\n",
      "  (0, 9125)\t1\n",
      "  (0, 6004)\t1\n",
      "  (0, 14558)\t1\n",
      "  (0, 9029)\t1\n",
      "  (0, 1606)\t1\n",
      "  (0, 1865)\t1\n",
      "  (0, 6418)\t1\n",
      "  (0, 3410)\t1\n",
      "  (0, 8384)\t1\n",
      "  (0, 2570)\t1\n",
      "  (0, 8917)\t1\n",
      "  (0, 12337)\t1\n",
      "  (0, 11180)\t1\n"
     ]
    }
   ],
   "source": [
    "# Extract bigram matrix\n",
    "\n",
    "from sklearn.feature_extraction.text import CountVectorizer, ENGLISH_STOP_WORDS\n",
    "\n",
    "vect = CountVectorizer(ngram_range=(1,2), stop_words = ENGLISH_STOP_WORDS)\n",
    "X = vect.fit_transform(df.description.values)\n",
    "print X[0]"
   ]
  },
  {
   "cell_type": "code",
   "execution_count": 15,
   "metadata": {
    "collapsed": false
   },
   "outputs": [],
   "source": [
    "# Latent Dirichlet Allocation\n",
    "from sklearn.decomposition import LatentDirichletAllocation\n",
    "\n",
    "lda = LatentDirichletAllocation(n_topics=5)\n",
    "y = lda.fit_transform(X)"
   ]
  },
  {
   "cell_type": "code",
   "execution_count": 16,
   "metadata": {
    "collapsed": true
   },
   "outputs": [],
   "source": [
    "# Todo:\n",
    "# 1) Print out what words appear most frequently in each topic\n",
    "# 2) Scatter plot the documents (in 2-D or 3-D space)\n",
    "# 3) Gather statistics (e.g. the ratio of student/normal tickets for each topic)\n",
    "# 4) Try other topic modeling methods (tf-idf, SVD, other flavors of LDA, etc.)"
   ]
  },
  {
   "cell_type": "markdown",
   "metadata": {},
   "source": [
    "### Print out what words appear most frequently in each topic"
   ]
  },
  {
   "cell_type": "code",
   "execution_count": 17,
   "metadata": {
    "collapsed": true
   },
   "outputs": [],
   "source": [
    "# I copy this code from example on sklearn \n",
    "def print_top_words(model, feature_names, n_top_words):\n",
    "    for topic_idx, topic in enumerate(model.components_):\n",
    "        print(\"Topic #%d:\" % topic_idx)\n",
    "        print(\", \".join([feature_names[i]\n",
    "                        for i in topic.argsort()[:-n_top_words - 1:-1]]))\n",
    "    print()"
   ]
  },
  {
   "cell_type": "code",
   "execution_count": 19,
   "metadata": {
    "collapsed": false,
    "scrolled": false
   },
   "outputs": [
    {
     "name": "stdout",
     "output_type": "stream",
     "text": [
      "Topic #0:\n",
      "flamenco, ballet, company, new, dance, forsythe, voice, aspen, york, new york, contemporary, program, times, dancers, century, heart, cigala, diego, fe, aspen santa, santa, santa fe, music, performed, director, repertoire, time, legendary, york times, art, works, william forsythe, william, singer, chicago, 19th, 19th century, thing, american, choreography, el, flat, choreographers, flat thing, el cigala, dancer, tango, aesthetic, fe ballet, classical\n",
      "Topic #1:\n",
      "music, ums, fela, best, blake, detroit, hall, performance, run, new, music hall, ali, khan, audiences, ali khan, jazz, world, debut, traditions, acclaimed, story, album, 2011, james, seats, figure, critically, critically acclaimed, beginning, ums audiences, year, musical, asif, sufi, available, order, tony, kuti, fela kuti, person, october, james blake, work, dance, unique, like, american, international, bass, musicians\n",
      "Topic #2:\n",
      "new, theatre, music, national, london, national theatre, ums, american, michigan, director, play, theatre london, composers, john, theater, dance, performance, broadcasts, high, award, jazz, concert, time, world, chamber, michigan theater, presented, takes, work, broadcasts national, definition, high definition, debut, partnership, london presented, presented partnership, partnership michigan, definition broadcasts, ballet, years, preljocaj, tour, new play, symphony, winning, orchestra, seats, tweet, award winning, mavericks\n",
      "Topic #3:\n",
      "michigan, arbor, ann arbor, ann, music, tickets, coriolanus, teen, ums, theatre, national, national theatre, high, theater, michigan theater, performance, city, art, center, threatens, 764, purchase, 764 2538, available, 734, 734 764, 2538, production, new, london, concert, musical, brass, broadcasts, people, young, members, produced, presented, community, high definition, years, broadcasts national, definition, live, theatre london, rare, artistic, rock, extraordinary\n",
      "Topic #4:\n",
      "music, new, ums, performance, returns, orchestra, mariachi, times, life, group, productions, propeller, man, time, songs, performed, company, arbor, york, ann, new york, true, vocal, ann arbor, choir, plays, singers, age, lô, choral, performing, early, play, voice, theater, audiences, program, best, world, style, vargas, comedy, king, night, girl, taming shrew, twelfth, twelfth night, shrew, reveal\n",
      "()\n"
     ]
    }
   ],
   "source": [
    "n_top_words = 50\n",
    "\n",
    "print_top_words(lda, vect.get_feature_names(), n_top_words)"
   ]
  }
 ],
 "metadata": {
  "kernelspec": {
   "display_name": "Python 2",
   "language": "python",
   "name": "python2"
  },
  "language_info": {
   "codemirror_mode": {
    "name": "ipython",
    "version": 2
   },
   "file_extension": ".py",
   "mimetype": "text/x-python",
   "name": "python",
   "nbconvert_exporter": "python",
   "pygments_lexer": "ipython2",
   "version": "2.7.11"
  }
 },
 "nbformat": 4,
 "nbformat_minor": 0
}
