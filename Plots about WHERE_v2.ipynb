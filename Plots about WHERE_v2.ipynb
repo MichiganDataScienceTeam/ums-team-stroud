{
 "cells": [
  {
   "cell_type": "code",
   "execution_count": 1,
   "metadata": {
    "collapsed": false
   },
   "outputs": [
    {
     "name": "stderr",
     "output_type": "stream",
     "text": [
      "c:\\Users\\Xinyu\\Anaconda\\lib\\site-packages\\pandas\\computation\\__init__.py:19: UserWarning: The installed version of numexpr 2.4.4 is not supported in pandas and will be not be used\n",
      "\n",
      "  UserWarning)\n",
      "c:\\Users\\Xinyu\\Anaconda\\lib\\site-packages\\matplotlib\\__init__.py:872: UserWarning: axes.color_cycle is deprecated and replaced with axes.prop_cycle; please use the latter.\n",
      "  warnings.warn(self.msg_depr % (key, alt_key))\n"
     ]
    }
   ],
   "source": [
    "import pandas as pd\n",
    "import numpy as np\n",
    "import seaborn as sns\n",
    "import matplotlib.pyplot as plt \n",
    "%matplotlib inline"
   ]
  },
  {
   "cell_type": "markdown",
   "metadata": {},
   "source": [
    "**Manually labeled categories**\n",
    "\n",
    "- 0\tjazz\n",
    "- 1\tchoral\n",
    "- 2\ttheatre\n",
    "- 3\tdance\n",
    "- 4\tchamber\n",
    "- 5\torchestra\n",
    "- 6\tother\n",
    "- 7\topera\n",
    "- 8\tsoloist\n"
   ]
  },
  {
   "cell_type": "code",
   "execution_count": 2,
   "metadata": {
    "collapsed": true
   },
   "outputs": [],
   "source": [
    "manual_labels = pd.read_csv('manual_labels.csv', header=None, usecols=[0, 1], names=['index', 'label'])"
   ]
  },
  {
   "cell_type": "code",
   "execution_count": 3,
   "metadata": {
    "collapsed": false
   },
   "outputs": [
    {
     "data": {
      "text/plain": [
       "(144, 2)"
      ]
     },
     "execution_count": 3,
     "metadata": {},
     "output_type": "execute_result"
    }
   ],
   "source": [
    "manual_labels.shape"
   ]
  },
  {
   "cell_type": "code",
   "execution_count": 4,
   "metadata": {
    "collapsed": false
   },
   "outputs": [],
   "source": [
    "df = pd.read_csv('./data/ums_viz.csv')\n",
    "df_perf = pd.read_pickle('descriptions.pkl')\n",
    "df_perf.columns.values[0] = 'perf_name'\n",
    "df_perf = df_perf.append(pd.DataFrame({'perf_name': ['Usher party'], 'description':['NA']}, index=[143]))\n",
    "\n",
    "df['perf_name'] = df['perf_name'].apply(lambda x: x.strip())\n",
    "df_perf['perf_name'] = df_perf['perf_name'].apply(lambda x: x.strip())\n",
    "\n",
    "df['per_seat'] = df['tck_amt']/df['num_seats']\n",
    "\n",
    "df_perf['label'] = manual_labels.label"
   ]
  },
  {
   "cell_type": "code",
   "execution_count": 5,
   "metadata": {
    "collapsed": false
   },
   "outputs": [],
   "source": [
    "df_label = df.merge(df_perf, on='perf_name')"
   ]
  },
  {
   "cell_type": "markdown",
   "metadata": {},
   "source": [
    "### Question 1: where do people come from?"
   ]
  },
  {
   "cell_type": "code",
   "execution_count": 6,
   "metadata": {
    "collapsed": true
   },
   "outputs": [],
   "source": [
    "## simple functions to transform the zip code\n",
    "\n",
    "def for_9_digits_zip_code(zip_code):\n",
    "    \"\"\"\n",
    "    for zip codes XXXXX-XXXX, just get the first five digits\n",
    "    \"\"\"\n",
    "    if len(zip_code) == 9:\n",
    "        return zip_code[:6]\n",
    "    else:\n",
    "        return zip_code\n",
    "\n",
    "def rough_loc_name(zip_code):\n",
    "    if len(zip_code) == 5:\n",
    "        return 'US'\n",
    "    elif len(zip_code) == 6:\n",
    "        return 'CAN'\n",
    "    else:\n",
    "        return 'OTHER'"
   ]
  },
  {
   "cell_type": "code",
   "execution_count": 7,
   "metadata": {
    "collapsed": false
   },
   "outputs": [
    {
     "data": {
      "text/html": [
       "<div>\n",
       "<table border=\"1\" class=\"dataframe\">\n",
       "  <thead>\n",
       "    <tr style=\"text-align: right;\">\n",
       "      <th></th>\n",
       "      <th>UMS_acct_no</th>\n",
       "      <th>acct_created</th>\n",
       "      <th>cust_type</th>\n",
       "      <th>perf_name</th>\n",
       "      <th>perf_dt</th>\n",
       "      <th>tck_amt</th>\n",
       "      <th>num_seats</th>\n",
       "      <th>venue</th>\n",
       "      <th>price_type</th>\n",
       "      <th>price_type_group</th>\n",
       "      <th>mode_of_sale</th>\n",
       "      <th>sales_channel</th>\n",
       "      <th>order_dt</th>\n",
       "      <th>postal_code</th>\n",
       "      <th>per_seat</th>\n",
       "      <th>description</th>\n",
       "      <th>label</th>\n",
       "      <th>zip_code</th>\n",
       "      <th>rough_area</th>\n",
       "    </tr>\n",
       "  </thead>\n",
       "  <tbody>\n",
       "    <tr>\n",
       "      <th>0</th>\n",
       "      <td>1111</td>\n",
       "      <td>1979-08-06 00:00:00.000</td>\n",
       "      <td>Household</td>\n",
       "      <td>The Infernal Comedy</td>\n",
       "      <td>2011-10-01 20:00:00.000</td>\n",
       "      <td>112.0</td>\n",
       "      <td>2</td>\n",
       "      <td>Hill Auditorium</td>\n",
       "      <td>Choral Union</td>\n",
       "      <td>Subs Prices</td>\n",
       "      <td>Subscription</td>\n",
       "      <td>Fax</td>\n",
       "      <td>2011-05-31 00:00:00.000</td>\n",
       "      <td>48103</td>\n",
       "      <td>56.0</td>\n",
       "      <td>John Malkovich makes his UMS debut portraying ...</td>\n",
       "      <td>2</td>\n",
       "      <td>48103</td>\n",
       "      <td>US</td>\n",
       "    </tr>\n",
       "    <tr>\n",
       "      <th>1</th>\n",
       "      <td>1115</td>\n",
       "      <td>1988-02-18 00:00:00.000</td>\n",
       "      <td>Household</td>\n",
       "      <td>The Infernal Comedy</td>\n",
       "      <td>2011-10-01 20:00:00.000</td>\n",
       "      <td>136.0</td>\n",
       "      <td>2</td>\n",
       "      <td>Hill Auditorium</td>\n",
       "      <td>Choral Union</td>\n",
       "      <td>Subs Prices</td>\n",
       "      <td>Subscription</td>\n",
       "      <td>Phone</td>\n",
       "      <td>2011-06-03 00:00:00.000</td>\n",
       "      <td>48105</td>\n",
       "      <td>68.0</td>\n",
       "      <td>John Malkovich makes his UMS debut portraying ...</td>\n",
       "      <td>2</td>\n",
       "      <td>48105</td>\n",
       "      <td>US</td>\n",
       "    </tr>\n",
       "    <tr>\n",
       "      <th>2</th>\n",
       "      <td>1131</td>\n",
       "      <td>1988-02-26 00:00:00.000</td>\n",
       "      <td>Household</td>\n",
       "      <td>The Infernal Comedy</td>\n",
       "      <td>2011-10-01 20:00:00.000</td>\n",
       "      <td>136.0</td>\n",
       "      <td>2</td>\n",
       "      <td>Hill Auditorium</td>\n",
       "      <td>Choral Union</td>\n",
       "      <td>Subs Prices</td>\n",
       "      <td>Subscription</td>\n",
       "      <td>Phone</td>\n",
       "      <td>2011-05-19 00:00:00.000</td>\n",
       "      <td>537112216</td>\n",
       "      <td>68.0</td>\n",
       "      <td>John Malkovich makes his UMS debut portraying ...</td>\n",
       "      <td>2</td>\n",
       "      <td>537112</td>\n",
       "      <td>CAN</td>\n",
       "    </tr>\n",
       "  </tbody>\n",
       "</table>\n",
       "</div>"
      ],
      "text/plain": [
       "   UMS_acct_no             acct_created  cust_type            perf_name  \\\n",
       "0         1111  1979-08-06 00:00:00.000  Household  The Infernal Comedy   \n",
       "1         1115  1988-02-18 00:00:00.000  Household  The Infernal Comedy   \n",
       "2         1131  1988-02-26 00:00:00.000  Household  The Infernal Comedy   \n",
       "\n",
       "                   perf_dt  tck_amt  num_seats            venue    price_type  \\\n",
       "0  2011-10-01 20:00:00.000    112.0          2  Hill Auditorium  Choral Union   \n",
       "1  2011-10-01 20:00:00.000    136.0          2  Hill Auditorium  Choral Union   \n",
       "2  2011-10-01 20:00:00.000    136.0          2  Hill Auditorium  Choral Union   \n",
       "\n",
       "  price_type_group  mode_of_sale sales_channel                 order_dt  \\\n",
       "0      Subs Prices  Subscription           Fax  2011-05-31 00:00:00.000   \n",
       "1      Subs Prices  Subscription         Phone  2011-06-03 00:00:00.000   \n",
       "2      Subs Prices  Subscription         Phone  2011-05-19 00:00:00.000   \n",
       "\n",
       "  postal_code  per_seat                                        description  \\\n",
       "0       48103      56.0  John Malkovich makes his UMS debut portraying ...   \n",
       "1       48105      68.0  John Malkovich makes his UMS debut portraying ...   \n",
       "2   537112216      68.0  John Malkovich makes his UMS debut portraying ...   \n",
       "\n",
       "   label zip_code rough_area  \n",
       "0      2    48103         US  \n",
       "1      2    48105         US  \n",
       "2      2   537112        CAN  "
      ]
     },
     "execution_count": 7,
     "metadata": {},
     "output_type": "execute_result"
    }
   ],
   "source": [
    "df_label['zip_code'] =df_label.postal_code.apply(for_9_digits_zip_code)\n",
    "df_label['rough_area'] = df_label.zip_code.apply(rough_loc_name)\n",
    "df_label.head(3)"
   ]
  },
  {
   "cell_type": "markdown",
   "metadata": {
    "collapsed": false
   },
   "source": [
    "### zip code distribution\n",
    "Here I will plot for different length of zip code the distribution of the purchase records, the same plot for different areas (US, CAN, OTHER)."
   ]
  },
  {
   "cell_type": "code",
   "execution_count": 8,
   "metadata": {
    "collapsed": false
   },
   "outputs": [
    {
     "data": {
      "text/plain": [
       "<matplotlib.text.Text at 0x1a333438>"
      ]
     },
     "execution_count": 8,
     "metadata": {},
     "output_type": "execute_result"
    },
    {
     "data": {
      "image/png": "[encoded data removed]",
      "text/plain": [
       "<matplotlib.figure.Figure at 0x3f4a860>"
      ]
     },
     "metadata": {},
     "output_type": "display_data"
    }
   ],
   "source": [
    "# plot 1: distribution of purchase record for different areas\n",
    "df_label['zip_code_len'] = df_label.zip_code.apply(lambda x: len(x))\n",
    "\n",
    "f, (ax1, ax2) = plt.subplots(2, 1, figsize=(8, 6), sharex=False)\n",
    "plt.suptitle('Number of Purchase Record', fontsize=15)\n",
    "\n",
    "df_label.rough_area.groupby(df_label.zip_code_len).count().plot(kind='bar', ax=ax1)\n",
    "ax1.set_xlabel('Length of zip code')\n",
    "ax1.set_ylabel('Counts')\n",
    "\n",
    "df_label.rough_area.groupby(df_label.rough_area).count().plot(kind='bar', ax=ax2)\n",
    "ax2.set_xlabel('Area')\n",
    "ax2.set_ylabel('Counts')"
   ]
  },
  {
   "cell_type": "markdown",
   "metadata": {
    "collapsed": false
   },
   "source": [
    "Let's take a look at number of tickets purchased for different locations."
   ]
  },
  {
   "cell_type": "code",
   "execution_count": 9,
   "metadata": {
    "collapsed": false
   },
   "outputs": [
    {
     "data": {
      "text/plain": [
       "<matplotlib.text.Text at 0x20d1d0b8>"
      ]
     },
     "execution_count": 9,
     "metadata": {},
     "output_type": "execute_result"
    },
    {
     "data": {
      "image/png": "[encoded data removed]",
      "text/plain": [
       "<matplotlib.figure.Figure at 0x23419fd0>"
      ]
     },
     "metadata": {},
     "output_type": "display_data"
    }
   ],
   "source": [
    "f, (ax1, ax2) = plt.subplots(2, 1, figsize=(8, 6), sharex=False)\n",
    "\n",
    "plt.suptitle('Number of Tickets Purchased',fontsize=15)\n",
    "\n",
    "df_label.num_seats.groupby(df_label.zip_code_len).sum().plot(kind='bar', ax=ax1)\n",
    "ax1.set_xlabel('Length of zip code')\n",
    "ax1.set_ylabel('Number of seats purchased')\n",
    "\n",
    "df_label.num_seats.groupby(df_label.rough_area).sum().plot(kind='bar', ax=ax2)\n",
    "ax2.set_xlabel('Area')\n",
    "ax2.set_ylabel('Number of seats purchased')"
   ]
  },
  {
   "cell_type": "markdown",
   "metadata": {
    "collapsed": false
   },
   "source": [
    "Total revenues."
   ]
  },
  {
   "cell_type": "code",
   "execution_count": 10,
   "metadata": {
    "collapsed": false
   },
   "outputs": [
    {
     "data": {
      "text/plain": [
       "<matplotlib.text.Text at 0x23763080>"
      ]
     },
     "execution_count": 10,
     "metadata": {},
     "output_type": "execute_result"
    },
    {
     "data": {
      "image/png": "[encoded data removed]",
      "text/plain": [
       "<matplotlib.figure.Figure at 0x19fcfef0>"
      ]
     },
     "metadata": {},
     "output_type": "display_data"
    }
   ],
   "source": [
    "f, (ax1, ax2) = plt.subplots(2, 1, figsize=(8, 6), sharex=False)\n",
    "\n",
    "plt.suptitle('Total Revenues',fontsize=15)\n",
    "\n",
    "df_label.tck_amt.groupby(df_label.zip_code_len).sum().plot(kind='bar', ax=ax1)\n",
    "ax1.set_xlabel('Length of zip code')\n",
    "ax1.set_ylabel('Number of seats purchased')\n",
    "\n",
    "df_label.tck_amt.groupby(df_label.rough_area).sum().plot(kind='bar', ax=ax2)\n",
    "ax2.set_xlabel('Area')\n",
    "ax2.set_ylabel('Number of seats purchased')"
   ]
  },
  {
   "cell_type": "markdown",
   "metadata": {},
   "source": [
    "Average cost per ticket."
   ]
  },
  {
   "cell_type": "code",
   "execution_count": 11,
   "metadata": {
    "collapsed": false
   },
   "outputs": [
    {
     "data": {
      "text/plain": [
       "<matplotlib.text.Text at 0x215d50b8>"
      ]
     },
     "execution_count": 11,
     "metadata": {},
     "output_type": "execute_result"
    },
    {
     "data": {
      "image/png": "[encoded data removed]",
      "text/plain": [
       "<matplotlib.figure.Figure at 0x23440b70>"
      ]
     },
     "metadata": {},
     "output_type": "display_data"
    }
   ],
   "source": [
    "f, (ax1, ax2) = plt.subplots(2, 1, figsize=(8, 6), sharex=False)\n",
    "\n",
    "plt.suptitle('Average Cost Per Ticket',fontsize=15)\n",
    "\n",
    "df_label.per_seat.groupby(df_label.zip_code_len).mean().plot(kind='bar', ax=ax1)\n",
    "ax1.set_xlabel('Length of zip code')\n",
    "ax1.set_ylabel('Average cost per ticket')\n",
    "\n",
    "df_label.per_seat.groupby(df_label.rough_area).mean().plot(kind='bar', ax=ax2)\n",
    "ax2.set_xlabel('Area')\n",
    "ax2.set_ylabel('Average cost per ticket')"
   ]
  },
  {
   "cell_type": "markdown",
   "metadata": {},
   "source": [
    "US people tend to buy slightly more expensive tickets, but zip code with length 1 and 3 buy most expensive tickets on average."
   ]
  },
  {
   "cell_type": "markdown",
   "metadata": {},
   "source": [
    "### Preferences for different areas' people\n",
    "\n",
    "People from different area may have different preferences in their taste, purchase method, subscription, etc. Next, I will explore this aspect"
   ]
  },
  {
   "cell_type": "code",
   "execution_count": 12,
   "metadata": {
    "collapsed": true
   },
   "outputs": [],
   "source": [
    "def log_sum(x):\n",
    "    return np.log2(x.sum())"
   ]
  },
  {
   "cell_type": "code",
   "execution_count": 13,
   "metadata": {
    "collapsed": false
   },
   "outputs": [
    {
     "data": {
      "text/plain": [
       "<matplotlib.text.Text at 0x23763940>"
      ]
     },
     "execution_count": 13,
     "metadata": {},
     "output_type": "execute_result"
    },
    {
     "data": {
      "image/png": "[encoded data removed]",
      "text/plain": [
       "<matplotlib.figure.Figure at 0x23221358>"
      ]
     },
     "metadata": {},
     "output_type": "display_data"
    }
   ],
   "source": [
    "x = df_label.pivot_table('num_seats', index='zip_code_len', columns='label', aggfunc=log_sum)\n",
    "x = x.rename(columns={0: 'jazz', 1: 'choral', 2: 'theatre', 3: 'dance', 4: 'chamber', 5: 'orchestra', 6: 'other', 7: 'opera', \n",
    "                  8: 'soloist'})\n",
    "plt.figure(figsize=(10, 8))\n",
    "plt.title('Total tickets amount (log) for different topics and zip code lengths', fontsize=15)\n",
    "sns.heatmap(x, annot=True, fmt='.2f',linewidths=.5)\n",
    "plt.xlabel('Topic')\n",
    "plt.ylabel('Zip code length')"
   ]
  },
  {
   "cell_type": "code",
   "execution_count": 14,
   "metadata": {
    "collapsed": false
   },
   "outputs": [
    {
     "data": {
      "text/plain": [
       "<matplotlib.text.Text at 0x1a24f6d8>"
      ]
     },
     "execution_count": 14,
     "metadata": {},
     "output_type": "execute_result"
    },
    {
     "data": {
      "image/png": "[encoded data removed]",
      "text/plain": [
       "<matplotlib.figure.Figure at 0x1a4c5470>"
      ]
     },
     "metadata": {},
     "output_type": "display_data"
    }
   ],
   "source": [
    "x = df_label.pivot_table('num_seats', index='rough_area', columns='label', aggfunc='sum')\n",
    "x = x.rename(columns={0: 'jazz', 1: 'choral', 2: 'theatre', 3: 'dance', 4: 'chamber', 5: 'orchestra', 6: 'other', 7: 'opera', \n",
    "                  8: 'soloist'})\n",
    "f, axes = plt.subplots(1,3, figsize=[15, 6])\n",
    "plt.suptitle('Total Number of Tickets Purchased', fontsize=15)\n",
    "for i, area in enumerate(x.index):\n",
    "    x.ix[area].plot(kind='bar', ax=axes[i])\n",
    "    axes[i].set_xlabel(area)\n",
    "axes[0].set_ylabel('Total seats purchased')"
   ]
  },
  {
   "cell_type": "code",
   "execution_count": 15,
   "metadata": {
    "collapsed": false
   },
   "outputs": [
    {
     "data": {
      "text/plain": [
       "<matplotlib.text.Text at 0x1a258898>"
      ]
     },
     "execution_count": 15,
     "metadata": {},
     "output_type": "execute_result"
    },
    {
     "data": {
      "image/png": "[encoded data removed]",
      "text/plain": [
       "<matplotlib.figure.Figure at 0x2106a278>"
      ]
     },
     "metadata": {},
     "output_type": "display_data"
    }
   ],
   "source": [
    "x = df_label.pivot_table('tck_amt', index='rough_area', columns='label', aggfunc='sum')\n",
    "x = x.rename(columns={0: 'jazz', 1: 'choral', 2: 'theatre', 3: 'dance', 4: 'chamber', 5: 'orchestra', 6: 'other', 7: 'opera', \n",
    "                  8: 'soloist'})\n",
    "f, axes = plt.subplots(1,3, figsize=[15, 6])\n",
    "plt.suptitle('Total Amount Purchased', fontsize=15)\n",
    "for i, area in enumerate(x.index):\n",
    "    x.ix[area].plot(kind='bar', ax=axes[i])\n",
    "    axes[i].set_xlabel(area)\n",
    "axes[0].set_ylabel('Total amount purchased')"
   ]
  },
  {
   "cell_type": "code",
   "execution_count": 16,
   "metadata": {
    "collapsed": false
   },
   "outputs": [
    {
     "data": {
      "text/plain": [
       "<matplotlib.axes._subplots.AxesSubplot at 0x2177e898>"
      ]
     },
     "execution_count": 16,
     "metadata": {},
     "output_type": "execute_result"
    },
    {
     "data": {
      "image/png": "[encoded data removed]",
      "text/plain": [
       "<matplotlib.figure.Figure at 0x235a12b0>"
      ]
     },
     "metadata": {},
     "output_type": "display_data"
    }
   ],
   "source": [
    "x = df_label.pivot_table('per_seat', index='label', columns='rough_area', aggfunc='mean')\n",
    "x = x.rename(index={0: 'jazz', 1: 'choral', 2: 'theatre', 3: 'dance', 4: 'chamber', 5: 'orchestra', 6: 'other', 7: 'opera', \n",
    "                  8: 'soloist'})\n",
    "x.plot(kind='bar', figsize=(8, 5), title='Average Cost Per Ticket', fontsize=12)"
   ]
  },
  {
   "cell_type": "markdown",
   "metadata": {},
   "source": [
    "US people tend to spend more on tickets."
   ]
  },
  {
   "cell_type": "code",
   "execution_count": 17,
   "metadata": {
    "collapsed": false
   },
   "outputs": [
    {
     "data": {
      "text/plain": [
       "<matplotlib.text.Text at 0x2544a3c8>"
      ]
     },
     "execution_count": 17,
     "metadata": {},
     "output_type": "execute_result"
    },
    {
     "data": {
      "image/png": "[encoded data removed]",
      "text/plain": [
       "<matplotlib.figure.Figure at 0x20ea7f98>"
      ]
     },
     "metadata": {},
     "output_type": "display_data"
    }
   ],
   "source": [
    "x = df_label.pivot_table('num_seats', index='rough_area', columns='sales_channel', aggfunc='sum')\n",
    "\n",
    "f, axes = plt.subplots(1,3, figsize=[15, 6])\n",
    "plt.suptitle('Total Seats Purchased', fontsize=15)\n",
    "for i, area in enumerate(x.index):\n",
    "    x.ix[area].plot(kind='bar', ax=axes[i])\n",
    "    axes[i].set_xlabel(area)\n",
    "axes[0].set_ylabel('Total seats purchased')"
   ]
  },
  {
   "cell_type": "markdown",
   "metadata": {},
   "source": [
    "### More analysis on US purchases"
   ]
  },
  {
   "cell_type": "code",
   "execution_count": 18,
   "metadata": {
    "collapsed": true
   },
   "outputs": [],
   "source": [
    "zipcode_db = pd.read_csv('zip_code_database.csv')"
   ]
  },
  {
   "cell_type": "code",
   "execution_count": 19,
   "metadata": {
    "collapsed": true
   },
   "outputs": [],
   "source": [
    "df_label_US = df_label.ix[df_label.zip_code_len==5]"
   ]
  },
  {
   "cell_type": "code",
   "execution_count": 20,
   "metadata": {
    "collapsed": false
   },
   "outputs": [
    {
     "data": {
      "text/html": [
       "<div>\n",
       "<table border=\"1\" class=\"dataframe\">\n",
       "  <thead>\n",
       "    <tr style=\"text-align: right;\">\n",
       "      <th></th>\n",
       "      <th>UMS_acct_no</th>\n",
       "      <th>acct_created</th>\n",
       "      <th>cust_type</th>\n",
       "      <th>perf_name</th>\n",
       "      <th>perf_dt</th>\n",
       "      <th>tck_amt</th>\n",
       "      <th>num_seats</th>\n",
       "      <th>venue</th>\n",
       "      <th>price_type</th>\n",
       "      <th>price_type_group</th>\n",
       "      <th>mode_of_sale</th>\n",
       "      <th>sales_channel</th>\n",
       "      <th>order_dt</th>\n",
       "      <th>postal_code</th>\n",
       "      <th>per_seat</th>\n",
       "      <th>description</th>\n",
       "      <th>label</th>\n",
       "      <th>zip_code</th>\n",
       "      <th>rough_area</th>\n",
       "      <th>zip_code_len</th>\n",
       "    </tr>\n",
       "  </thead>\n",
       "  <tbody>\n",
       "    <tr>\n",
       "      <th>55408</th>\n",
       "      <td>209839</td>\n",
       "      <td>2011-12-31 14:23:38.467</td>\n",
       "      <td>Individual</td>\n",
       "      <td>Einstein on the Beac</td>\n",
       "      <td>2012-01-21 19:00:00.000</td>\n",
       "      <td>54.0</td>\n",
       "      <td>1</td>\n",
       "      <td>Power Center</td>\n",
       "      <td>Adult inc 1</td>\n",
       "      <td>Regular Prices</td>\n",
       "      <td>Web - UMS - Single</td>\n",
       "      <td>Web-TNEW</td>\n",
       "      <td>2011-12-31 14:20:58.480</td>\n",
       "      <td>667</td>\n",
       "      <td>54.0</td>\n",
       "      <td>“The most beautiful thing we can experience is...</td>\n",
       "      <td>7</td>\n",
       "      <td>667</td>\n",
       "      <td>OTHER</td>\n",
       "      <td>3</td>\n",
       "    </tr>\n",
       "  </tbody>\n",
       "</table>\n",
       "</div>"
      ],
      "text/plain": [
       "       UMS_acct_no             acct_created   cust_type             perf_name  \\\n",
       "55408       209839  2011-12-31 14:23:38.467  Individual  Einstein on the Beac   \n",
       "\n",
       "                       perf_dt  tck_amt  num_seats         venue   price_type  \\\n",
       "55408  2012-01-21 19:00:00.000     54.0          1  Power Center  Adult inc 1   \n",
       "\n",
       "      price_type_group        mode_of_sale sales_channel  \\\n",
       "55408   Regular Prices  Web - UMS - Single      Web-TNEW   \n",
       "\n",
       "                      order_dt postal_code  per_seat  \\\n",
       "55408  2011-12-31 14:20:58.480         667      54.0   \n",
       "\n",
       "                                             description  label zip_code  \\\n",
       "55408  “The most beautiful thing we can experience is...      7      667   \n",
       "\n",
       "      rough_area  zip_code_len  \n",
       "55408      OTHER             3  "
      ]
     },
     "execution_count": 20,
     "metadata": {},
     "output_type": "execute_result"
    }
   ],
   "source": [
    "# turns out the 3 digit zip code just has one record, maybe we can just ignore it\n",
    "df_label.ix[df_label.zip_code_len==3]"
   ]
  },
  {
   "cell_type": "code",
   "execution_count": 22,
   "metadata": {
    "collapsed": true
   },
   "outputs": [],
   "source": [
    "def find_latitude(zipcode):\n",
    "    return zipcode_db.ix[zipcode_db.zip==int(zipcode)].latitude\n",
    "def find_longitude(zipcode):\n",
    "    return izpcode_db.ix[zipcode_db.zp==int(zipcode)].longitude"
   ]
  },
  {
   "cell_type": "code",
   "execution_count": 21,
   "metadata": {
    "collapsed": false
   },
   "outputs": [
    {
     "data": {
      "text/html": [
       "<div>\n",
       "<table border=\"1\" class=\"dataframe\">\n",
       "  <thead>\n",
       "    <tr style=\"text-align: right;\">\n",
       "      <th></th>\n",
       "      <th>zip_code</th>\n",
       "      <th>type</th>\n",
       "      <th>primary_city</th>\n",
       "      <th>acceptable_cities</th>\n",
       "      <th>unacceptable_cities</th>\n",
       "      <th>state</th>\n",
       "      <th>county</th>\n",
       "      <th>timezone</th>\n",
       "      <th>area_codes</th>\n",
       "      <th>latitude</th>\n",
       "      <th>longitude</th>\n",
       "      <th>world_region</th>\n",
       "      <th>country</th>\n",
       "      <th>decommissioned</th>\n",
       "      <th>estimated_population</th>\n",
       "      <th>notes</th>\n",
       "    </tr>\n",
       "  </thead>\n",
       "  <tbody>\n",
       "    <tr>\n",
       "      <th>0</th>\n",
       "      <td>544</td>\n",
       "      <td>UNIQUE</td>\n",
       "      <td>Holtsville</td>\n",
       "      <td>NaN</td>\n",
       "      <td>Irs Service Center</td>\n",
       "      <td>NY</td>\n",
       "      <td>Suffolk County</td>\n",
       "      <td>America/New_York</td>\n",
       "      <td>631</td>\n",
       "      <td>40.81</td>\n",
       "      <td>-73.04</td>\n",
       "      <td>NaN</td>\n",
       "      <td>US</td>\n",
       "      <td>0</td>\n",
       "      <td>0</td>\n",
       "      <td>NaN</td>\n",
       "    </tr>\n",
       "    <tr>\n",
       "      <th>1</th>\n",
       "      <td>601</td>\n",
       "      <td>STANDARD</td>\n",
       "      <td>Adjuntas</td>\n",
       "      <td>NaN</td>\n",
       "      <td>Colinas Del Gigante, Jard De Adjuntas, Urb San...</td>\n",
       "      <td>PR</td>\n",
       "      <td>Adjuntas</td>\n",
       "      <td>America/Puerto_Rico</td>\n",
       "      <td>787,939</td>\n",
       "      <td>18.16</td>\n",
       "      <td>-66.72</td>\n",
       "      <td>NaN</td>\n",
       "      <td>US</td>\n",
       "      <td>0</td>\n",
       "      <td>0</td>\n",
       "      <td>NaN</td>\n",
       "    </tr>\n",
       "    <tr>\n",
       "      <th>2</th>\n",
       "      <td>602</td>\n",
       "      <td>STANDARD</td>\n",
       "      <td>Aguada</td>\n",
       "      <td>NaN</td>\n",
       "      <td>Alts De Aguada, Bo Guaniquilla, Comunidad Las ...</td>\n",
       "      <td>PR</td>\n",
       "      <td>NaN</td>\n",
       "      <td>NaN</td>\n",
       "      <td>787,939</td>\n",
       "      <td>18.38</td>\n",
       "      <td>-67.18</td>\n",
       "      <td>NaN</td>\n",
       "      <td>US</td>\n",
       "      <td>0</td>\n",
       "      <td>0</td>\n",
       "      <td>NaN</td>\n",
       "    </tr>\n",
       "    <tr>\n",
       "      <th>3</th>\n",
       "      <td>603</td>\n",
       "      <td>STANDARD</td>\n",
       "      <td>Aguadilla</td>\n",
       "      <td>Ramey</td>\n",
       "      <td>Bda Caban, Bda Esteves, Bo Borinquen, Bo Ceiba...</td>\n",
       "      <td>PR</td>\n",
       "      <td>Aguadilla</td>\n",
       "      <td>America/Puerto_Rico</td>\n",
       "      <td>787</td>\n",
       "      <td>18.43</td>\n",
       "      <td>-67.15</td>\n",
       "      <td>NaN</td>\n",
       "      <td>US</td>\n",
       "      <td>0</td>\n",
       "      <td>0</td>\n",
       "      <td>NaN</td>\n",
       "    </tr>\n",
       "    <tr>\n",
       "      <th>4</th>\n",
       "      <td>604</td>\n",
       "      <td>PO BOX</td>\n",
       "      <td>Aguadilla</td>\n",
       "      <td>Ramey</td>\n",
       "      <td>NaN</td>\n",
       "      <td>PR</td>\n",
       "      <td>NaN</td>\n",
       "      <td>NaN</td>\n",
       "      <td>NaN</td>\n",
       "      <td>18.43</td>\n",
       "      <td>-67.15</td>\n",
       "      <td>NaN</td>\n",
       "      <td>US</td>\n",
       "      <td>0</td>\n",
       "      <td>0</td>\n",
       "      <td>NaN</td>\n",
       "    </tr>\n",
       "  </tbody>\n",
       "</table>\n",
       "</div>"
      ],
      "text/plain": [
       "   zip_code      type primary_city acceptable_cities  \\\n",
       "0       544    UNIQUE   Holtsville               NaN   \n",
       "1       601  STANDARD     Adjuntas               NaN   \n",
       "2       602  STANDARD       Aguada               NaN   \n",
       "3       603  STANDARD    Aguadilla             Ramey   \n",
       "4       604    PO BOX    Aguadilla             Ramey   \n",
       "\n",
       "                                 unacceptable_cities state          county  \\\n",
       "0                                 Irs Service Center    NY  Suffolk County   \n",
       "1  Colinas Del Gigante, Jard De Adjuntas, Urb San...    PR        Adjuntas   \n",
       "2  Alts De Aguada, Bo Guaniquilla, Comunidad Las ...    PR             NaN   \n",
       "3  Bda Caban, Bda Esteves, Bo Borinquen, Bo Ceiba...    PR       Aguadilla   \n",
       "4                                                NaN    PR             NaN   \n",
       "\n",
       "              timezone area_codes  latitude  longitude world_region country  \\\n",
       "0     America/New_York        631     40.81     -73.04          NaN      US   \n",
       "1  America/Puerto_Rico    787,939     18.16     -66.72          NaN      US   \n",
       "2                  NaN    787,939     18.38     -67.18          NaN      US   \n",
       "3  America/Puerto_Rico        787     18.43     -67.15          NaN      US   \n",
       "4                  NaN        NaN     18.43     -67.15          NaN      US   \n",
       "\n",
       "   decommissioned  estimated_population notes  \n",
       "0               0                     0   NaN  \n",
       "1               0                     0   NaN  \n",
       "2               0                     0   NaN  \n",
       "3               0                     0   NaN  \n",
       "4               0                     0   NaN  "
      ]
     },
     "execution_count": 21,
     "metadata": {},
     "output_type": "execute_result"
    }
   ],
   "source": [
    "zipcode_db = zipcode_db.rename(columns={'zip':'zip_code'})\n",
    "zipcode_db.head()"
   ]
  },
  {
   "cell_type": "code",
   "execution_count": 23,
   "metadata": {
    "collapsed": false
   },
   "outputs": [
    {
     "name": "stderr",
     "output_type": "stream",
     "text": [
      "c:\\Users\\Xinyu\\Anaconda\\lib\\site-packages\\pandas\\core\\generic.py:2698: SettingWithCopyWarning: \n",
      "A value is trying to be set on a copy of a slice from a DataFrame.\n",
      "Try using .loc[row_indexer,col_indexer] = value instead\n",
      "\n",
      "See the caveats in the documentation: http://pandas.pydata.org/pandas-docs/stable/indexing.html#indexing-view-versus-copy\n",
      "  self[name] = value\n"
     ]
    },
    {
     "data": {
      "text/html": [
       "<div>\n",
       "<table border=\"1\" class=\"dataframe\">\n",
       "  <thead>\n",
       "    <tr style=\"text-align: right;\">\n",
       "      <th></th>\n",
       "      <th>UMS_acct_no</th>\n",
       "      <th>acct_created</th>\n",
       "      <th>cust_type</th>\n",
       "      <th>perf_name</th>\n",
       "      <th>perf_dt</th>\n",
       "      <th>tck_amt</th>\n",
       "      <th>num_seats</th>\n",
       "      <th>venue</th>\n",
       "      <th>price_type</th>\n",
       "      <th>price_type_group</th>\n",
       "      <th>...</th>\n",
       "      <th>county</th>\n",
       "      <th>timezone</th>\n",
       "      <th>area_codes</th>\n",
       "      <th>latitude</th>\n",
       "      <th>longitude</th>\n",
       "      <th>world_region</th>\n",
       "      <th>country</th>\n",
       "      <th>decommissioned</th>\n",
       "      <th>estimated_population</th>\n",
       "      <th>notes</th>\n",
       "    </tr>\n",
       "  </thead>\n",
       "  <tbody>\n",
       "    <tr>\n",
       "      <th>0</th>\n",
       "      <td>1111</td>\n",
       "      <td>1979-08-06 00:00:00.000</td>\n",
       "      <td>Household</td>\n",
       "      <td>The Infernal Comedy</td>\n",
       "      <td>2011-10-01 20:00:00.000</td>\n",
       "      <td>112.0</td>\n",
       "      <td>2</td>\n",
       "      <td>Hill Auditorium</td>\n",
       "      <td>Choral Union</td>\n",
       "      <td>Subs Prices</td>\n",
       "      <td>...</td>\n",
       "      <td>Washtenaw County</td>\n",
       "      <td>America/Detroit</td>\n",
       "      <td>734</td>\n",
       "      <td>42.27</td>\n",
       "      <td>-83.73</td>\n",
       "      <td>NaN</td>\n",
       "      <td>US</td>\n",
       "      <td>0</td>\n",
       "      <td>44859</td>\n",
       "      <td>NaN</td>\n",
       "    </tr>\n",
       "    <tr>\n",
       "      <th>1</th>\n",
       "      <td>1217</td>\n",
       "      <td>1988-02-10 00:00:00.000</td>\n",
       "      <td>Household</td>\n",
       "      <td>The Infernal Comedy</td>\n",
       "      <td>2011-10-01 20:00:00.000</td>\n",
       "      <td>74.0</td>\n",
       "      <td>2</td>\n",
       "      <td>Hill Auditorium</td>\n",
       "      <td>Choral Union</td>\n",
       "      <td>Subs Prices</td>\n",
       "      <td>...</td>\n",
       "      <td>Washtenaw County</td>\n",
       "      <td>America/Detroit</td>\n",
       "      <td>734</td>\n",
       "      <td>42.27</td>\n",
       "      <td>-83.73</td>\n",
       "      <td>NaN</td>\n",
       "      <td>US</td>\n",
       "      <td>0</td>\n",
       "      <td>44859</td>\n",
       "      <td>NaN</td>\n",
       "    </tr>\n",
       "    <tr>\n",
       "      <th>2</th>\n",
       "      <td>1306</td>\n",
       "      <td>1988-02-10 00:00:00.000</td>\n",
       "      <td>Household</td>\n",
       "      <td>The Infernal Comedy</td>\n",
       "      <td>2011-10-01 20:00:00.000</td>\n",
       "      <td>136.0</td>\n",
       "      <td>2</td>\n",
       "      <td>Hill Auditorium</td>\n",
       "      <td>Choral Union</td>\n",
       "      <td>Subs Prices</td>\n",
       "      <td>...</td>\n",
       "      <td>Washtenaw County</td>\n",
       "      <td>America/Detroit</td>\n",
       "      <td>734</td>\n",
       "      <td>42.27</td>\n",
       "      <td>-83.73</td>\n",
       "      <td>NaN</td>\n",
       "      <td>US</td>\n",
       "      <td>0</td>\n",
       "      <td>44859</td>\n",
       "      <td>NaN</td>\n",
       "    </tr>\n",
       "  </tbody>\n",
       "</table>\n",
       "<p>3 rows × 35 columns</p>\n",
       "</div>"
      ],
      "text/plain": [
       "   UMS_acct_no             acct_created  cust_type            perf_name  \\\n",
       "0         1111  1979-08-06 00:00:00.000  Household  The Infernal Comedy   \n",
       "1         1217  1988-02-10 00:00:00.000  Household  The Infernal Comedy   \n",
       "2         1306  1988-02-10 00:00:00.000  Household  The Infernal Comedy   \n",
       "\n",
       "                   perf_dt  tck_amt  num_seats            venue    price_type  \\\n",
       "0  2011-10-01 20:00:00.000    112.0          2  Hill Auditorium  Choral Union   \n",
       "1  2011-10-01 20:00:00.000     74.0          2  Hill Auditorium  Choral Union   \n",
       "2  2011-10-01 20:00:00.000    136.0          2  Hill Auditorium  Choral Union   \n",
       "\n",
       "  price_type_group  ...              county         timezone area_codes  \\\n",
       "0      Subs Prices  ...    Washtenaw County  America/Detroit        734   \n",
       "1      Subs Prices  ...    Washtenaw County  America/Detroit        734   \n",
       "2      Subs Prices  ...    Washtenaw County  America/Detroit        734   \n",
       "\n",
       "  latitude  longitude world_region  country  decommissioned  \\\n",
       "0    42.27     -83.73          NaN       US               0   \n",
       "1    42.27     -83.73          NaN       US               0   \n",
       "2    42.27     -83.73          NaN       US               0   \n",
       "\n",
       "  estimated_population  notes  \n",
       "0                44859    NaN  \n",
       "1                44859    NaN  \n",
       "2                44859    NaN  \n",
       "\n",
       "[3 rows x 35 columns]"
      ]
     },
     "execution_count": 23,
     "metadata": {},
     "output_type": "execute_result"
    }
   ],
   "source": [
    "df_label_US.zip_code = df_label_US.zip_code.apply(lambda x: int(x))\n",
    "df_label_US = df_label_US.merge(zipcode_db, on='zip_code')\n",
    "df_label_US.head(3)"
   ]
  },
  {
   "cell_type": "code",
   "execution_count": 24,
   "metadata": {
    "collapsed": false
   },
   "outputs": [],
   "source": [
    "tck_amt_zip_code = df_label_US.num_seats.groupby(df_label_US.zip_code).sum()"
   ]
  },
  {
   "cell_type": "code",
   "execution_count": 25,
   "metadata": {
    "collapsed": false
   },
   "outputs": [
    {
     "data": {
      "text/plain": [
       "2161"
      ]
     },
     "execution_count": 25,
     "metadata": {},
     "output_type": "execute_result"
    }
   ],
   "source": [
    "len(tck_amt_zip_code)"
   ]
  },
  {
   "cell_type": "code",
   "execution_count": 26,
   "metadata": {
    "collapsed": false
   },
   "outputs": [
    {
     "data": {
      "text/plain": [
       "37734"
      ]
     },
     "execution_count": 26,
     "metadata": {},
     "output_type": "execute_result"
    }
   ],
   "source": [
    "tck_amt_zip_code[48104]"
   ]
  },
  {
   "cell_type": "code",
   "execution_count": 27,
   "metadata": {
    "collapsed": false
   },
   "outputs": [],
   "source": [
    "import folium\n",
    "from folium import plugins\n",
    "from folium.element import IFrame"
   ]
  },
  {
   "cell_type": "code",
   "execution_count": 29,
   "metadata": {
    "collapsed": false
   },
   "outputs": [
    {
     "data": {
      "text/plain": [
       "Index([u'UMS_acct_no', u'acct_created', u'cust_type', u'perf_name', u'perf_dt',\n",
       "       u'tck_amt', u'num_seats', u'venue', u'price_type', u'price_type_group',\n",
       "       u'mode_of_sale', u'sales_channel', u'order_dt', u'postal_code',\n",
       "       u'per_seat', u'description', u'label', u'zip_code', u'rough_area',\n",
       "       u'zip_code_len', u'type', u'primary_city', u'acceptable_cities',\n",
       "       u'unacceptable_cities', u'state', u'county', u'timezone', u'area_codes',\n",
       "       u'latitude', u'longitude', u'world_region', u'country',\n",
       "       u'decommissioned', u'estimated_population', u'notes'],\n",
       "      dtype='object')"
      ]
     },
     "execution_count": 29,
     "metadata": {},
     "output_type": "execute_result"
    }
   ],
   "source": [
    "df_label_US.columns"
   ]
  },
  {
   "cell_type": "code",
   "execution_count": 67,
   "metadata": {
    "collapsed": false
   },
   "outputs": [],
   "source": [
    "geo_data = []\n",
    "pop_ups = []\n",
    "data = []\n",
    "for unique_zc in df_label_US.zip_code.unique():\n",
    "    geo_data.append([zipcode_db.ix[zipcode_db.zip_code==unique_zc, 'latitude'].tolist()[0],\n",
    "                 zipcode_db.ix[zipcode_db.zip_code==unique_zc, 'longitude'].tolist()[0]])\n",
    "    pop_ups.append(tck_amt_zip_code[unique_zc])\n",
    "    data.append([zipcode_db.ix[zipcode_db.zip_code==unique_zc, 'latitude'].tolist()[0],\n",
    "                 zipcode_db.ix[zipcode_db.zip_code==unique_zc, 'longitude'].tolist()[0],\n",
    "                 tck_amt_zip_code[unique_zc]])"
   ]
  },
  {
   "cell_type": "code",
   "execution_count": 47,
   "metadata": {
    "collapsed": false
   },
   "outputs": [
    {
     "data": {
      "text/plain": [
       "[42.270000000000003, -83.730000000000004, 35675]"
      ]
     },
     "execution_count": 47,
     "metadata": {},
     "output_type": "execute_result"
    }
   ],
   "source": [
    "data[0]"
   ]
  },
  {
   "cell_type": "code",
   "execution_count": 72,
   "metadata": {
    "collapsed": false,
    "scrolled": true
   },
   "outputs": [
    {
     "name": "stderr",
     "output_type": "stream",
     "text": [
      "c:\\Users\\Xinyu\\Anaconda\\lib\\site-packages\\ipykernel\\__main__.py:4: FutureWarning: Map.create_map is deprecated. Use Map.save instead\n"
     ]
    }
   ],
   "source": [
    "mapa = folium.Map(location=[42, -85], zoom_start=3)\n",
    "mapa.add_children(plugins.MarkerCluster(locations=geo_data))\n",
    "mapa\n",
    "mapa.create_map(path='Where are the customers from.html')"
   ]
  },
  {
   "cell_type": "code",
   "execution_count": 70,
   "metadata": {
    "collapsed": false
   },
   "outputs": [
    {
     "name": "stderr",
     "output_type": "stream",
     "text": [
      "c:\\Users\\Xinyu\\Anaconda\\lib\\site-packages\\ipykernel\\__main__.py:4: FutureWarning: Map.create_map is deprecated. Use Map.save instead\n"
     ]
    }
   ],
   "source": [
    "mapa_2 = folium.Map(location=[42, -85], zoom_start=3)\n",
    "mapa_2.add_children(plugins.HeatMap(data))\n",
    "mapa_2\n",
    "mapa_2.create_map(path='Number of tickets purchased across the country.html')"
   ]
  },
  {
   "cell_type": "markdown",
   "metadata": {
    "collapsed": true
   },
   "source": [
    "## Explore a little bit more about area preference\n",
    "\n",
    "One hypothsis I have is that the account with zipcode outside michigan was students. So our first plot will be testing this hypothesis."
   ]
  },
  {
   "cell_type": "code",
   "execution_count": 42,
   "metadata": {
    "collapsed": false
   },
   "outputs": [],
   "source": [
    "## drawing heatmap for student tickts and others\n",
    "student_group = df_label_US.ix[df_label_US.price_type_group == 'Student Prices']\n",
    "other_group = df_label_US.ix[df_label_US.price_type_group != 'Student Prices']\n",
    "\n",
    "tck_amt_student = student_group.tck_amt.groupby(student_group.zip_code).sum()\n",
    "tck_amt_other = other_group.tck_amt.groupby(other_group.zip_code).sum()\n",
    "\n",
    "\n",
    "student_data = []\n",
    "other_data = []\n",
    "for unique_zc in student_group.zip_code.unique():\n",
    "    student_data.append([zipcode_db.ix[zipcode_db.zip_code==unique_zc, 'latitude'].tolist()[0],\n",
    "                    zipcode_db.ix[zipcode_db.zip_code==unique_zc, 'longitude'].tolist()[0],\n",
    "                    tck_amt_student[unique_zc]])\n",
    "\n",
    "for unique_zc in other_group.zip_code.unique():\n",
    "    other_data.append([zipcode_db.ix[zipcode_db.zip_code==unique_zc, 'latitude'].tolist()[0],\n",
    "                    zipcode_db.ix[zipcode_db.zip_code==unique_zc, 'longitude'].tolist()[0],\n",
    "                    tck_amt_other[unique_zc]])"
   ]
  },
  {
   "cell_type": "code",
   "execution_count": 43,
   "metadata": {
    "collapsed": false
   },
   "outputs": [
    {
     "name": "stderr",
     "output_type": "stream",
     "text": [
      "c:\\Users\\Xinyu\\Anaconda\\lib\\site-packages\\ipykernel\\__main__.py:4: FutureWarning: Map.create_map is deprecated. Use Map.save instead\n"
     ]
    }
   ],
   "source": [
    "mapa_student = folium.Map(location=[42, -85], zoom_start=3)\n",
    "mapa_student.add_children(plugins.HeatMap(student_data))\n",
    "mapa_student\n",
    "mapa_student.create_map(path='Number of student tickets purchased across the country.html')"
   ]
  },
  {
   "cell_type": "code",
   "execution_count": 44,
   "metadata": {
    "collapsed": false
   },
   "outputs": [
    {
     "name": "stderr",
     "output_type": "stream",
     "text": [
      "c:\\Users\\Xinyu\\Anaconda\\lib\\site-packages\\ipykernel\\__main__.py:3: FutureWarning: Map.create_map is deprecated. Use Map.save instead\n",
      "  app.launch_new_instance()\n"
     ]
    }
   ],
   "source": [
    "mapa_other = folium.Map(location=[42, -85], zoom_start=3)\n",
    "mapa_other.add_children(plugins.HeatMap(other_data))\n",
    "mapa_student.create_map(path='Number of other type of tickets purchased across the country.html')"
   ]
  }
 ],
 "metadata": {
  "kernelspec": {
   "display_name": "Python 2",
   "language": "python",
   "name": "python2"
  },
  "language_info": {
   "codemirror_mode": {
    "name": "ipython",
    "version": 2
   },
   "file_extension": ".py",
   "mimetype": "text/x-python",
   "name": "python",
   "nbconvert_exporter": "python",
   "pygments_lexer": "ipython2",
   "version": "2.7.11"
  }
 },
 "nbformat": 4,
 "nbformat_minor": 0
}
