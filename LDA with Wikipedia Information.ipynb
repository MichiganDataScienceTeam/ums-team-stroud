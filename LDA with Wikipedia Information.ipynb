{
 "cells": [
  {
   "cell_type": "code",
   "execution_count": 99,
   "metadata": {
    "collapsed": false
   },
   "outputs": [],
   "source": [
    "%matplotlib inline\n",
    "\n",
    "import wikipedia\n",
    "import pandas as pd\n",
    "import numpy as np\n",
    "import matplotlib.pyplot as plt\n",
    "import re\n",
    "import copy\n",
    "from collections import Counter\n",
    "\n",
    "from sklearn.metrics.pairwise import cosine_similarity\n",
    "from sklearn.feature_extraction.text import CountVectorizer, ENGLISH_STOP_WORDS\n",
    "from sklearn.decomposition import LatentDirichletAllocation\n",
    "from sklearn.manifold import MDS\n",
    "from sklearn.cluster import KMeans\n",
    "\n",
    "from IPython.display import Image\n",
    "\n",
    "import nltk\n",
    "from nltk.stem.snowball import SnowballStemmer"
   ]
  },
  {
   "cell_type": "code",
   "execution_count": 2,
   "metadata": {
    "collapsed": true
   },
   "outputs": [],
   "source": [
    "stemmer = SnowballStemmer('english')\n",
    "\n",
    "# tokenize words in docs\n",
    "def tokenize_and_stem(text):\n",
    "    # first tokenize by sentence, then by word to ensure that punctuation is caught as it's own token\n",
    "    tokens = [word for sent in nltk.sent_tokenize(text) for word in nltk.word_tokenize(sent)]\n",
    "    filtered_tokens = []\n",
    "    # filter out any tokens not containing letters (e.g., numeric tokens, raw punctuation)\n",
    "    for token in tokens:\n",
    "        if re.search('[a-zA-Z]', token):\n",
    "            filtered_tokens.append(token)\n",
    "    stems = [stemmer.stem(t) for t in filtered_tokens]\n",
    "    return stems"
   ]
  },
  {
   "cell_type": "code",
   "execution_count": 3,
   "metadata": {
    "collapsed": false
   },
   "outputs": [],
   "source": [
    "#because my version of pandas is different than the version that descriptions.pkl was created with\n",
    "with open(\"descriptions.txt\") as desc:\n",
    "    descriptions = desc.readlines()\n",
    "titles = []\n",
    "descs = []\n",
    "tempDesc = ''\n",
    "for description in descriptions:\n",
    "    if description[0].isnumeric():\n",
    "        titles.append(description[4:-1])\n",
    "    elif description == '\\n':\n",
    "        descs.append(tempDesc)\n",
    "        tempDesc = ''\n",
    "    else:\n",
    "        tempDesc += description[:-1]\n",
    "descs.append(tempDesc)"
   ]
  },
  {
   "cell_type": "code",
   "execution_count": 80,
   "metadata": {
    "collapsed": false
   },
   "outputs": [
    {
     "data": {
      "text/plain": [
       "array(['War Horse', 'Cheikh Lo', 'Dave Holland', 'Gabriel Kahane',\n",
       "       'Suzhou Kun Troupe', 'Ensemble Basiani',\n",
       "       \"Jason Moran's Fats Waller Dance Party\", 'Dan Zanes and Friend',\n",
       "       'Max Raabe', 'Last of the Haussmans', 'Timon of Athens',\n",
       "       'Traveling Light', 'Colin Stetson', 'Fred Hersch Trio',\n",
       "       'One Night in Bamako', 'Alfredo Rodriguez', 'Beijing Guitar Duo',\n",
       "       'One Man, Two Gu', 'Frankenstein', 'The Kitchen',\n",
       "       'The Comedy of Errors', 'Mavericks All Access', 'People',\n",
       "       'This House', 'The Curious Incident of the Dog in the Night-Time',\n",
       "       'Coriolanus', 'Steve Lehman Octet', 'Asif Ali Khan', 'DC: Hubbard',\n",
       "       'FAM -Aspen Santa Fe', 'James Blake', \"Breakin' Curfew\", 'Fela!',\n",
       "       'DC: Ballet Preljocaj', 'Diego El Cigala', 'Usher Party'], dtype=object)"
      ]
     },
     "execution_count": 80,
     "metadata": {},
     "output_type": "execute_result"
    }
   ],
   "source": [
    "titles[108:]"
   ]
  },
  {
   "cell_type": "code",
   "execution_count": 4,
   "metadata": {
    "collapsed": false
   },
   "outputs": [],
   "source": [
    "titles = pd.read_csv(\"full_performance_names.csv\",header=None)\n",
    "titles = np.ravel(titles[[1]])"
   ]
  },
  {
   "cell_type": "code",
   "execution_count": 5,
   "metadata": {
    "collapsed": false
   },
   "outputs": [],
   "source": [
    "# Extract bigram matrix\n",
    "tokenizedDescs = []\n",
    "temp = [tokenize_and_stem(d) for d in descs]\n",
    "for desc in temp:\n",
    "    sb = \"\"\n",
    "    for s in desc:\n",
    "        sb += s\n",
    "        sb += \" \"\n",
    "    tokenizedDescs.append(sb)"
   ]
  },
  {
   "cell_type": "code",
   "execution_count": 6,
   "metadata": {
    "collapsed": false
   },
   "outputs": [
    {
     "name": "stdout",
     "output_type": "stream",
     "text": [
      "(144, 478)\n"
     ]
    }
   ],
   "source": [
    "vect = CountVectorizer(ngram_range=(1, 1), stop_words = ENGLISH_STOP_WORDS, min_df = 5)\n",
    "X = vect.fit_transform(tokenizedDescs)\n",
    "\n",
    "print(X.shape)"
   ]
  },
  {
   "cell_type": "code",
   "execution_count": 7,
   "metadata": {
    "collapsed": false
   },
   "outputs": [
    {
     "name": "stdout",
     "output_type": "stream",
     "text": [
      "Topic #0:\n",
      "jazz perform lincoln cultur center band orchestra music live world ensembl play program tradit audienc rich rang like new interpret\n",
      "Topic #1:\n",
      "music perform um new concert compos time work danc american year voic seat featur creat york ticket arbor ann best\n",
      "Topic #2:\n",
      "opera artist stage renegad quartet interpret fresh year classic veri experi contemporari human david intens richard man histori concert describ\n",
      "Topic #3:\n",
      "nation theatr london theater broadcast michigan present play partnership high compani definit new time ballet director work dancer win year\n",
      "Topic #4:\n",
      "perform danc centuri program return work age william art thing new ballet includ choreographi music compani night choreograph york make\n"
     ]
    }
   ],
   "source": [
    "#LDA\n",
    "lda = LatentDirichletAllocation(n_topics=5, max_iter=10)\n",
    "y = lda.fit_transform(X)\n",
    "\n",
    "def print_top_words(model, feature_names, n_top_words):\n",
    "    for topic_idx, topic in enumerate(model.components_):\n",
    "        print(\"Topic #%d:\" % topic_idx)\n",
    "        print(\" \".join([feature_names[i]\n",
    "                        for i in topic.argsort()[:-n_top_words - 1:-1]]))\n",
    "    print\n",
    "\n",
    "print_top_words(lda, vect.get_feature_names(), 20)"
   ]
  },
  {
   "cell_type": "code",
   "execution_count": 60,
   "metadata": {
    "collapsed": false
   },
   "outputs": [
    {
     "name": "stdout",
     "output_type": "stream",
     "text": [
      "The Infernal Comedy * Musica Angelica Baroque Orchestra\n",
      "Yuja Wang * Yuja Wang\n",
      "London Philharmonic * London Philharmonic Orchestra\n",
      "Hamburg Symphony * Hamburger Symphoniker\n",
      "Chicago Symphony Orchestra * Chicago Symphony Orchestra\n",
      "San Francisco Symphony * San Francisco Symphony\n",
      "Pavel Haas Quartet * Pavel Haas Quartet\n",
      "Ballet Preljocaj * Angelin Preljocaj\n",
      "Joshua Bell * Joshua Bell\n",
      "Murray Perahia * Murray Perahia\n",
      "Mariinsky Orchestra * Mariinsky Theatre Orchestra\n",
      "Detroit Symphony Orchestra * Detroit Symphony Orchestra\n",
      "New York Philharmonic * New York Philharmonic\n",
      "Artemis Quartet * Artemis Quartet\n",
      "Anne-Sophie Mutter, * Anne-Sophie Mutter\n",
      "Bobby McFerrin * Bobby McFerrin\n",
      "Alison Balsom * Alison Balsom\n",
      "SITI: Trojan Women * Anne Bogart\n",
      "Audra McDonald * Audra McDonald\n",
      "Andras Schiff * András Schiff\n",
      "Apollo's Fire * Apollo's Fire\n",
      "Joshua Bell, violin * Joshua Bell\n",
      "St Petersburg Philharmonic * Saint Petersburg Philharmonic Orchestra\n",
      "Israel Philharmonic * Israel Philharmonic Orchestra\n",
      "Akademie fur Alte Musik Berlin * Akademie für Alte Musik Berlin\n",
      "Olga Kern * Olga Kern\n",
      "Kremerata Baltica * Kremerata Baltica\n",
      "Tara Erraught, mezzo * Tara Erraught\n",
      "Denis Matsuev * Denis Matsuev\n",
      "Handel's Radamisto * Tiridates I of Armenia\n",
      "Random Dance * Wayne McGregor Random Dance\n",
      "Hagen Quartet * Hagen Quartet\n",
      "Handel's Messiah * Messiah (Handel)\n",
      "Propeller: Twelfth Night * Propeller (theatre company)\n",
      "St Lawrence Quartet * St. Lawrence String Quartet\n",
      "Belcea Quartet * Belcea Quartet\n",
      "The Audience * Audience\n",
      "Gate Theatre * Gate Theatre\n",
      "Stile Antico * Stile antico\n",
      "Einstein on the Beach * Einstein on the Beach\n",
      "Chamber Ensemble of the Shanghai Chinese Orchestra * Shanghai Chinese Orchestra\n",
      "Zakir Hussain & Masters of Percussion * Zakir Hussain (musician)\n",
      "Aspen Santa Fe Ballet * Aspen Santa Fe Ballet\n",
      "Rhinoceros * Rhinoceros\n",
      "Gilberto Gil * Gilberto Gil\n",
      "Prudencia Hart * David Greig (dramatist)\n",
      "Martha Graham Dance * Martha Graham Dance Company\n",
      "Mariachi Vargas de Tecalitlan * Vargas de Tecalitlán\n",
      "The Silk Road Ensemble * Joseph Gramley\n",
      "Ragamala Dance * Shubhendra Rao\n",
      "Complicite * Complicite\n",
      "Chris Thile * Chris Thile\n",
      "Blind Summit * Pitchoff Mountain\n",
      "Royal Shakespeare Company Live in HD: Richard II * Richard the Second\n",
      "State Symphony Capella of Russia * State Symphony Capella of Russia\n",
      "New Century Chamber Orchestra: Nadja Salerno-Sonnenberg * Fallingwater (composition)\n",
      "Emerson String Quartet * Emerson String Quartet\n",
      "Les Violons du Roy * Les Violons du Roy\n",
      "Mark Morris Dance Group * Mark Morris (choreographer)\n",
      "Takacs Quartet * Takács Quartet\n",
      "Ahmad Jamal * Ahmad Jamal\n",
      "Goran Bregovic * Goran Bregović\n",
      "Cloud Gate Dance Theatre * Cloud Gate Dance Theatre\n",
      "Diego El Cigala * Diego El Cigala\n",
      "A Night in Treme * Treme (TV series)\n",
      "Sweet Honey In The Rock * Sweet Honey in the Rock\n",
      "Jazz at Lincoln Center * Jazz at Lincoln Center\n",
      "The Andersen Project * Jean-Sébastien Côté\n",
      "From Cass Corridor * Cass Corridor\n",
      "JLCO with Wynton * Essentially Ellington High School Jazz Band Competition and Festival\n",
      "Angelique Kidjo * Angélique Kidjo\n",
      "Amjad Ali Khan * Amjad Ali Khan\n",
      "Hamid Al-Saadi * Amir ElSaffar\n",
      "Esperanza Spalding * Esperanza Spalding\n",
      "Hubbard Street Dance * Hubbard Street Dance Chicago\n",
      "Manganiyar Seduction * Manganiar\n",
      "Ukulele Orchestra of Great Britain * Ukulele Orchestra of Great Britain\n",
      "Jerusalem String Quartet * Jerusalem Quartet\n",
      "Bullet Catch * Bullet catch\n",
      "Kronos Quartet * Kronos Quartet\n",
      "Dianne Reeves Quartet * Monterey Jazz Festival\n",
      "Kodo * Kodo (taiko group)\n",
      "Propeller: Taming of the Shrew * The Taming of the Shrew in performance\n",
      "1927: The Animals and Children Took to the Streets * Wole Oguntokun\n",
      "Othello * Othello\n",
      "Compagnie Kafig * Hip-hop theater\n",
      "Theatre des Bouffes * Théâtre des Bouffes-Parisiens\n",
      "Sabine Meyer * Sabine Meyer\n",
      "Kidd Pivot * Kidd Pivot\n",
      "Berlin Philharmonic * Berlin Philharmonic\n",
      "She Stoops * She Stoops to Conquer\n",
      "Macbeth * Macbeth\n",
      "Canadian Brass * Canadian Brass\n",
      "Charles Lloyd Quartet * Journey Within\n",
      "The Magistrate * The Magistrate (play)\n",
      "The King's Singers * The King's Singers\n",
      "Schola Cantorum de Venezuela * Schola Cantorum de Venezuela\n",
      "Ariel Quartet * Ariel String Quartet\n",
      "St Lawrence String Quartet * St. Lawrence String Quartet\n",
      "Elias String Quartet * Wigmore Hall Live\n",
      "Brooklyn Rider * Brooklyn Rider\n",
      "Collaborators * Collaborators (play)\n",
      "The Tallis Scholars * The Tallis Scholars\n",
      "Brahms's Requiem * Grex Vocalis\n",
      "Los Angeles Guitar Quartet * Los Angeles Guitar Quartet\n",
      "War Horse * Horses in warfare\n",
      "Cheikh Lo * Cheikh Lô\n",
      "Dave Holland * Dave Holland\n",
      "Gabriel Kahane * Gabriel Kahane\n",
      "Suzhou Kun Troupe * Kunqu\n",
      "Jason Moran's Fats Waller Dance Party * Jason Moran (musician)\n",
      "Dan Zanes and Friend * Low Bridge (song)\n",
      "Max Raabe * Max Raabe\n",
      "Last of the Haussmans * Stephen Beresford\n",
      "Timon of Athens * Timon of Athens\n",
      "Colin Stetson * Colin Stetson\n",
      "Fred Hersch Trio * Fred Hersch\n",
      "One Night in Bamako * Bassekou Kouyate\n",
      "Alfredo Rodriguez * Alfredo Rodríguez\n",
      "Beijing Guitar Duo * Su Meng\n",
      "One Man, Two Gu * One Man, Two Guvnors\n",
      "Frankenstein * Frankenstein\n",
      "The Kitchen * The Kitchen\n",
      "The Comedy of Errors * The Comedy of Errors\n",
      "Mavericks All Access * Texas–Arlington Mavericks football\n",
      "This House * This House (Tracie Spencer song)\n",
      "The Curious Incident of the Dog in the Night-Time * The Curious Incident of the Dog in the Night-Time\n",
      "Coriolanus * Coriolanus\n",
      "Steve Lehman Octet * Pi Recordings\n",
      "Asif Ali Khan * Asif Durrani\n",
      "DC: Hubbard * Lee Lawrie\n",
      "James Blake * James Blake (musician)\n",
      "Breakin' Curfew * 1984 in music\n",
      "Fela! * Fela!\n",
      "DC: Ballet Preljocaj * Mary Jordan (filmmaker)\n",
      "Diego El Cigala * Diego El Cigala\n",
      "Usher Party * Shakin' It 4 Daddy\n"
     ]
    },
    {
     "name": "stderr",
     "output_type": "stream",
     "text": [
      "//anaconda/lib/python3.5/site-packages/bs4/__init__.py:166: UserWarning: No parser was explicitly specified, so I'm using the best available HTML parser for this system (\"lxml\"). This usually isn't a problem, but if you run this code on another system, or in a different virtual environment, it may use a different parser and behave differently.\n",
      "\n",
      "To get rid of this warning, change this:\n",
      "\n",
      " BeautifulSoup([your markup])\n",
      "\n",
      "to this:\n",
      "\n",
      " BeautifulSoup([your markup], \"lxml\")\n",
      "\n",
      "  markup_type=markup_type))\n"
     ]
    }
   ],
   "source": [
    "wikipediaDescs = copy.copy(descs)\n",
    "noPage = [\"AnDa Union\",\"FAM -Aspen Santa Fe\",\"People\"]\n",
    "fixedPages = {     'The Silk Road Ensemble': 'Joseph Gramley',     \n",
    " 'Royal Shakespeare Company Live in HD: Richard II': 'Richard the Second',     \n",
    " 'New Century Chamber Orchestra: Nadja Salerno-Sonnenberg  violin and leader': 'New Century Chamber Orchestra',   \n",
    " '1927: The Animals and Children Took to the Streets': 'Wole Oguntokun',  \n",
    " 'Kodo':'Kodo (taiko group)',     'One Night in Bamako': 'Bassekou Kouyate',   \n",
    " 'One Man, Two Gu': 'One Man, Two Guvnors', 'Collaborators': 'Collaborators (play)',\n",
    "   'Chamber Ensemble of the Shanghai Chinese Orchestra':'Shanghai Chinese Orchestra' }\n",
    "\n",
    "#augment current descriptions with information from wikipedia\n",
    "for i in range(len(titles)):\n",
    "    searchResults = wikipedia.search(titles[i])\n",
    "    if titles[i] in noPage:\n",
    "        continue\n",
    "    elif titles[i] in fixedPages.keys():\n",
    "        searchResults = wikipedia.search(fixedPages[titles[i]])\n",
    "    \n",
    "    #use first search result\n",
    "    if(len(searchResults) > 0):\n",
    "        try:\n",
    "            pageContent = wikipedia.page(searchResults[0]).content\n",
    "            print(titles[i],'*',searchResults[0])\n",
    "        except wikipedia.exceptions.DisambiguationError as e:\n",
    "            try: #TODO: something really weird going on with a few cases of multiple disambiguation errors\n",
    "                pageContent = wikipedia.page(e.options[0]).content\n",
    "                print(titles[i],'*',e.options[0])\n",
    "            except:\n",
    "                ;#Alright, give up\n",
    "            \n",
    "        wikipediaDescs[i] += pageContent"
   ]
  },
  {
   "cell_type": "code",
   "execution_count": 71,
   "metadata": {
    "collapsed": false
   },
   "outputs": [
    {
     "data": {
      "text/plain": [
       "\"fresh from their perform of monteverdi vesper apollo fire singer return to st. franci of assisi church with one of their signatur piec bach st. john passion burst out of the gate from the agit open chorus this work is consid bach most dramat and theatric oratorio in this acclaim interpret the stori action is highlight by a dramat approach the role are perform by true sing actor stage on a special theatric platform within the orchestra the acclaim apollo singer evok the wild mob with fierc intensity.apollo 's fire the cleveland baroqu orchestra is a popular and critic acclaim period-instru ensembl special in earli music renaiss baroqu and earli classic base in cleveland ohio the ensembl unit a select pool of earli music specialist from throughout north america and europ under the direct of artist director jeannett sorrel the ensembl has been prais intern for a fresh and vibrant approach to baroqu perform and for creativ and innov program histori name for the classic god of music and the sun apollo 's fire was found in by jeannett sorrel with the assist of flutist kathi lynn stewart and roger wright then artist administr of the cleveland orchestra now with the bbc the orchestra receiv a start-up grant from the cleveland foundat in and made it debut to critic acclaim in june of that year sorrel envis an ensembl dedic to the baroqu ideal that music should evok the various affekt or passion in the listen apollo 's fire is a collect of creativ artist who share sorrel 's passion for drama and rhetor apollo fire is frequent broadcast on nation public radio includ symphonycast npr world of opera and perform today as well as mani holiday special the ensembl can also be heard on britain bbc canada cbc radio and the european broadcast union togeth with jeannett sorrel apollo fire receiv the noah greenberg award from the american musicolog societi given for an outstand project involv the collabor of scholar and perform and was award the northern ohio live achiev award for classic music apollo 's fire also has a crossover/folk wing special in tradit music of the british isl and north america perform on period instrument in an histor inform aesthet the ensembl was award a major grant through the nea american masterpiec initi in for jeannett sorrel 's innov crossov program come to the river an earli american gather apollo fire made it london debut in in a sold-out concert at wigmor hall with a bbc broadcast af return to europ in and to madrid royal theatr bordeaux grand théàtre de l'opéra and major venu in lisbon metz fr london and birmingham uk and bregenz austria in summer apollo fire make it debut at the tanglewood festiv the bbc prom in london the aldeburgh festiv uk and the festiv paesaggi musicali toscani in tuscani the tour program “a night at bach coffeehous featur brandenburg concerto no with jeannett sorrel as soloist apollo fire has also tour throughout north america appear at the aspen music festiv the boston earli music festiv seri the librari of congress the tropic baroqu festiv in miami the ojai intern festiv in california and major venu in boston toronto los angel and san francisco the ensembl has perform two major u.s. tour of the monteverdi vesper and and a 9-concert tour of the brandenburg concerto in apollo fire is sign to columbia artist manag cami for exclus represent in north and south america and is manag in europ by intermusica london in cleveland apollo fire enjoy sold-out perform at it subscript seri which has drawn nation attent for creativ program apollo fire has releas commerci cds and current record for the british label avi four of the ensembl 's cd releas have becom best-sel on the classic billboard chart the monteverdi vesper bach 's brandenburg concerto and jeannett sorrel two crossov program come to the river and sacrum mysterium a celtic christma vesper discographi handel messiah releas nov. onda noel and carol from the old world releas oct. eclectra eccd-2041 monteverdi vesper of the bless virgin releas apr eclectra eccd-2038 j.s.bach brandenburg concerto releas sept. eclectra eccd-2047 bach st. john passion releas mar eclectra eccd-2044 vivaldi and friend releas octob eclectra eccd-2059 vivaldi concerto in b minor for four violin allegro 457kb vivaldi four season summer presto 374kb bach concerto for four harpsichord largo 244kb monteverdi l'orfeo releas april eclectra eccd-2052 scarborough fayr tradit tune from the british isl the new world releas may koch kic cd mozart symphoni no.35 in d k.385 haffner symphoni no in c k.551 jupit and overtur to don giovanni releas may koch kic cd telemann don quixot concerto and suit releas summer koch kic cd mozart piano concerto no in d minor k.466 and piano concerto no in a major k.488 releas spring koch kic cd mozart requiem k.626 exsult jubil k.165 releas koch kic cd praetorius christma vesper select from polyhymnia caduceatrix musica siona puericinium terpsichor releas koch kic cd mozart symphoni no in g minor k. lucio silla k. amanda forsyth soprano ballet music from idomeneo k. dances/tanz releas avi cd come to the river an earli american gather releas apollo 's fire releas avi cd vivaldi friend la folia mad concerto grosso after sonata op no arr sorrel concerto in b minor for four violin op no rv concerto l'estat summer op no rv concerto in g minor for two cello rv concerto in a minor for four harpsichord by j.s bach transcrib from vivaldi bwv concerto in d minor for two viola da gamba by rene duchiffr rene schiffer b rereleas avi cd bach brandenburg concerto brandenburg concerto no in f major bwv brandenburg concerto no in f manor bwv brandenburg concerto no in g major bwv brandenburg concerto no in g major bwv brandenburg concerto no in d major bwv brandenburg concerto no in b-flat major bwv harpsichord concerto in d minor bwv harpsichord concerto in f minor bwv violin concerto in d minor bwv reconstruct rereleas avi cd monteverdi vespro della beata vergin 400th anniversari edit rereleas avi cd handel messiah amanda forsyth elizabeth shammash ian honeyman ross hauck jeffrey strauss soloist rereleas avi cd sacrum mysterium a celtic christma vesper meredith hall soprano ensembl la nef bonus dvd releas avi cd handel etern sourc of light divin ode for the birthday of queen ann hwv zadok the priest hwv dixit dominus hwv the lord shall reign from israel in egypt hwv kiera duffi and meg bragl soloist releas avi cd af live no vivaldi 's season rediscov la primavera spring l'estat summer l'autunno autumn l'inverno winter concerto in g minor for two cello rv record live in concert februari releas by apollo 's fire in hous af live no handel water music suit in f hwv select from water music suit in g hwv select from water music suit in d hwv select from ballet suit terpsichor hwv 8b music from the royal firework hwv record live in concert s releas by apollo 's fire in hous af live no mediterranean night song and danc from itali and spain nell snaida soprano record live in concert s releas by apollo 's fire in hous af live no mozart the magic flute highlight k. record live in concert march releas by apollo 's fire in hous af live no virtuoso orchestra vivaldi concerto in b minor for four violin op no.10 bach concerto for violin and obo in c minor bwv vivaldi concerto in d major for flute il gardellino rv heinichen select from concerto grosso in g manor seih bach brandenburg concerto no in g manor bwv record live in concert s releas by apollo 's fire in hous refer extern link offici home page video \""
      ]
     },
     "execution_count": 71,
     "metadata": {},
     "output_type": "execute_result"
    }
   ],
   "source": [
    "wiki_tokenizedDescs[20]"
   ]
  },
  {
   "cell_type": "code",
   "execution_count": 61,
   "metadata": {
    "collapsed": true
   },
   "outputs": [],
   "source": [
    "# Extract bigram matrix\n",
    "wiki_tokenizedDescs = []\n",
    "temp = [tokenize_and_stem(d) for d in wikipediaDescs]\n",
    "for desc in temp:\n",
    "    sb = \"\"\n",
    "    for s in desc:\n",
    "        sb += s\n",
    "        sb += \" \"\n",
    "    wiki_tokenizedDescs.append(sb)"
   ]
  },
  {
   "cell_type": "code",
   "execution_count": 77,
   "metadata": {
    "collapsed": false
   },
   "outputs": [
    {
     "name": "stdout",
     "output_type": "stream",
     "text": [
      "(144, 3062)\n"
     ]
    }
   ],
   "source": [
    "# Extract bigram matrix\n",
    "vect = CountVectorizer(ngram_range=(1, 1), stop_words = ENGLISH_STOP_WORDS, min_df = 5)\n",
    "X = vect.fit_transform(wiki_tokenizedDescs)\n",
    "\n",
    "print(X.shape)"
   ]
  },
  {
   "cell_type": "code",
   "execution_count": 78,
   "metadata": {
    "collapsed": false,
    "scrolled": true
   },
   "outputs": [
    {
     "name": "stdout",
     "output_type": "stream",
     "text": [
      "Topic #0:\n",
      "play shakespear theatr product christoph use perform book adapt macbeth stori charact novel stage time direct star mother hors comedi\n",
      "Topic #1:\n",
      "music orchestra perform record quartet concert new season symphoni year award hall includ group work philharmon string classic conductor live\n",
      "Topic #2:\n",
      "new music singer album art releas perform work york american song film award festiv record featur danc artist year singl\n",
      "Topic #3:\n",
      "school piano concerto jazz violin high op bell competit festiv music perform band orchestra artist beethoven prize award intern studi\n",
      "Topic #4:\n",
      "handel perform music work king choir choral scholar chorus record cd edit disc compos reissu oratorio soprano score use opera\n"
     ]
    }
   ],
   "source": [
    "#LDA\n",
    "lda = LatentDirichletAllocation(n_topics=5, max_iter=1000)\n",
    "y = lda.fit_transform(X)\n",
    "\n",
    "def print_top_words(model, feature_names, n_top_words):\n",
    "    for topic_idx, topic in enumerate(model.components_):\n",
    "        print(\"Topic #%d:\" % topic_idx)\n",
    "        print(\" \".join([feature_names[i]\n",
    "                        for i in topic.argsort()[:-n_top_words - 1:-1]]))\n",
    "    print\n",
    "\n",
    "print_top_words(lda, vect.get_feature_names(), 20)"
   ]
  },
  {
   "cell_type": "code",
   "execution_count": 56,
   "metadata": {
    "collapsed": false
   },
   "outputs": [],
   "source": [
    "rows = []\n",
    "for i in range(144):\n",
    "    topicDist = lda.transform(X[i])\n",
    "    dist = np.ravel(topicDist)\n",
    "    dist = [i/sum(dist) for i in dist]\n",
    "    dist.insert(0,i)\n",
    "    rows.append(dist)"
   ]
  },
  {
   "cell_type": "code",
   "execution_count": 57,
   "metadata": {
    "collapsed": false
   },
   "outputs": [],
   "source": [
    "df = pd.DataFrame(columns=['showId','topic0','topic1','topic2','topic3','topic4'],data=rows)"
   ]
  },
  {
   "cell_type": "code",
   "execution_count": 59,
   "metadata": {
    "collapsed": false
   },
   "outputs": [],
   "source": [
    "df.to_csv(\"wikipediaTopicModel1.csv\")"
   ]
  },
  {
   "cell_type": "code",
   "execution_count": 41,
   "metadata": {
    "collapsed": false
   },
   "outputs": [],
   "source": [
    "simDf = df.drop(\"showId\",axis=1)\n",
    "simMatrix = cosine_similarity(simDf)"
   ]
  },
  {
   "cell_type": "code",
   "execution_count": 42,
   "metadata": {
    "collapsed": false
   },
   "outputs": [
    {
     "data": {
      "text/plain": [
       "(144, 144)"
      ]
     },
     "execution_count": 42,
     "metadata": {},
     "output_type": "execute_result"
    }
   ],
   "source": [
    "simMatrix.shape"
   ]
  },
  {
   "cell_type": "code",
   "execution_count": 43,
   "metadata": {
    "collapsed": false
   },
   "outputs": [],
   "source": [
    "#MDS\n",
    "mds = MDS(n_components=2, dissimilarity='precomputed', random_state=1)\n",
    "pos = mds.fit_transform(simMatrix)\n",
    "xs, ys = pos[:,0], pos[:,1]"
   ]
  },
  {
   "cell_type": "code",
   "execution_count": 44,
   "metadata": {
    "collapsed": false
   },
   "outputs": [
    {
     "name": "stdout",
     "output_type": "stream",
     "text": [
      "cluster  0\n",
      "sum  17\n",
      "***\n",
      "cluster  1\n",
      "sum  59\n",
      "***\n",
      "cluster  2\n",
      "sum  6\n",
      "***\n",
      "cluster  3\n",
      "sum  31\n",
      "***\n",
      "cluster  4\n",
      "sum  19\n",
      "***\n",
      "cluster  5\n",
      "sum  12\n",
      "***\n"
     ]
    }
   ],
   "source": [
    "#Calculate labels\n",
    "labels = []\n",
    "for i in range(144):\n",
    "    arr = np.ravel(df.iloc[i])[1:]\n",
    "    if(arr[arr.argmax()] < 0.5):\n",
    "        labels.append(5)\n",
    "    else:\n",
    "        labels.append(arr.argmax())\n",
    "    \n",
    "for i in range(6):\n",
    "    print(\"cluster \",i)\n",
    "    mySum = 0\n",
    "    for j in range(144):\n",
    "        if(labels[j] == i):\n",
    "            mySum += 1\n",
    "    print(\"sum \",mySum)\n",
    "    print (\"***\")"
   ]
  },
  {
   "cell_type": "code",
   "execution_count": 55,
   "metadata": {
    "collapsed": false
   },
   "outputs": [
    {
     "data": {
      "image/png": "[encoded data removed]",
      "text/plain": [
       "<matplotlib.figure.Figure at 0x1174f4fd0>"
      ]
     },
     "metadata": {},
     "output_type": "display_data"
    }
   ],
   "source": [
    "cluster_colors = {0: '#1b9e77', 1: '#d95f02', 2: '#7570b3', 3: '#e7298a', 4: '#66a61e', 5: '#ffff00'}\n",
    "\n",
    "fig = plt.figure(1)\n",
    "ax = plt.axes([0., 0., 1., 1.])\n",
    "\n",
    "for i in [2]:\n",
    "    cluster_x = []\n",
    "    cluster_y = []\n",
    "    for j in range(len(labels)):\n",
    "        if labels[j] == i:\n",
    "            cluster_x.append(cluster_x.append(xs[j]))\n",
    "            cluster_y.append(cluster_y.append(ys[j]))\n",
    "    plt.scatter(cluster_x, cluster_y, c=cluster_colors[i], s=20)\n",
    "    \n",
    "plt.savefig('cluster_2.png', dpi=200)"
   ]
  },
  {
   "cell_type": "code",
   "execution_count": 50,
   "metadata": {
    "collapsed": false
   },
   "outputs": [
    {
     "data": {
      "image/png": "[encoded data removed]",
      "text/plain": [
       "<IPython.core.display.Image object>"
      ]
     },
     "execution_count": 50,
     "metadata": {},
     "output_type": "execute_result"
    }
   ],
   "source": [
    "Image(\"cluster.png\")"
   ]
  },
  {
   "cell_type": "code",
   "execution_count": 81,
   "metadata": {
    "collapsed": true
   },
   "outputs": [],
   "source": [
    "topics = [2,4,5,5,5,5,4,3,4\n",
    ",4\n",
    ",5\n",
    ",5\n",
    ",5\n",
    ",4\n",
    ",4\n",
    ",6\n",
    ",4\n",
    ",2\n",
    ",2\n",
    ",4\n",
    ",1\n",
    ",4\n",
    ",5\n",
    ",5\n",
    ",4\n",
    ",4\n",
    ",4\n",
    ",1\n",
    ",4\n",
    ",7\n",
    ",5\n",
    ",3\n",
    ",4\n",
    ",1\n",
    ",2\n",
    ",4\n",
    ",4\n",
    ",2\n",
    ",2\n",
    ",1\n",
    ",7\n",
    ",4\n",
    ",6\n",
    ",3\n",
    ",2\n",
    ",7\n",
    ",2\n",
    ",3\n",
    ",6\n",
    ",4\n",
    ",3\n",
    ",2\n",
    ",6\n",
    ",6\n",
    ",2\n",
    ",5\n",
    ",4\n",
    ",4\n",
    ",4\n",
    ",3\n",
    ",4\n",
    ",0\n",
    ",4\n",
    ",4\n",
    ",3\n",
    ",6\n",
    ",6\n",
    ",6\n",
    ",0\n",
    ",2\n",
    ",0\n",
    ",0\n",
    ",1\n",
    ",6\n",
    ",6\n",
    ",6\n",
    ",3\n",
    ",6\n",
    ",5\n",
    ",4\n",
    ",2\n",
    ",4\n",
    ",4\n",
    ",6\n",
    ",2\n",
    ",2\n",
    ",2\n",
    ",3\n",
    ",2\n",
    ",4\n",
    ",3\n",
    ",5\n",
    ",2\n",
    ",2\n",
    ",4\n",
    ",1\n",
    ",0\n",
    ",2\n",
    ",1\n",
    ",1\n",
    ",4\n",
    ",4\n",
    ",4\n",
    ",6\n",
    ",2\n",
    ",4\n",
    ",5\n",
    ",6\n",
    ",2\n",
    ",6\n",
    ",0\n",
    ",6\n",
    ",7\n",
    ",1\n",
    ",0\n",
    ",6\n",
    ",6\n",
    ",2\n",
    ",2\n",
    ",2\n",
    ",0\n",
    ",0\n",
    ",6\n",
    ",0\n",
    ",4\n",
    ",2\n",
    ",2\n",
    ",2\n",
    ",2\n",
    ",4\n",
    ",2\n",
    ",2\n",
    ",2\n",
    ",2\n",
    ",0\n",
    ",6\n",
    ",3\n",
    ",3\n",
    ",6\n",
    ",6\n",
    ",2\n",
    ",3\n",
    ",6\n",
    ",6]"
   ]
  },
  {
   "cell_type": "code",
   "execution_count": 84,
   "metadata": {
    "collapsed": false
   },
   "outputs": [
    {
     "name": "stdout",
     "output_type": "stream",
     "text": [
      "Topic #0:\n",
      "ballet danc new music play perform flamenco york quartet award work choreograph theatr mark compani director opera product year nation\n",
      "Topic #1:\n",
      "new jazz music york art work perform school record state hors world year high includ time univers american use group\n",
      "Topic #2:\n",
      "christoph book novel macbeth stori live mother read father mrs ed audienc year write world did charact peopl use day\n",
      "Topic #3:\n",
      "wang piano deni competit guitar beij russia moscow russian rachmaninoff artist intern studi foundat duo valeri conservatori tchaikovski sergei classic\n",
      "Topic #4:\n",
      "opera play glass music perform record new orchestra beach symphoni macbeth work wilson theater theatr audienc role york includ use\n",
      "Topic #5:\n",
      "music singer album releas song singl blake record american award love decemb compos septemb year new perform octob juli februari\n",
      "Topic #6:\n",
      "play perform shakespear film product theatr new compani festiv jordan art direct adapt work citi comedi text music star set\n",
      "Topic #7:\n",
      "orchestra music perform record quartet concert symphoni hall philharmon award string conductor year concerto new work season includ violin piano\n"
     ]
    }
   ],
   "source": [
    "#LDA\n",
    "lda = LatentDirichletAllocation(n_topics=8, max_iter=100)\n",
    "y = lda.fit(X,topics)\n",
    "\n",
    "def print_top_words(model, feature_names, n_top_words):\n",
    "    for topic_idx, topic in enumerate(model.components_):\n",
    "        print(\"Topic #%d:\" % topic_idx)\n",
    "        print(\" \".join([feature_names[i]\n",
    "                        for i in topic.argsort()[:-n_top_words - 1:-1]]))\n",
    "    print\n",
    "\n",
    "print_top_words(lda, vect.get_feature_names(), 20)"
   ]
  },
  {
   "cell_type": "code",
   "execution_count": 86,
   "metadata": {
    "collapsed": false
   },
   "outputs": [],
   "source": [
    "rows = []\n",
    "for i in range(144):\n",
    "    topicDist = lda.transform(X[i])\n",
    "    dist = np.ravel(topicDist)\n",
    "    dist = [i/sum(dist) for i in dist]\n",
    "    dist.insert(0,i)\n",
    "    rows.append(dist)"
   ]
  },
  {
   "cell_type": "code",
   "execution_count": 87,
   "metadata": {
    "collapsed": true
   },
   "outputs": [],
   "source": [
    "simDf = df.drop(\"showId\",axis=1)\n",
    "simMatrix = cosine_similarity(simDf)"
   ]
  },
  {
   "cell_type": "code",
   "execution_count": 90,
   "metadata": {
    "collapsed": false
   },
   "outputs": [
    {
     "name": "stdout",
     "output_type": "stream",
     "text": [
      "cluster  0\n",
      "Pavel Haas Quartet\n",
      "Murray Perahia\n",
      "Artemis Quartet\n",
      "Anne-Sophie Mutter,\n",
      "Andras Schiff\n",
      "Apollo's Fire\n",
      "Akademie fur Alte Musik Berlin\n",
      "Kremerata Baltica\n",
      "Hagen Quartet\n",
      "St Lawrence Quartet\n",
      "Belcea Quartet\n",
      "Emerson String Quartet\n",
      "Takacs Quartet\n",
      "Jerusalem String Quartet\n",
      "Ariel Quartet\n",
      "St Lawrence String Quartet\n",
      "Elias String Quartet\n",
      "sum  17\n",
      "***\n",
      "cluster  1\n",
      "The Infernal Comedy\n",
      "Yuja Wang\n",
      "London Philharmonic\n",
      "Hamburg Symphony\n",
      "Chicago Symphony Orchestra\n",
      "San Francisco Symphony\n",
      "Mariinsky Orchestra\n",
      "Detroit Symphony Orchestra\n",
      "New York Philharmonic\n",
      "Bobby McFerrin\n",
      "Alison Balsom\n",
      "Audra McDonald\n",
      "St Petersburg Philharmonic\n",
      "Israel Philharmonic\n",
      "Olga Kern\n",
      "Tara Erraught, mezzo\n",
      "Denis Matsuev\n",
      "Milhaud's Oresteian\n",
      "Einstein on the Beach\n",
      "Chamber Ensemble of the Shanghai Chinese Orchestra\n",
      "Aspen Santa Fe Ballet\n",
      "Gilberto Gil\n",
      "Mariachi Vargas de Tecalitlan\n",
      "The Silk Road Ensemble\n",
      "Chris Thile\n",
      "State Symphony Capella of Russia\n",
      "New Century Chamber Orchestra: Nadja Salerno-Sonnenberg\n",
      "Mark Morris Dance Group\n",
      "Goran Bregovic\n",
      "Diego El Cigala\n",
      "A Night in Treme\n",
      "Sweet Honey In The Rock\n",
      "Angelique Kidjo\n",
      "Esperanza Spalding\n",
      "Manganiyar Seduction\n",
      "Ukulele Orchestra of Great Britain\n",
      "Kodo\n",
      "Theatre des Bouffes\n",
      "Sabine Meyer\n",
      "Berlin Philharmonic\n",
      "Charles Lloyd Quartet\n",
      "The King's Singers\n",
      "Schola Cantorum de Venezuela\n",
      "Brooklyn Rider\n",
      "The Tallis Scholars\n",
      "Brahms's Requiem\n",
      "Cheikh Lo\n",
      "Gabriel Kahane\n",
      "Max Raabe\n",
      "Colin Stetson\n",
      "One Night in Bamako\n",
      "Alfredo Rodriguez\n",
      "The Kitchen\n",
      "Mavericks All Access\n",
      "People\n",
      "This House\n",
      "FAM -Aspen Santa Fe\n",
      "Breakin' Curfew\n",
      "Diego El Cigala\n",
      "sum  59\n",
      "***\n",
      "cluster  2\n",
      "Joshua Bell\n",
      "Joshua Bell, violin\n",
      "Rhinoceros\n",
      "Canadian Brass\n",
      "Chanticleer\n",
      "Beijing Guitar Duo\n",
      "sum  6\n",
      "***\n",
      "cluster  3\n",
      "Handel's Radamisto\n",
      "Handel's Messiah\n",
      "Propeller: Twelfth Night\n",
      "The Audience\n",
      "Gate Theatre\n",
      "Prudencia Hart\n",
      "Complicite\n",
      "Royal Shakespeare Company Live in HD: Richard II\n",
      "Amjad Ali Khan\n",
      "Bullet Catch\n",
      "Propeller: Taming of the Shrew\n",
      "1927: The Animals and Children Took to the Streets\n",
      "Othello\n",
      "She Stoops\n",
      "Macbeth\n",
      "The Magistrate\n",
      "War Horse\n",
      "Suzhou Kun Troupe\n",
      "Dan Zanes and Friend\n",
      "Last of the Haussmans\n",
      "Timon of Athens\n",
      "Traveling Light\n",
      "One Man, Two Gu\n",
      "Frankenstein\n",
      "The Comedy of Errors\n",
      "The Curious Incident of the Dog in the Night-Time\n",
      "Coriolanus\n",
      "Asif Ali Khan\n",
      "James Blake\n",
      "Fela!\n",
      "Usher Party\n",
      "sum  31\n",
      "***\n",
      "cluster  4\n",
      "SITI: Trojan Women\n",
      "Random Dance\n",
      "Martha Graham Dance\n",
      "Blind Summit\n",
      "Cloud Gate Dance Theatre\n",
      "Jazz at Lincoln Center\n",
      "JLCO with Wynton\n",
      "Hamid Al-Saadi\n",
      "Hubbard Street Dance\n",
      "Dianne Reeves Quartet\n",
      "Compagnie Kafig\n",
      "Kidd Pivot\n",
      "Collaborators\n",
      "Dave Holland\n",
      "Ensemble Basiani\n",
      "Jason Moran's Fats Waller Dance Party\n",
      "Steve Lehman Octet\n",
      "DC: Hubbard\n",
      "DC: Ballet Preljocaj\n",
      "sum  19\n",
      "***\n",
      "cluster  5\n",
      "Ballet Preljocaj\n",
      "Stile Antico\n",
      "Zakir Hussain & Masters of Percussion\n",
      "Ragamala Dance\n",
      "Les Violons du Roy\n",
      "Ahmad Jamal\n",
      "AnDa Union\n",
      "The Andersen Project\n",
      "From Cass Corridor\n",
      "Kronos Quartet\n",
      "Los Angeles Guitar Quartet\n",
      "Fred Hersch Trio\n",
      "sum  12\n",
      "***\n",
      "cluster  6\n",
      "sum  0\n",
      "***\n",
      "cluster  7\n",
      "sum  0\n",
      "***\n"
     ]
    }
   ],
   "source": [
    "#Calculate labels\n",
    "labels = []\n",
    "for i in range(144):\n",
    "    arr = np.ravel(df.iloc[i])[1:]\n",
    "    if(arr[arr.argmax()] < 0.5):\n",
    "        labels.append(5)\n",
    "    else:\n",
    "        labels.append(arr.argmax())\n",
    "    \n",
    "for i in range(8):\n",
    "    print(\"cluster \",i)\n",
    "    mySum = 0\n",
    "    for j in range(144):\n",
    "        if(labels[j] == i):\n",
    "            print(titles[j])\n",
    "            mySum += 1\n",
    "    print(\"sum \",mySum)\n",
    "    print (\"***\")"
   ]
  },
  {
   "cell_type": "code",
   "execution_count": 93,
   "metadata": {
    "collapsed": true
   },
   "outputs": [],
   "source": [
    "topicWords = []\n",
    "for i in range(8):\n",
    "    words = \"\"\n",
    "    for j in range(len(descs)):\n",
    "        if topics[j] == i:\n",
    "            words += descs[j]\n",
    "    topicWords.append(words)"
   ]
  },
  {
   "cell_type": "code",
   "execution_count": 107,
   "metadata": {
    "collapsed": false
   },
   "outputs": [],
   "source": [
    "topicWordsCleaned = [tokenize_and_stem(i) for i in topicWords]\n",
    "topicWordsCleaned = [[i for i in j if i not in ENGLISH_STOP_WORDS] for j in topicWordsCleaned]"
   ]
  },
  {
   "cell_type": "code",
   "execution_count": 111,
   "metadata": {
    "collapsed": false
   },
   "outputs": [
    {
     "name": "stdout",
     "output_type": "stream",
     "text": [
      "topic 0\n",
      "[('jazz', 40), ('lincoln', 20), ('center', 19), ('music', 19), ('orchestra', 15), ('perform', 14), ('new', 11), ('band', 10), ('year', 9), ('york', 8)]\n",
      "topic 1\n",
      "[('perform', 19), ('music', 9), ('group', 8), ('singer', 8), ('time', 8), ('program', 7), ('work', 7), ('cultur', 6), ('um', 6), ('choral', 6)]\n",
      "topic 2\n",
      "[('theatr', 31), ('nation', 28), ('play', 28), ('london', 22), ('perform', 22), ('product', 21), ('broadcast', 20), ('theater', 17), ('new', 16), ('um', 16)]\n",
      "topic 3\n",
      "[('danc', 27), ('ballet', 22), ('compani', 19), ('perform', 17), ('choreograph', 12), ('new', 10), ('work', 10), ('dancer', 10), ('forsyth', 9), ('time', 9)]\n",
      "topic 4\n",
      "[('music', 50), ('perform', 41), ('quartet', 38), ('um', 28), ('concert', 24), ('work', 20), ('compos', 20), ('string', 18), ('appear', 18), ('program', 18)]\n",
      "topic 5\n",
      "[('orchestra', 16), ('perform', 16), ('symphoni', 16), ('music', 14), ('philharmon', 11), ('concert', 10), ('um', 9), ('work', 9), ('compos', 8), ('wind', 8)]\n",
      "topic 6\n",
      "[('music', 71), ('new', 29), ('perform', 25), ('tradit', 18), ('jazz', 12), ('sound', 12), ('time', 12), ('song', 11), ('creat', 10), ('concert', 10)]\n",
      "topic 7\n",
      "[('perform', 11), ('opera', 7), ('gil', 6), ('music', 5), ('concert', 5), ('kunqu', 5), ('classic', 5), ('brazil', 5), ('handel', 4), ('radamisto', 4)]\n"
     ]
    }
   ],
   "source": [
    "for i in range(8):\n",
    "    print(\"topic\",i)\n",
    "    count = Counter()\n",
    "    for word in topicWordsCleaned[i]:\n",
    "        count[word] += 1\n",
    "    print(count.most_common(10))"
   ]
  },
  {
   "cell_type": "code",
   "execution_count": null,
   "metadata": {
    "collapsed": true
   },
   "outputs": [],
   "source": []
  }
 ],
 "metadata": {
  "kernelspec": {
   "display_name": "Python 3",
   "language": "python",
   "name": "python3"
  },
  "language_info": {
   "codemirror_mode": {
    "name": "ipython",
    "version": 3
   },
   "file_extension": ".py",
   "mimetype": "text/x-python",
   "name": "python",
   "nbconvert_exporter": "python",
   "pygments_lexer": "ipython3",
   "version": "3.5.1"
  }
 },
 "nbformat": 4,
 "nbformat_minor": 0
}
