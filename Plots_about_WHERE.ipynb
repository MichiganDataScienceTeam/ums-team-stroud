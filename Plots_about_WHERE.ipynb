{
 "cells": [
  {
   "cell_type": "code",
   "execution_count": 1,
   "metadata": {
    "collapsed": false
   },
   "outputs": [
    {
     "name": "stderr",
     "output_type": "stream",
     "text": [
      "F:\\Xinyu\\AppData\\Local\\Continuum\\Anaconda\\lib\\site-packages\\pandas\\computation\\__init__.py:19: UserWarning: The installed version of numexpr 2.4.4 is not supported in pandas and will be not be used\n",
      "\n",
      "  UserWarning)\n",
      ":0: FutureWarning: IPython widgets are experimental and may change in the future.\n"
     ]
    }
   ],
   "source": [
    "import pandas as pd\n",
    "import numpy as np\n",
    "import seaborn as sns\n",
    "import matplotlib.pyplot as plt \n",
    "%matplotlib inline"
   ]
  },
  {
   "cell_type": "markdown",
   "metadata": {},
   "source": [
    "**Manually labeled categories**\n",
    "\n",
    "- 0\tjazz\n",
    "- 1\tchoral\n",
    "- 2\ttheatre\n",
    "- 3\tdance\n",
    "- 4\tchamber\n",
    "- 5\torchestra\n",
    "- 6\tother\n",
    "- 7\topera\n",
    "- 8\tsoloist\n"
   ]
  },
  {
   "cell_type": "code",
   "execution_count": 2,
   "metadata": {
    "collapsed": true
   },
   "outputs": [],
   "source": [
    "manual_labels = pd.read_csv('manual_labels.csv', header=None, usecols=[0, 1], names=['index', 'label'])"
   ]
  },
  {
   "cell_type": "code",
   "execution_count": 3,
   "metadata": {
    "collapsed": false
   },
   "outputs": [
    {
     "data": {
      "text/plain": [
       "(144, 2)"
      ]
     },
     "execution_count": 3,
     "metadata": {},
     "output_type": "execute_result"
    }
   ],
   "source": [
    "manual_labels.shape"
   ]
  },
  {
   "cell_type": "code",
   "execution_count": 4,
   "metadata": {
    "collapsed": false
   },
   "outputs": [],
   "source": [
    "df = pd.read_csv('./data/ums_viz.csv')\n",
    "df_perf = pd.read_pickle('descriptions.pkl')\n",
    "df_perf.columns.values[0] = 'perf_name'\n",
    "df_perf = df_perf.append(pd.DataFrame({'perf_name': ['Usher party'], 'description':['NA']}, index=[143]))\n",
    "\n",
    "df['perf_name'] = df['perf_name'].apply(lambda x: x.strip())\n",
    "df_perf['perf_name'] = df_perf['perf_name'].apply(lambda x: x.strip())\n",
    "\n",
    "df['per_seat'] = df['tck_amt']/df['num_seats']\n",
    "\n",
    "df_perf['label'] = manual_labels.label"
   ]
  },
  {
   "cell_type": "code",
   "execution_count": 5,
   "metadata": {
    "collapsed": false
   },
   "outputs": [],
   "source": [
    "df_label = df.merge(df_perf, on='perf_name')"
   ]
  },
  {
   "cell_type": "markdown",
   "metadata": {},
   "source": [
    "### Question 1: where do people come from?"
   ]
  },
  {
   "cell_type": "code",
   "execution_count": 6,
   "metadata": {
    "collapsed": true
   },
   "outputs": [],
   "source": [
    "## simple functions to transform the zip code\n",
    "\n",
    "def for_9_digits_zip_code(zip_code):\n",
    "    \"\"\"\n",
    "    for zip codes XXXXX-XXXX, just get the first five digits\n",
    "    \"\"\"\n",
    "    if len(zip_code) == 9:\n",
    "        return zip_code[:6]\n",
    "    else:\n",
    "        return zip_code\n",
    "\n",
    "def rough_loc_name(zip_code):\n",
    "    if len(zip_code) == 5:\n",
    "        return 'US'\n",
    "    elif len(zip_code) == 6:\n",
    "        return 'CAN'\n",
    "    else:\n",
    "        return 'OTHER'"
   ]
  },
  {
   "cell_type": "code",
   "execution_count": 7,
   "metadata": {
    "collapsed": false
   },
   "outputs": [
    {
     "data": {
      "text/html": [
       "<div>\n",
       "<table border=\"1\" class=\"dataframe\">\n",
       "  <thead>\n",
       "    <tr style=\"text-align: right;\">\n",
       "      <th></th>\n",
       "      <th>UMS_acct_no</th>\n",
       "      <th>acct_created</th>\n",
       "      <th>cust_type</th>\n",
       "      <th>perf_name</th>\n",
       "      <th>perf_dt</th>\n",
       "      <th>tck_amt</th>\n",
       "      <th>num_seats</th>\n",
       "      <th>venue</th>\n",
       "      <th>price_type</th>\n",
       "      <th>price_type_group</th>\n",
       "      <th>mode_of_sale</th>\n",
       "      <th>sales_channel</th>\n",
       "      <th>order_dt</th>\n",
       "      <th>postal_code</th>\n",
       "      <th>per_seat</th>\n",
       "      <th>description</th>\n",
       "      <th>label</th>\n",
       "      <th>zip_code</th>\n",
       "      <th>rough_area</th>\n",
       "    </tr>\n",
       "  </thead>\n",
       "  <tbody>\n",
       "    <tr>\n",
       "      <th>0</th>\n",
       "      <td>1111</td>\n",
       "      <td>1979-08-06 00:00:00.000</td>\n",
       "      <td>Household</td>\n",
       "      <td>The Infernal Comedy</td>\n",
       "      <td>2011-10-01 20:00:00.000</td>\n",
       "      <td>112.0</td>\n",
       "      <td>2</td>\n",
       "      <td>Hill Auditorium</td>\n",
       "      <td>Choral Union</td>\n",
       "      <td>Subs Prices</td>\n",
       "      <td>Subscription</td>\n",
       "      <td>Fax</td>\n",
       "      <td>2011-05-31 00:00:00.000</td>\n",
       "      <td>48103</td>\n",
       "      <td>56.0</td>\n",
       "      <td>John Malkovich makes his UMS debut portraying ...</td>\n",
       "      <td>2</td>\n",
       "      <td>48103</td>\n",
       "      <td>US</td>\n",
       "    </tr>\n",
       "    <tr>\n",
       "      <th>1</th>\n",
       "      <td>1115</td>\n",
       "      <td>1988-02-18 00:00:00.000</td>\n",
       "      <td>Household</td>\n",
       "      <td>The Infernal Comedy</td>\n",
       "      <td>2011-10-01 20:00:00.000</td>\n",
       "      <td>136.0</td>\n",
       "      <td>2</td>\n",
       "      <td>Hill Auditorium</td>\n",
       "      <td>Choral Union</td>\n",
       "      <td>Subs Prices</td>\n",
       "      <td>Subscription</td>\n",
       "      <td>Phone</td>\n",
       "      <td>2011-06-03 00:00:00.000</td>\n",
       "      <td>48105</td>\n",
       "      <td>68.0</td>\n",
       "      <td>John Malkovich makes his UMS debut portraying ...</td>\n",
       "      <td>2</td>\n",
       "      <td>48105</td>\n",
       "      <td>US</td>\n",
       "    </tr>\n",
       "    <tr>\n",
       "      <th>2</th>\n",
       "      <td>1131</td>\n",
       "      <td>1988-02-26 00:00:00.000</td>\n",
       "      <td>Household</td>\n",
       "      <td>The Infernal Comedy</td>\n",
       "      <td>2011-10-01 20:00:00.000</td>\n",
       "      <td>136.0</td>\n",
       "      <td>2</td>\n",
       "      <td>Hill Auditorium</td>\n",
       "      <td>Choral Union</td>\n",
       "      <td>Subs Prices</td>\n",
       "      <td>Subscription</td>\n",
       "      <td>Phone</td>\n",
       "      <td>2011-05-19 00:00:00.000</td>\n",
       "      <td>537112216</td>\n",
       "      <td>68.0</td>\n",
       "      <td>John Malkovich makes his UMS debut portraying ...</td>\n",
       "      <td>2</td>\n",
       "      <td>537112</td>\n",
       "      <td>CAN</td>\n",
       "    </tr>\n",
       "  </tbody>\n",
       "</table>\n",
       "</div>"
      ],
      "text/plain": [
       "   UMS_acct_no             acct_created  cust_type            perf_name  \\\n",
       "0         1111  1979-08-06 00:00:00.000  Household  The Infernal Comedy   \n",
       "1         1115  1988-02-18 00:00:00.000  Household  The Infernal Comedy   \n",
       "2         1131  1988-02-26 00:00:00.000  Household  The Infernal Comedy   \n",
       "\n",
       "                   perf_dt  tck_amt  num_seats            venue    price_type  \\\n",
       "0  2011-10-01 20:00:00.000    112.0          2  Hill Auditorium  Choral Union   \n",
       "1  2011-10-01 20:00:00.000    136.0          2  Hill Auditorium  Choral Union   \n",
       "2  2011-10-01 20:00:00.000    136.0          2  Hill Auditorium  Choral Union   \n",
       "\n",
       "  price_type_group  mode_of_sale sales_channel                 order_dt  \\\n",
       "0      Subs Prices  Subscription           Fax  2011-05-31 00:00:00.000   \n",
       "1      Subs Prices  Subscription         Phone  2011-06-03 00:00:00.000   \n",
       "2      Subs Prices  Subscription         Phone  2011-05-19 00:00:00.000   \n",
       "\n",
       "  postal_code  per_seat                                        description  \\\n",
       "0       48103      56.0  John Malkovich makes his UMS debut portraying ...   \n",
       "1       48105      68.0  John Malkovich makes his UMS debut portraying ...   \n",
       "2   537112216      68.0  John Malkovich makes his UMS debut portraying ...   \n",
       "\n",
       "   label zip_code rough_area  \n",
       "0      2    48103         US  \n",
       "1      2    48105         US  \n",
       "2      2   537112        CAN  "
      ]
     },
     "execution_count": 7,
     "metadata": {},
     "output_type": "execute_result"
    }
   ],
   "source": [
    "df_label['zip_code'] =df_label.postal_code.apply(for_9_digits_zip_code)\n",
    "df_label['rough_area'] = df_label.zip_code.apply(rough_loc_name)\n",
    "df_label.head(3)"
   ]
  },
  {
   "cell_type": "markdown",
   "metadata": {
    "collapsed": false
   },
   "source": [
    "### zip code distribution\n",
    "Here I will plot for different length of zip code the distribution of the purchase records, the same plot for different areas (US, CAN, OTHER)."
   ]
  },
  {
   "cell_type": "code",
   "execution_count": 8,
   "metadata": {
    "collapsed": false
   },
   "outputs": [
    {
     "data": {
      "text/plain": [
       "<matplotlib.text.Text at 0x10ffc6a0>"
      ]
     },
     "execution_count": 8,
     "metadata": {},
     "output_type": "execute_result"
    },
    {
     "data": {
      "image/png": "[encoded data removed]",
      "text/plain": [
       "<matplotlib.figure.Figure at 0x3bc9940>"
      ]
     },
     "metadata": {},
     "output_type": "display_data"
    }
   ],
   "source": [
    "# plot 1: distribution of purchase record for different areas\n",
    "df_label['zip_code_len'] = df_label.zip_code.apply(lambda x: len(x))\n",
    "\n",
    "f, (ax1, ax2) = plt.subplots(2, 1, figsize=(8, 6), sharex=False)\n",
    "plt.suptitle('Number of Purchase Record', fontsize=15)\n",
    "\n",
    "df_label.rough_area.groupby(df_label.zip_code_len).count().plot(kind='bar', ax=ax1)\n",
    "ax1.set_xlabel('Length of zip code')\n",
    "ax1.set_ylabel('Counts')\n",
    "\n",
    "df_label.rough_area.groupby(df_label.rough_area).count().plot(kind='bar', ax=ax2)\n",
    "ax2.set_xlabel('Area')\n",
    "ax2.set_ylabel('Counts')"
   ]
  },
  {
   "cell_type": "markdown",
   "metadata": {
    "collapsed": false
   },
   "source": [
    "Let's take a look at number of tickets purchased for different locations."
   ]
  },
  {
   "cell_type": "code",
   "execution_count": 9,
   "metadata": {
    "collapsed": false
   },
   "outputs": [
    {
     "data": {
      "text/plain": [
       "<matplotlib.text.Text at 0x111b5a58>"
      ]
     },
     "execution_count": 9,
     "metadata": {},
     "output_type": "execute_result"
    },
    {
     "data": {
      "image/png": "[encoded data removed]",
      "text/plain": [
       "<matplotlib.figure.Figure at 0x10c8f630>"
      ]
     },
     "metadata": {},
     "output_type": "display_data"
    }
   ],
   "source": [
    "f, (ax1, ax2) = plt.subplots(2, 1, figsize=(8, 6), sharex=False)\n",
    "\n",
    "plt.suptitle('Number of Tickets Purchased',fontsize=15)\n",
    "\n",
    "df_label.num_seats.groupby(df_label.zip_code_len).sum().plot(kind='bar', ax=ax1)\n",
    "ax1.set_xlabel('Length of zip code')\n",
    "ax1.set_ylabel('Number of seats purchased')\n",
    "\n",
    "df_label.num_seats.groupby(df_label.rough_area).sum().plot(kind='bar', ax=ax2)\n",
    "ax2.set_xlabel('Area')\n",
    "ax2.set_ylabel('Number of seats purchased')"
   ]
  },
  {
   "cell_type": "markdown",
   "metadata": {
    "collapsed": false
   },
   "source": [
    "Total revenues."
   ]
  },
  {
   "cell_type": "code",
   "execution_count": 10,
   "metadata": {
    "collapsed": false
   },
   "outputs": [
    {
     "data": {
      "text/plain": [
       "<matplotlib.text.Text at 0xd996f60>"
      ]
     },
     "execution_count": 10,
     "metadata": {},
     "output_type": "execute_result"
    },
    {
     "data": {
      "image/png": "[encoded data removed]",
      "text/plain": [
       "<matplotlib.figure.Figure at 0x10c8f748>"
      ]
     },
     "metadata": {},
     "output_type": "display_data"
    }
   ],
   "source": [
    "f, (ax1, ax2) = plt.subplots(2, 1, figsize=(8, 6), sharex=False)\n",
    "\n",
    "plt.suptitle('Total Revenues',fontsize=15)\n",
    "\n",
    "df_label.tck_amt.groupby(df_label.zip_code_len).sum().plot(kind='bar', ax=ax1)\n",
    "ax1.set_xlabel('Length of zip code')\n",
    "ax1.set_ylabel('Number of seats purchased')\n",
    "\n",
    "df_label.tck_amt.groupby(df_label.rough_area).sum().plot(kind='bar', ax=ax2)\n",
    "ax2.set_xlabel('Area')\n",
    "ax2.set_ylabel('Number of seats purchased')"
   ]
  },
  {
   "cell_type": "markdown",
   "metadata": {},
   "source": [
    "Average cost per ticket."
   ]
  },
  {
   "cell_type": "code",
   "execution_count": 11,
   "metadata": {
    "collapsed": false
   },
   "outputs": [
    {
     "data": {
      "text/plain": [
       "<matplotlib.text.Text at 0xdc8a898>"
      ]
     },
     "execution_count": 11,
     "metadata": {},
     "output_type": "execute_result"
    },
    {
     "data": {
      "image/png": "[encoded data removed]",
      "text/plain": [
       "<matplotlib.figure.Figure at 0xd9969e8>"
      ]
     },
     "metadata": {},
     "output_type": "display_data"
    }
   ],
   "source": [
    "f, (ax1, ax2) = plt.subplots(2, 1, figsize=(8, 6), sharex=False)\n",
    "\n",
    "plt.suptitle('Average Cost Per Ticket',fontsize=15)\n",
    "\n",
    "df_label.per_seat.groupby(df_label.zip_code_len).mean().plot(kind='bar', ax=ax1)\n",
    "ax1.set_xlabel('Length of zip code')\n",
    "ax1.set_ylabel('Average cost per ticket')\n",
    "\n",
    "df_label.per_seat.groupby(df_label.rough_area).mean().plot(kind='bar', ax=ax2)\n",
    "ax2.set_xlabel('Area')\n",
    "ax2.set_ylabel('Average cost per ticket')"
   ]
  },
  {
   "cell_type": "markdown",
   "metadata": {},
   "source": [
    "US people tend to buy slightly more expensive tickets, but zip code with length 1 and 3 buy most expensive tickets on average."
   ]
  },
  {
   "cell_type": "markdown",
   "metadata": {},
   "source": [
    "### Preferences for different areas' people\n",
    "\n",
    "People from different area may have different preferences in their taste, purchase method, subscription, etc. Next, I will explore this aspect"
   ]
  },
  {
   "cell_type": "code",
   "execution_count": 12,
   "metadata": {
    "collapsed": true
   },
   "outputs": [],
   "source": [
    "def log_sum(x):\n",
    "    return np.log2(x.sum())"
   ]
  },
  {
   "cell_type": "code",
   "execution_count": 13,
   "metadata": {
    "collapsed": false
   },
   "outputs": [
    {
     "name": "stderr",
     "output_type": "stream",
     "text": [
      "F:\\Xinyu\\AppData\\Local\\Continuum\\Anaconda\\lib\\site-packages\\matplotlib\\collections.py:590: FutureWarning: elementwise comparison failed; returning scalar instead, but in the future will perform elementwise comparison\n",
      "  if self._edgecolors == str('face'):\n"
     ]
    },
    {
     "data": {
      "text/plain": [
       "<matplotlib.text.Text at 0x111b5da0>"
      ]
     },
     "execution_count": 13,
     "metadata": {},
     "output_type": "execute_result"
    },
    {
     "data": {
      "image/png": "[encoded data removed]",
      "text/plain": [
       "<matplotlib.figure.Figure at 0xdb41dd8>"
      ]
     },
     "metadata": {},
     "output_type": "display_data"
    }
   ],
   "source": [
    "x = df_label.pivot_table('num_seats', index='zip_code_len', columns='label', aggfunc=log_sum)\n",
    "x = x.rename(columns={0: 'jazz', 1: 'choral', 2: 'theatre', 3: 'dance', 4: 'chamber', 5: 'orchestra', 6: 'other', 7: 'opera', \n",
    "                  8: 'soloist'})\n",
    "plt.figure(figsize=(10, 8))\n",
    "plt.title('Total tickets amount (log) for different topics and zip code lengths', fontsize=15)\n",
    "sns.heatmap(x, annot=True, fmt='.2f',linewidths=.5)\n",
    "plt.xlabel('Topic')\n",
    "plt.ylabel('Zip code length')"
   ]
  },
  {
   "cell_type": "code",
   "execution_count": 14,
   "metadata": {
    "collapsed": false
   },
   "outputs": [
    {
     "data": {
      "text/plain": [
       "<matplotlib.text.Text at 0xabf7748>"
      ]
     },
     "execution_count": 14,
     "metadata": {},
     "output_type": "execute_result"
    },
    {
     "data": {
      "image/png": "[encoded data removed]",
      "text/plain": [
       "<matplotlib.figure.Figure at 0x11251f98>"
      ]
     },
     "metadata": {},
     "output_type": "display_data"
    }
   ],
   "source": [
    "x = df_label.pivot_table('num_seats', index='rough_area', columns='label', aggfunc='sum')\n",
    "x = x.rename(columns={0: 'jazz', 1: 'choral', 2: 'theatre', 3: 'dance', 4: 'chamber', 5: 'orchestra', 6: 'other', 7: 'opera', \n",
    "                  8: 'soloist'})\n",
    "f, axes = plt.subplots(1,3, figsize=[15, 6])\n",
    "plt.suptitle('Total Number of Tickets Purchased', fontsize=15)\n",
    "for i, area in enumerate(x.index):\n",
    "    x.ix[area].plot(kind='bar', ax=axes[i])\n",
    "    axes[i].set_xlabel(area)\n",
    "axes[0].set_ylabel('Total seats purchased')"
   ]
  },
  {
   "cell_type": "code",
   "execution_count": 15,
   "metadata": {
    "collapsed": false
   },
   "outputs": [
    {
     "data": {
      "text/plain": [
       "<matplotlib.text.Text at 0xad2df60>"
      ]
     },
     "execution_count": 15,
     "metadata": {},
     "output_type": "execute_result"
    },
    {
     "data": {
      "image/png": "[encoded data removed]",
      "text/plain": [
       "<matplotlib.figure.Figure at 0x10decd68>"
      ]
     },
     "metadata": {},
     "output_type": "display_data"
    }
   ],
   "source": [
    "x = df_label.pivot_table('tck_amt', index='rough_area', columns='label', aggfunc='sum')\n",
    "x = x.rename(columns={0: 'jazz', 1: 'choral', 2: 'theatre', 3: 'dance', 4: 'chamber', 5: 'orchestra', 6: 'other', 7: 'opera', \n",
    "                  8: 'soloist'})\n",
    "f, axes = plt.subplots(1,3, figsize=[15, 6])\n",
    "plt.suptitle('Total Amount Purchased', fontsize=15)\n",
    "for i, area in enumerate(x.index):\n",
    "    x.ix[area].plot(kind='bar', ax=axes[i])\n",
    "    axes[i].set_xlabel(area)\n",
    "axes[0].set_ylabel('Total amount purchased')"
   ]
  },
  {
   "cell_type": "code",
   "execution_count": 16,
   "metadata": {
    "collapsed": false
   },
   "outputs": [
    {
     "data": {
      "text/plain": [
       "<matplotlib.axes._subplots.AxesSubplot at 0xa891080>"
      ]
     },
     "execution_count": 16,
     "metadata": {},
     "output_type": "execute_result"
    },
    {
     "data": {
      "image/png": "[encoded data removed]",
      "text/plain": [
       "<matplotlib.figure.Figure at 0xf546f98>"
      ]
     },
     "metadata": {},
     "output_type": "display_data"
    }
   ],
   "source": [
    "x = df_label.pivot_table('per_seat', index='label', columns='rough_area', aggfunc='mean')\n",
    "x = x.rename(index={0: 'jazz', 1: 'choral', 2: 'theatre', 3: 'dance', 4: 'chamber', 5: 'orchestra', 6: 'other', 7: 'opera', \n",
    "                  8: 'soloist'})\n",
    "x.plot(kind='bar', figsize=(8, 5), title='Average Cost Per Ticket', fontsize=12)"
   ]
  },
  {
   "cell_type": "markdown",
   "metadata": {},
   "source": [
    "US people tend to spend more on tickets."
   ]
  },
  {
   "cell_type": "code",
   "execution_count": 17,
   "metadata": {
    "collapsed": false
   },
   "outputs": [
    {
     "data": {
      "text/plain": [
       "<matplotlib.text.Text at 0xf3e6048>"
      ]
     },
     "execution_count": 17,
     "metadata": {},
     "output_type": "execute_result"
    },
    {
     "data": {
      "image/png": "[encoded data removed]",
      "text/plain": [
       "<matplotlib.figure.Figure at 0xe0de048>"
      ]
     },
     "metadata": {},
     "output_type": "display_data"
    }
   ],
   "source": [
    "x = df_label.pivot_table('num_seats', index='rough_area', columns='sales_channel', aggfunc='sum')\n",
    "\n",
    "f, axes = plt.subplots(1,3, figsize=[15, 6])\n",
    "plt.suptitle('Total Seats Purchased', fontsize=15)\n",
    "for i, area in enumerate(x.index):\n",
    "    x.ix[area].plot(kind='bar', ax=axes[i])\n",
    "    axes[i].set_xlabel(area)\n",
    "axes[0].set_ylabel('Total seats purchased')"
   ]
  },
  {
   "cell_type": "markdown",
   "metadata": {},
   "source": [
    "### More analysis on US purchases"
   ]
  },
  {
   "cell_type": "code",
   "execution_count": 40,
   "metadata": {
    "collapsed": true
   },
   "outputs": [],
   "source": [
    "zipcode_db = pd.read_csv('zip_code_database.csv')"
   ]
  },
  {
   "cell_type": "code",
   "execution_count": 41,
   "metadata": {
    "collapsed": true
   },
   "outputs": [],
   "source": [
    "df_label_US = df_label.ix[df_label.zip_code_len==5]"
   ]
  },
  {
   "cell_type": "code",
   "execution_count": 39,
   "metadata": {
    "collapsed": false
   },
   "outputs": [
    {
     "data": {
      "text/html": [
       "<div>\n",
       "<table border=\"1\" class=\"dataframe\">\n",
       "  <thead>\n",
       "    <tr style=\"text-align: right;\">\n",
       "      <th></th>\n",
       "      <th>UMS_acct_no</th>\n",
       "      <th>acct_created</th>\n",
       "      <th>cust_type</th>\n",
       "      <th>perf_name</th>\n",
       "      <th>perf_dt</th>\n",
       "      <th>tck_amt</th>\n",
       "      <th>num_seats</th>\n",
       "      <th>venue</th>\n",
       "      <th>price_type</th>\n",
       "      <th>price_type_group</th>\n",
       "      <th>mode_of_sale</th>\n",
       "      <th>sales_channel</th>\n",
       "      <th>order_dt</th>\n",
       "      <th>postal_code</th>\n",
       "      <th>per_seat</th>\n",
       "      <th>description</th>\n",
       "      <th>label</th>\n",
       "      <th>zip_code</th>\n",
       "      <th>rough_area</th>\n",
       "      <th>zip_code_len</th>\n",
       "    </tr>\n",
       "  </thead>\n",
       "  <tbody>\n",
       "    <tr>\n",
       "      <th>55408</th>\n",
       "      <td>209839</td>\n",
       "      <td>2011-12-31 14:23:38.467</td>\n",
       "      <td>Individual</td>\n",
       "      <td>Einstein on the Beac</td>\n",
       "      <td>2012-01-21 19:00:00.000</td>\n",
       "      <td>54.0</td>\n",
       "      <td>1</td>\n",
       "      <td>Power Center</td>\n",
       "      <td>Adult inc 1</td>\n",
       "      <td>Regular Prices</td>\n",
       "      <td>Web - UMS - Single</td>\n",
       "      <td>Web-TNEW</td>\n",
       "      <td>2011-12-31 14:20:58.480</td>\n",
       "      <td>667</td>\n",
       "      <td>54.0</td>\n",
       "      <td>“The most beautiful thing we can experience is...</td>\n",
       "      <td>7</td>\n",
       "      <td>667</td>\n",
       "      <td>OTHER</td>\n",
       "      <td>3</td>\n",
       "    </tr>\n",
       "  </tbody>\n",
       "</table>\n",
       "</div>"
      ],
      "text/plain": [
       "       UMS_acct_no             acct_created   cust_type             perf_name  \\\n",
       "55408       209839  2011-12-31 14:23:38.467  Individual  Einstein on the Beac   \n",
       "\n",
       "                       perf_dt  tck_amt  num_seats         venue   price_type  \\\n",
       "55408  2012-01-21 19:00:00.000     54.0          1  Power Center  Adult inc 1   \n",
       "\n",
       "      price_type_group        mode_of_sale sales_channel  \\\n",
       "55408   Regular Prices  Web - UMS - Single      Web-TNEW   \n",
       "\n",
       "                      order_dt postal_code  per_seat  \\\n",
       "55408  2011-12-31 14:20:58.480         667      54.0   \n",
       "\n",
       "                                             description  label zip_code  \\\n",
       "55408  “The most beautiful thing we can experience is...      7      667   \n",
       "\n",
       "      rough_area  zip_code_len  \n",
       "55408      OTHER             3  "
      ]
     },
     "execution_count": 39,
     "metadata": {},
     "output_type": "execute_result"
    }
   ],
   "source": [
    "# turns out the 3 digit zip code just has one record, maybe we can just ignore it\n",
    "df_label.ix[df_label.zip_code_len==3]"
   ]
  },
  {
   "cell_type": "code",
   "execution_count": 46,
   "metadata": {
    "collapsed": true
   },
   "outputs": [],
   "source": [
    "def find_latitude(zipcode):\n",
    "    return zipcode_db.ix[zipcode_db.zip==int(zipcode)].latitude\n",
    "def find_longitude(zipcode):\n",
    "    return izpcode_db.ix[zipcode_db.zp==int(zipcode)].longitude"
   ]
  },
  {
   "cell_type": "code",
   "execution_count": 49,
   "metadata": {
    "collapsed": false
   },
   "outputs": [
    {
     "data": {
      "text/html": [
       "<div>\n",
       "<table border=\"1\" class=\"dataframe\">\n",
       "  <thead>\n",
       "    <tr style=\"text-align: right;\">\n",
       "      <th></th>\n",
       "      <th>zip_code</th>\n",
       "      <th>type</th>\n",
       "      <th>primary_city</th>\n",
       "      <th>acceptable_cities</th>\n",
       "      <th>unacceptable_cities</th>\n",
       "      <th>state</th>\n",
       "      <th>county</th>\n",
       "      <th>timezone</th>\n",
       "      <th>area_codes</th>\n",
       "      <th>latitude</th>\n",
       "      <th>longitude</th>\n",
       "      <th>world_region</th>\n",
       "      <th>country</th>\n",
       "      <th>decommissioned</th>\n",
       "      <th>estimated_population</th>\n",
       "      <th>notes</th>\n",
       "    </tr>\n",
       "  </thead>\n",
       "  <tbody>\n",
       "    <tr>\n",
       "      <th>0</th>\n",
       "      <td>544</td>\n",
       "      <td>UNIQUE</td>\n",
       "      <td>Holtsville</td>\n",
       "      <td>NaN</td>\n",
       "      <td>Irs Service Center</td>\n",
       "      <td>NY</td>\n",
       "      <td>Suffolk County</td>\n",
       "      <td>America/New_York</td>\n",
       "      <td>631</td>\n",
       "      <td>40.81</td>\n",
       "      <td>-73.04</td>\n",
       "      <td>NaN</td>\n",
       "      <td>US</td>\n",
       "      <td>0</td>\n",
       "      <td>0</td>\n",
       "      <td>NaN</td>\n",
       "    </tr>\n",
       "    <tr>\n",
       "      <th>1</th>\n",
       "      <td>601</td>\n",
       "      <td>STANDARD</td>\n",
       "      <td>Adjuntas</td>\n",
       "      <td>NaN</td>\n",
       "      <td>Colinas Del Gigante, Jard De Adjuntas, Urb San...</td>\n",
       "      <td>PR</td>\n",
       "      <td>Adjuntas</td>\n",
       "      <td>America/Puerto_Rico</td>\n",
       "      <td>787,939</td>\n",
       "      <td>18.16</td>\n",
       "      <td>-66.72</td>\n",
       "      <td>NaN</td>\n",
       "      <td>US</td>\n",
       "      <td>0</td>\n",
       "      <td>0</td>\n",
       "      <td>NaN</td>\n",
       "    </tr>\n",
       "    <tr>\n",
       "      <th>2</th>\n",
       "      <td>602</td>\n",
       "      <td>STANDARD</td>\n",
       "      <td>Aguada</td>\n",
       "      <td>NaN</td>\n",
       "      <td>Alts De Aguada, Bo Guaniquilla, Comunidad Las ...</td>\n",
       "      <td>PR</td>\n",
       "      <td>NaN</td>\n",
       "      <td>NaN</td>\n",
       "      <td>787,939</td>\n",
       "      <td>18.38</td>\n",
       "      <td>-67.18</td>\n",
       "      <td>NaN</td>\n",
       "      <td>US</td>\n",
       "      <td>0</td>\n",
       "      <td>0</td>\n",
       "      <td>NaN</td>\n",
       "    </tr>\n",
       "    <tr>\n",
       "      <th>3</th>\n",
       "      <td>603</td>\n",
       "      <td>STANDARD</td>\n",
       "      <td>Aguadilla</td>\n",
       "      <td>Ramey</td>\n",
       "      <td>Bda Caban, Bda Esteves, Bo Borinquen, Bo Ceiba...</td>\n",
       "      <td>PR</td>\n",
       "      <td>Aguadilla</td>\n",
       "      <td>America/Puerto_Rico</td>\n",
       "      <td>787</td>\n",
       "      <td>18.43</td>\n",
       "      <td>-67.15</td>\n",
       "      <td>NaN</td>\n",
       "      <td>US</td>\n",
       "      <td>0</td>\n",
       "      <td>0</td>\n",
       "      <td>NaN</td>\n",
       "    </tr>\n",
       "    <tr>\n",
       "      <th>4</th>\n",
       "      <td>604</td>\n",
       "      <td>PO BOX</td>\n",
       "      <td>Aguadilla</td>\n",
       "      <td>Ramey</td>\n",
       "      <td>NaN</td>\n",
       "      <td>PR</td>\n",
       "      <td>NaN</td>\n",
       "      <td>NaN</td>\n",
       "      <td>NaN</td>\n",
       "      <td>18.43</td>\n",
       "      <td>-67.15</td>\n",
       "      <td>NaN</td>\n",
       "      <td>US</td>\n",
       "      <td>0</td>\n",
       "      <td>0</td>\n",
       "      <td>NaN</td>\n",
       "    </tr>\n",
       "  </tbody>\n",
       "</table>\n",
       "</div>"
      ],
      "text/plain": [
       "   zip_code      type primary_city acceptable_cities  \\\n",
       "0       544    UNIQUE   Holtsville               NaN   \n",
       "1       601  STANDARD     Adjuntas               NaN   \n",
       "2       602  STANDARD       Aguada               NaN   \n",
       "3       603  STANDARD    Aguadilla             Ramey   \n",
       "4       604    PO BOX    Aguadilla             Ramey   \n",
       "\n",
       "                                 unacceptable_cities state          county  \\\n",
       "0                                 Irs Service Center    NY  Suffolk County   \n",
       "1  Colinas Del Gigante, Jard De Adjuntas, Urb San...    PR        Adjuntas   \n",
       "2  Alts De Aguada, Bo Guaniquilla, Comunidad Las ...    PR             NaN   \n",
       "3  Bda Caban, Bda Esteves, Bo Borinquen, Bo Ceiba...    PR       Aguadilla   \n",
       "4                                                NaN    PR             NaN   \n",
       "\n",
       "              timezone area_codes  latitude  longitude world_region country  \\\n",
       "0     America/New_York        631     40.81     -73.04          NaN      US   \n",
       "1  America/Puerto_Rico    787,939     18.16     -66.72          NaN      US   \n",
       "2                  NaN    787,939     18.38     -67.18          NaN      US   \n",
       "3  America/Puerto_Rico        787     18.43     -67.15          NaN      US   \n",
       "4                  NaN        NaN     18.43     -67.15          NaN      US   \n",
       "\n",
       "   decommissioned  estimated_population notes  \n",
       "0               0                     0   NaN  \n",
       "1               0                     0   NaN  \n",
       "2               0                     0   NaN  \n",
       "3               0                     0   NaN  \n",
       "4               0                     0   NaN  "
      ]
     },
     "execution_count": 49,
     "metadata": {},
     "output_type": "execute_result"
    }
   ],
   "source": [
    "zipcode_db = zipcode_db.rename(columns={'zip':'zip_code'})\n",
    "zipcode_db.head()"
   ]
  },
  {
   "cell_type": "code",
   "execution_count": 55,
   "metadata": {
    "collapsed": false
   },
   "outputs": [
    {
     "data": {
      "text/html": [
       "<div>\n",
       "<table border=\"1\" class=\"dataframe\">\n",
       "  <thead>\n",
       "    <tr style=\"text-align: right;\">\n",
       "      <th></th>\n",
       "      <th>UMS_acct_no</th>\n",
       "      <th>acct_created</th>\n",
       "      <th>cust_type</th>\n",
       "      <th>perf_name</th>\n",
       "      <th>perf_dt</th>\n",
       "      <th>tck_amt</th>\n",
       "      <th>num_seats</th>\n",
       "      <th>venue</th>\n",
       "      <th>price_type</th>\n",
       "      <th>price_type_group</th>\n",
       "      <th>...</th>\n",
       "      <th>county</th>\n",
       "      <th>timezone</th>\n",
       "      <th>area_codes</th>\n",
       "      <th>latitude</th>\n",
       "      <th>longitude</th>\n",
       "      <th>world_region</th>\n",
       "      <th>country</th>\n",
       "      <th>decommissioned</th>\n",
       "      <th>estimated_population</th>\n",
       "      <th>notes</th>\n",
       "    </tr>\n",
       "  </thead>\n",
       "  <tbody>\n",
       "    <tr>\n",
       "      <th>0</th>\n",
       "      <td>1111</td>\n",
       "      <td>1979-08-06 00:00:00.000</td>\n",
       "      <td>Household</td>\n",
       "      <td>The Infernal Comedy</td>\n",
       "      <td>2011-10-01 20:00:00.000</td>\n",
       "      <td>112.0</td>\n",
       "      <td>2</td>\n",
       "      <td>Hill Auditorium</td>\n",
       "      <td>Choral Union</td>\n",
       "      <td>Subs Prices</td>\n",
       "      <td>...</td>\n",
       "      <td>Washtenaw County</td>\n",
       "      <td>America/Detroit</td>\n",
       "      <td>734</td>\n",
       "      <td>42.27</td>\n",
       "      <td>-83.73</td>\n",
       "      <td>NaN</td>\n",
       "      <td>US</td>\n",
       "      <td>0</td>\n",
       "      <td>44859</td>\n",
       "      <td>NaN</td>\n",
       "    </tr>\n",
       "    <tr>\n",
       "      <th>1</th>\n",
       "      <td>1217</td>\n",
       "      <td>1988-02-10 00:00:00.000</td>\n",
       "      <td>Household</td>\n",
       "      <td>The Infernal Comedy</td>\n",
       "      <td>2011-10-01 20:00:00.000</td>\n",
       "      <td>74.0</td>\n",
       "      <td>2</td>\n",
       "      <td>Hill Auditorium</td>\n",
       "      <td>Choral Union</td>\n",
       "      <td>Subs Prices</td>\n",
       "      <td>...</td>\n",
       "      <td>Washtenaw County</td>\n",
       "      <td>America/Detroit</td>\n",
       "      <td>734</td>\n",
       "      <td>42.27</td>\n",
       "      <td>-83.73</td>\n",
       "      <td>NaN</td>\n",
       "      <td>US</td>\n",
       "      <td>0</td>\n",
       "      <td>44859</td>\n",
       "      <td>NaN</td>\n",
       "    </tr>\n",
       "    <tr>\n",
       "      <th>2</th>\n",
       "      <td>1306</td>\n",
       "      <td>1988-02-10 00:00:00.000</td>\n",
       "      <td>Household</td>\n",
       "      <td>The Infernal Comedy</td>\n",
       "      <td>2011-10-01 20:00:00.000</td>\n",
       "      <td>136.0</td>\n",
       "      <td>2</td>\n",
       "      <td>Hill Auditorium</td>\n",
       "      <td>Choral Union</td>\n",
       "      <td>Subs Prices</td>\n",
       "      <td>...</td>\n",
       "      <td>Washtenaw County</td>\n",
       "      <td>America/Detroit</td>\n",
       "      <td>734</td>\n",
       "      <td>42.27</td>\n",
       "      <td>-83.73</td>\n",
       "      <td>NaN</td>\n",
       "      <td>US</td>\n",
       "      <td>0</td>\n",
       "      <td>44859</td>\n",
       "      <td>NaN</td>\n",
       "    </tr>\n",
       "  </tbody>\n",
       "</table>\n",
       "<p>3 rows × 35 columns</p>\n",
       "</div>"
      ],
      "text/plain": [
       "   UMS_acct_no             acct_created  cust_type            perf_name  \\\n",
       "0         1111  1979-08-06 00:00:00.000  Household  The Infernal Comedy   \n",
       "1         1217  1988-02-10 00:00:00.000  Household  The Infernal Comedy   \n",
       "2         1306  1988-02-10 00:00:00.000  Household  The Infernal Comedy   \n",
       "\n",
       "                   perf_dt  tck_amt  num_seats            venue    price_type  \\\n",
       "0  2011-10-01 20:00:00.000    112.0          2  Hill Auditorium  Choral Union   \n",
       "1  2011-10-01 20:00:00.000     74.0          2  Hill Auditorium  Choral Union   \n",
       "2  2011-10-01 20:00:00.000    136.0          2  Hill Auditorium  Choral Union   \n",
       "\n",
       "  price_type_group  ...              county         timezone area_codes  \\\n",
       "0      Subs Prices  ...    Washtenaw County  America/Detroit        734   \n",
       "1      Subs Prices  ...    Washtenaw County  America/Detroit        734   \n",
       "2      Subs Prices  ...    Washtenaw County  America/Detroit        734   \n",
       "\n",
       "  latitude  longitude world_region  country  decommissioned  \\\n",
       "0    42.27     -83.73          NaN       US               0   \n",
       "1    42.27     -83.73          NaN       US               0   \n",
       "2    42.27     -83.73          NaN       US               0   \n",
       "\n",
       "  estimated_population  notes  \n",
       "0                44859    NaN  \n",
       "1                44859    NaN  \n",
       "2                44859    NaN  \n",
       "\n",
       "[3 rows x 35 columns]"
      ]
     },
     "execution_count": 55,
     "metadata": {},
     "output_type": "execute_result"
    }
   ],
   "source": [
    "df_label_US.zip_code = df_label_US.zip_code.apply(lambda x: int(x))\n",
    "df_label_US = df_label_US.merge(zipcode_db, on='zip_code')\n",
    "df_label_US.head(3)"
   ]
  },
  {
   "cell_type": "code",
   "execution_count": 61,
   "metadata": {
    "collapsed": false
   },
   "outputs": [],
   "source": [
    "tck_amt_zip_code = df_label_US.num_seats.groupby(df_label_US.zip_code).sum()"
   ]
  },
  {
   "cell_type": "code",
   "execution_count": 62,
   "metadata": {
    "collapsed": false
   },
   "outputs": [],
   "source": [
    "import folium\n",
    "from folium import plugins\n",
    "data = (np.random.normal(size=(100, 3)) *\n",
    "        np.array([[1, 1, 1]]) +\n",
    "        np.array([[48, 5, 1]])).tolist()"
   ]
  },
  {
   "cell_type": "code",
   "execution_count": 63,
   "metadata": {
    "collapsed": false
   },
   "outputs": [
    {
     "data": {
      "text/plain": [
       "[[48.66319625803999, 4.409557210255788, 0.7440359353495074],\n",
       " [46.63375301937063, 5.582740345982539, 1.9810752501287112],\n",
       " [48.65609982126096, 5.079775915780305, 1.5118905176806967],\n",
       " [48.22280048825661, 6.056696273763686, 0.25770235641652417],\n",
       " [47.27108062419487, 4.619544458411423, 3.0075228632235405],\n",
       " [49.03616424476633, 4.16451303876036, 1.5900894549254092],\n",
       " [47.83266651358944, 5.284477012240988, 0.3619215786386043],\n",
       " [48.240412144703654, 4.27138066071695, 1.4369518240663812],\n",
       " [48.45069269002788, 5.298018400831405, 2.428486873058003],\n",
       " [49.65654237016066, 3.914351025109946, 1.4230057913069343],\n",
       " [48.5008405998562, 5.644435827703285, 1.0960625901245409],\n",
       " [47.568715352512335, 3.747759928087508, 0.12760146873264877],\n",
       " [46.41178261707872, 4.211769882340333, 0.1943901999495774],\n",
       " [46.472868815855584, 5.1648600287225515, 2.565212133928787],\n",
       " [47.62628916079498, 5.505657633516211, 0.6575580040309047],\n",
       " [47.483023017693306, 4.96710578331407, 1.340497052946083],\n",
       " [48.186698551360855, 5.950647417185923, 2.222495555325752],\n",
       " [49.02200225027556, 5.5099395185760995, -0.42896550788166987],\n",
       " [48.37498255115099, 4.45768565615528, 1.7734588895926557],\n",
       " [47.000878642646356, 6.929170565369264, 2.499704440587653],\n",
       " [47.60748738907216, 3.6412608406916673, 0.2398874696183999],\n",
       " [48.11873334169048, 6.192204805055571, -0.3615954413369602],\n",
       " [48.199066507908654, 5.743358751316065, 0.608573749951852],\n",
       " [47.43637006132527, 4.88507757062254, -0.6991489727127662],\n",
       " [47.778343414070875, 3.848034978324632, 1.2093346301374357],\n",
       " [49.630278923150314, 3.6958096817477504, 3.820904790026891],\n",
       " [47.70347113690679, 4.445966769170592, 1.3598500052875666],\n",
       " [47.80056784525975, 4.317065169639177, 0.3452207431073775],\n",
       " [48.04203029803113, 5.228668133401159, 1.3906032478479358],\n",
       " [47.93698000389667, 4.817378624113291, 1.4058163474321583],\n",
       " [48.6694910998153, 5.170465051586058, -0.8481408947391551],\n",
       " [47.0919378258416, 8.195743375261609, 2.256363068702766],\n",
       " [48.52819787171452, 6.666662219549144, 1.3269549188981866],\n",
       " [47.74951203221463, 4.663938833962085, 1.4424425923893587],\n",
       " [48.71347994345407, 5.498418741569947, 0.9467708807218537],\n",
       " [48.046657515983966, 4.115783477656446, 0.9286439667692796],\n",
       " [48.177758573872836, 4.195335008855672, 2.075765074794085],\n",
       " [47.87353757029382, 3.500188433812308, 2.5346054330300243],\n",
       " [50.06031626717249, 5.634934388842968, 1.0049622981434967],\n",
       " [47.4605997021796, 5.514714042813049, 1.8978673102766557],\n",
       " [48.40030453646841, 5.431214056263846, 1.2380151459451958],\n",
       " [48.94254525837643, 2.9678579233386317, 0.7523651454722231],\n",
       " [48.05039128222219, 3.8753087221995757, 0.5695739892234604],\n",
       " [49.419611906155104, 5.566811252144776, 0.14893010703685072],\n",
       " [47.89292475145685, 5.192241709676881, -1.1170445398108941],\n",
       " [50.77351963390304, 4.9848564698650675, 1.0755313731444316],\n",
       " [46.68660642634298, 4.700353988897199, 1.0040614019084735],\n",
       " [48.750597632259094, 4.660720622509526, -0.5319796524849036],\n",
       " [45.45470437988969, 5.980466478175351, 3.3541637439107443],\n",
       " [49.12428030795961, 6.1303450654417935, 1.3248991400974302],\n",
       " [47.792600844410444, 4.969901731804526, 1.0448718972533746],\n",
       " [48.28524956438254, 5.891462752010287, -0.2039163503499466],\n",
       " [47.218529217137814, 8.373947931250743, -0.7781928473455904],\n",
       " [47.26704513370515, 7.1048684892341765, 0.21290994199986013],\n",
       " [48.65289335625714, 4.66065463854311, 0.5339024968934175],\n",
       " [48.53044140754561, 4.943320785125783, 0.8185678064336137],\n",
       " [46.750192502333505, 4.410515736417102, 0.8817488427413944],\n",
       " [49.479410891543964, 5.1636800446544315, 1.3514626460052261],\n",
       " [49.25060849026048, 4.301048721440366, -0.36592569306629685],\n",
       " [47.59743366609234, 5.308392222650653, -1.1085621976891034],\n",
       " [48.220019375694115, 4.152082913544726, 0.6986334659506059],\n",
       " [49.10950465234013, 5.064003111478176, -0.5534705368954864],\n",
       " [48.96953927588963, 4.234930442074114, 0.28539815378962397],\n",
       " [46.68078570755194, 6.504468973367084, 0.4080313207369004],\n",
       " [46.714037942062404, 5.086608451459361, 0.6675288795393819],\n",
       " [48.27354512012194, 4.649696262338108, -0.2721651460826646],\n",
       " [48.966556571659666, 5.731230705741531, 2.304615742064371],\n",
       " [47.70838301664684, 4.310974358044648, 0.7350110097166445],\n",
       " [48.832017039360124, 5.950431170449156, 0.47999810857825476],\n",
       " [46.73812133008686, 5.9334675966882555, 0.6208032477715981],\n",
       " [49.33526139169724, 6.6344946760539365, 1.3223078053421948],\n",
       " [47.75103939423012, 5.730119368717875, 2.095142531925587],\n",
       " [48.31705350805236, 4.8719179048297026, 0.7022131259080124],\n",
       " [48.79620517052749, 3.710624115763641, 0.490286120862363],\n",
       " [48.11737495329522, 6.765184112233056, 1.140048065810959],\n",
       " [47.36058408287226, 4.550370104951444, 1.4641969604099565],\n",
       " [48.591142001351415, 3.759221637984208, 1.9545030587967704],\n",
       " [49.057580022468784, 4.510622209612234, 1.2685905871368595],\n",
       " [47.496510144871806, 5.158376904026094, 1.407705126970929],\n",
       " [48.3099614294859, 3.9325493703637457, 3.316451071354771],\n",
       " [46.266585894981574, 5.184431844559148, 1.0394084633528335],\n",
       " [48.84941916469084, 5.863978862595484, 0.47688329323658774],\n",
       " [48.29082025857076, 3.5912177477293525, 1.944962647658874],\n",
       " [47.590702332653464, 7.138963886558399, -0.2611547911662835],\n",
       " [49.170212462973474, 6.632087562255363, 0.4429945614747066],\n",
       " [46.57604948536537, 3.4713061849861564, 0.2021028168411929],\n",
       " [48.40901119083064, 6.126547901288072, 1.422667474241122],\n",
       " [47.17752384388165, 5.254065210675476, -1.0081030623254699],\n",
       " [50.024770799147596, 5.1157792107287134, 0.7835693918703512],\n",
       " [48.21484742438218, 6.908812753871608, 0.8559325542732472],\n",
       " [46.52804779404964, 3.74673723520136, -0.3432086945018693],\n",
       " [46.91909157697708, 4.374854558029641, -0.03673715798543453],\n",
       " [48.880250464005215, 4.862608531655221, 1.250463297259568],\n",
       " [49.09015795115903, 4.11145634650854, 0.28489783042119965],\n",
       " [48.332218216130755, 2.5865764681139694, 1.5130010384842205],\n",
       " [47.75645848166093, 5.634385809366, 1.1183963943230557],\n",
       " [49.128091189428105, 3.950847527939242, 1.4163117002425005],\n",
       " [49.393354530200575, 7.110716292616431, 1.5938394707114045],\n",
       " [48.616523751894896, 5.209135372610067, 0.31282857928683894],\n",
       " [47.8076361755046, 4.343902214167949, 3.581857672635704]]"
      ]
     },
     "execution_count": 63,
     "metadata": {},
     "output_type": "execute_result"
    }
   ],
   "source": [
    "data"
   ]
  },
  {
   "cell_type": "code",
   "execution_count": 194,
   "metadata": {
    "collapsed": false
   },
   "outputs": [],
   "source": [
    "mapa = folium.Map([48., 5.], tiles='stamentoner', zoom_start=6)\n",
    "#mapa.add_children(plugins.HeatMap(data))\n",
    "#mapa"
   ]
  },
  {
   "cell_type": "code",
   "execution_count": 32,
   "metadata": {
    "collapsed": false
   },
   "outputs": [],
   "source": [
    "zipcode_db = pd.read_csv('zip_code_database.csv')"
   ]
  },
  {
   "cell_type": "code",
   "execution_count": 37,
   "metadata": {
    "collapsed": false
   },
   "outputs": [
    {
     "data": {
      "text/html": [
       "<div>\n",
       "<table border=\"1\" class=\"dataframe\">\n",
       "  <thead>\n",
       "    <tr style=\"text-align: right;\">\n",
       "      <th></th>\n",
       "      <th>zip</th>\n",
       "      <th>type</th>\n",
       "      <th>primary_city</th>\n",
       "      <th>acceptable_cities</th>\n",
       "      <th>unacceptable_cities</th>\n",
       "      <th>state</th>\n",
       "      <th>county</th>\n",
       "      <th>timezone</th>\n",
       "      <th>area_codes</th>\n",
       "      <th>latitude</th>\n",
       "      <th>longitude</th>\n",
       "      <th>world_region</th>\n",
       "      <th>country</th>\n",
       "      <th>decommissioned</th>\n",
       "      <th>estimated_population</th>\n",
       "      <th>notes</th>\n",
       "    </tr>\n",
       "  </thead>\n",
       "  <tbody>\n",
       "    <tr>\n",
       "      <th>0</th>\n",
       "      <td>544</td>\n",
       "      <td>UNIQUE</td>\n",
       "      <td>Holtsville</td>\n",
       "      <td>NaN</td>\n",
       "      <td>Irs Service Center</td>\n",
       "      <td>NY</td>\n",
       "      <td>Suffolk County</td>\n",
       "      <td>America/New_York</td>\n",
       "      <td>631</td>\n",
       "      <td>40.81</td>\n",
       "      <td>-73.04</td>\n",
       "      <td>NaN</td>\n",
       "      <td>US</td>\n",
       "      <td>0</td>\n",
       "      <td>0</td>\n",
       "      <td>NaN</td>\n",
       "    </tr>\n",
       "    <tr>\n",
       "      <th>1</th>\n",
       "      <td>601</td>\n",
       "      <td>STANDARD</td>\n",
       "      <td>Adjuntas</td>\n",
       "      <td>NaN</td>\n",
       "      <td>Colinas Del Gigante, Jard De Adjuntas, Urb San...</td>\n",
       "      <td>PR</td>\n",
       "      <td>Adjuntas</td>\n",
       "      <td>America/Puerto_Rico</td>\n",
       "      <td>787,939</td>\n",
       "      <td>18.16</td>\n",
       "      <td>-66.72</td>\n",
       "      <td>NaN</td>\n",
       "      <td>US</td>\n",
       "      <td>0</td>\n",
       "      <td>0</td>\n",
       "      <td>NaN</td>\n",
       "    </tr>\n",
       "    <tr>\n",
       "      <th>2</th>\n",
       "      <td>602</td>\n",
       "      <td>STANDARD</td>\n",
       "      <td>Aguada</td>\n",
       "      <td>NaN</td>\n",
       "      <td>Alts De Aguada, Bo Guaniquilla, Comunidad Las ...</td>\n",
       "      <td>PR</td>\n",
       "      <td>NaN</td>\n",
       "      <td>NaN</td>\n",
       "      <td>787,939</td>\n",
       "      <td>18.38</td>\n",
       "      <td>-67.18</td>\n",
       "      <td>NaN</td>\n",
       "      <td>US</td>\n",
       "      <td>0</td>\n",
       "      <td>0</td>\n",
       "      <td>NaN</td>\n",
       "    </tr>\n",
       "    <tr>\n",
       "      <th>3</th>\n",
       "      <td>603</td>\n",
       "      <td>STANDARD</td>\n",
       "      <td>Aguadilla</td>\n",
       "      <td>Ramey</td>\n",
       "      <td>Bda Caban, Bda Esteves, Bo Borinquen, Bo Ceiba...</td>\n",
       "      <td>PR</td>\n",
       "      <td>Aguadilla</td>\n",
       "      <td>America/Puerto_Rico</td>\n",
       "      <td>787</td>\n",
       "      <td>18.43</td>\n",
       "      <td>-67.15</td>\n",
       "      <td>NaN</td>\n",
       "      <td>US</td>\n",
       "      <td>0</td>\n",
       "      <td>0</td>\n",
       "      <td>NaN</td>\n",
       "    </tr>\n",
       "    <tr>\n",
       "      <th>4</th>\n",
       "      <td>604</td>\n",
       "      <td>PO BOX</td>\n",
       "      <td>Aguadilla</td>\n",
       "      <td>Ramey</td>\n",
       "      <td>NaN</td>\n",
       "      <td>PR</td>\n",
       "      <td>NaN</td>\n",
       "      <td>NaN</td>\n",
       "      <td>NaN</td>\n",
       "      <td>18.43</td>\n",
       "      <td>-67.15</td>\n",
       "      <td>NaN</td>\n",
       "      <td>US</td>\n",
       "      <td>0</td>\n",
       "      <td>0</td>\n",
       "      <td>NaN</td>\n",
       "    </tr>\n",
       "  </tbody>\n",
       "</table>\n",
       "</div>"
      ],
      "text/plain": [
       "   zip      type primary_city acceptable_cities  \\\n",
       "0  544    UNIQUE   Holtsville               NaN   \n",
       "1  601  STANDARD     Adjuntas               NaN   \n",
       "2  602  STANDARD       Aguada               NaN   \n",
       "3  603  STANDARD    Aguadilla             Ramey   \n",
       "4  604    PO BOX    Aguadilla             Ramey   \n",
       "\n",
       "                                 unacceptable_cities state          county  \\\n",
       "0                                 Irs Service Center    NY  Suffolk County   \n",
       "1  Colinas Del Gigante, Jard De Adjuntas, Urb San...    PR        Adjuntas   \n",
       "2  Alts De Aguada, Bo Guaniquilla, Comunidad Las ...    PR             NaN   \n",
       "3  Bda Caban, Bda Esteves, Bo Borinquen, Bo Ceiba...    PR       Aguadilla   \n",
       "4                                                NaN    PR             NaN   \n",
       "\n",
       "              timezone area_codes  latitude  longitude world_region country  \\\n",
       "0     America/New_York        631     40.81     -73.04          NaN      US   \n",
       "1  America/Puerto_Rico    787,939     18.16     -66.72          NaN      US   \n",
       "2                  NaN    787,939     18.38     -67.18          NaN      US   \n",
       "3  America/Puerto_Rico        787     18.43     -67.15          NaN      US   \n",
       "4                  NaN        NaN     18.43     -67.15          NaN      US   \n",
       "\n",
       "   decommissioned  estimated_population notes  \n",
       "0               0                     0   NaN  \n",
       "1               0                     0   NaN  \n",
       "2               0                     0   NaN  \n",
       "3               0                     0   NaN  \n",
       "4               0                     0   NaN  "
      ]
     },
     "execution_count": 37,
     "metadata": {},
     "output_type": "execute_result"
    }
   ],
   "source": []
  },
  {
   "cell_type": "code",
   "execution_count": 35,
   "metadata": {
    "collapsed": false
   },
   "outputs": [
    {
     "data": {
      "text/html": [
       "<div>\n",
       "<table border=\"1\" class=\"dataframe\">\n",
       "  <thead>\n",
       "    <tr style=\"text-align: right;\">\n",
       "      <th></th>\n",
       "      <th>zip</th>\n",
       "      <th>type</th>\n",
       "      <th>primary_city</th>\n",
       "      <th>acceptable_cities</th>\n",
       "      <th>unacceptable_cities</th>\n",
       "      <th>state</th>\n",
       "      <th>county</th>\n",
       "      <th>timezone</th>\n",
       "      <th>area_codes</th>\n",
       "      <th>latitude</th>\n",
       "      <th>longitude</th>\n",
       "      <th>world_region</th>\n",
       "      <th>country</th>\n",
       "      <th>decommissioned</th>\n",
       "      <th>estimated_population</th>\n",
       "      <th>notes</th>\n",
       "    </tr>\n",
       "  </thead>\n",
       "  <tbody>\n",
       "    <tr>\n",
       "      <th>20962</th>\n",
       "      <td>48105</td>\n",
       "      <td>STANDARD</td>\n",
       "      <td>Ann Arbor</td>\n",
       "      <td>NaN</td>\n",
       "      <td>Ann Arbor Township, Barton Hills, Dixboro, Sup...</td>\n",
       "      <td>MI</td>\n",
       "      <td>Washtenaw County</td>\n",
       "      <td>America/Detroit</td>\n",
       "      <td>734</td>\n",
       "      <td>42.27</td>\n",
       "      <td>-83.73</td>\n",
       "      <td>NaN</td>\n",
       "      <td>US</td>\n",
       "      <td>0</td>\n",
       "      <td>25072</td>\n",
       "      <td>NaN</td>\n",
       "    </tr>\n",
       "  </tbody>\n",
       "</table>\n",
       "</div>"
      ],
      "text/plain": [
       "         zip      type primary_city acceptable_cities  \\\n",
       "20962  48105  STANDARD    Ann Arbor               NaN   \n",
       "\n",
       "                                     unacceptable_cities state  \\\n",
       "20962  Ann Arbor Township, Barton Hills, Dixboro, Sup...    MI   \n",
       "\n",
       "                 county         timezone area_codes  latitude  longitude  \\\n",
       "20962  Washtenaw County  America/Detroit        734     42.27     -83.73   \n",
       "\n",
       "      world_region country  decommissioned  estimated_population notes  \n",
       "20962          NaN      US               0                 25072   NaN  "
      ]
     },
     "execution_count": 35,
     "metadata": {},
     "output_type": "execute_result"
    }
   ],
   "source": [
    "zipcode_db.ix[zipcode_db.zip==48105]\n"
   ]
  }
 ],
 "metadata": {
  "kernelspec": {
   "display_name": "Python 2",
   "language": "python",
   "name": "python2"
  },
  "language_info": {
   "codemirror_mode": {
    "name": "ipython",
    "version": 2
   },
   "file_extension": ".py",
   "mimetype": "text/x-python",
   "name": "python",
   "nbconvert_exporter": "python",
   "pygments_lexer": "ipython2",
   "version": "2.7.11"
  }
 },
 "nbformat": 4,
 "nbformat_minor": 0
}
