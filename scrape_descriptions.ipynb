{
 "cells": [
  {
   "cell_type": "code",
   "execution_count": null,
   "metadata": {
    "collapsed": false
   },
   "outputs": [],
   "source": [
    "import pandas as pd\n",
    "from googleapiclient.discovery import build\n",
    "\n",
    "\n",
    "# Build custom search API service\n",
    "\n",
    "devKey = \"\" # fill in\n",
    "cse_id = \"000991425950231841099:8_ifpeoag3s\"        # custom search engine id\n",
    "\n",
    "service = build(\"customsearch\", \"v1\", developerKey=devKey)\n"
   ]
  },
  {
   "cell_type": "code",
   "execution_count": null,
   "metadata": {
    "collapsed": false
   },
   "outputs": [],
   "source": [
    "# Get a list of search terms\n",
    "\n",
    "trans_df = pd.read_csv('./ums_viz.csv')\n",
    "perfs = trans_df['perf_name'].value_counts().index\n",
    "\n",
    "print \"number of unique performance names:\", len(perfs)\n",
    "\n",
    "for p in perfs:\n",
    "    print \"\\t\"+p"
   ]
  },
  {
   "cell_type": "code",
   "execution_count": null,
   "metadata": {
    "collapsed": false
   },
   "outputs": [],
   "source": [
    "# Perform a custom search for each query\n",
    "# This search only looks at the UMS website\n",
    "\n",
    "results = {}\n",
    "for p in perfs:\n",
    "    print p + \"...\",\n",
    "    results[p] = service.cse().list(q=p, cx=cse_id).execute()\n",
    "    print \"complete.\"\n",
    "    \n"
   ]
  },
  {
   "cell_type": "code",
   "execution_count": null,
   "metadata": {
    "collapsed": false
   },
   "outputs": [],
   "source": [
    "# Well we hit a quota (100/day). No worries, we already got most of the results.\n",
    "# Let's save them to be safe\n",
    "\n",
    "import pickle\n",
    "\n",
    "print \"Successfully searched:\", len(results.keys())\n",
    "print \"Saving search results...\",\n",
    "\n",
    "with open('./search_results_4_20.pkl', 'w') as f:\n",
    "    pickle.dump(results, f)\n",
    "    print \"success\""
   ]
  },
  {
   "cell_type": "code",
   "execution_count": null,
   "metadata": {
    "collapsed": false
   },
   "outputs": [],
   "source": [
    "# What do the search results look like?\n",
    "\n",
    "print results[\"Handel's Messiah\"].keys()                 # All of the search information retrieved for this query\n",
    "print len(results[\"Handel's Messiah\"]['items'])          # Number of search items returned\n",
    "print results[\"Handel's Messiah\"]['items'][0].keys()     # Data returned for a single retrieved search item\n",
    "\n",
    "f = open('searched_urls.txt', 'w')\n",
    "\n",
    "for p in perfs:\n",
    "    if p in results.keys():\n",
    "        f.write(p+'\\n')\n",
    "        if 'items' in results[p].keys():\n",
    "            for item in results[p]['items']:\n",
    "                f.write(\"\\t\"+item['link']+'\\n')\n",
    "        else:\n",
    "            f.write(\"\\tNone found\\n\")\n",
    "            \n",
    "f.close()\n",
    "\n",
    "\n"
   ]
  },
  {
   "cell_type": "code",
   "execution_count": null,
   "metadata": {
    "collapsed": true
   },
   "outputs": [],
   "source": []
  }
 ],
 "metadata": {
  "kernelspec": {
   "display_name": "Python 2",
   "language": "python",
   "name": "python2"
  },
  "language_info": {
   "codemirror_mode": {
    "name": "ipython",
    "version": 2
   },
   "file_extension": ".py",
   "mimetype": "text/x-python",
   "name": "python",
   "nbconvert_exporter": "python",
   "pygments_lexer": "ipython2",
   "version": "2.7.11"
  }
 },
 "nbformat": 4,
 "nbformat_minor": 0
}
