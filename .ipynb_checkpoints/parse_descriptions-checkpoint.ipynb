{
 "cells": [
  {
   "cell_type": "code",
   "execution_count": 1,
   "metadata": {
    "collapsed": false,
    "scrolled": true
   },
   "outputs": [
    {
     "name": "stdout",
     "output_type": "stream",
     "text": [
      "0   The Infernal Comedy\n",
      "\n",
      "John Malkovich makes his UMS debut portraying a dead serial killer who returns to the stage to present his autobiography in a public reading. Malkovich appears as part of a theatrical opera of sorts that features a 40-piece chamber orchestra and two sopranos telling the real-life story of Jack Unterweger, a convicted murderer and acclaimed prison poet. Pardoned by the Austrian president Kurt Waldheim in 1990 at the behest of the Viennese literati, Unterweger’s public “rehabilitation” was anything but — within two years, he had been arrested and convicted for the brutal murder of 11 prostitutes in three countries. This gripping performance uses arias and music by Gluck, Vivaldi, Mozart, Beethoven, Boccherini, and Haydn as the counterpoint to Malkovich’s chilling monologue, which shifts between reality and delusion.\n",
      "\n"
     ]
    }
   ],
   "source": [
    "import pandas as pd\n",
    "import numpy as np\n",
    "\n",
    "with open('descriptions.txt') as f:\n",
    "    lines = f.readlines()\n",
    "    \n",
    "print lines[0]\n",
    "print lines[1]"
   ]
  },
  {
   "cell_type": "code",
   "execution_count": 2,
   "metadata": {
    "collapsed": false
   },
   "outputs": [
    {
     "name": "stdout",
     "output_type": "stream",
     "text": [
      "                    title                                        description\n",
      "0     The Infernal Comedy  John Malkovich makes his UMS debut portraying ...\n",
      "1        Yuja Wang, piano  Chinese pianist Yuja Wang combines the spontan...\n",
      "2     London Philharmonic  The London Philharmonic returns for its first ...\n",
      "3        Hamburg Symphony  In 1971, French composer Olivier Messiaen was ...\n",
      "4    Chicago Symphony Orc  Wind players of the Chicago Symphony come toge...\n"
     ]
    }
   ],
   "source": [
    "df = pd.DataFrame(columns=['title', 'description'])\n",
    "\n",
    "numDescriptions = 0\n",
    "index = 0\n",
    "while numDescriptions < 143:\n",
    "    title = ' '.join(lines[index].strip().split(' ')[1:])\n",
    "    description = ''\n",
    "    index = index + 1\n",
    "    while not lines[index] == '\\n':\n",
    "        description = description + ' ' + lines[index]\n",
    "        index = index + 1\n",
    "    index = index + 1\n",
    "    \n",
    "    df.loc[numDescriptions] = [title, description.strip()]\n",
    "    numDescriptions = numDescriptions + 1\n",
    "    \n",
    "df.to_pickle('descriptions.pkl')\n",
    "\n",
    "print df.head()"
   ]
  },
  {
   "cell_type": "code",
   "execution_count": 3,
   "metadata": {
    "collapsed": false
   },
   "outputs": [],
   "source": [
    "# Extract bigram matrix\n",
    "\n",
    "from sklearn.feature_extraction.text import CountVectorizer, ENGLISH_STOP_WORDS\n",
    "\n",
    "vect = CountVectorizer(ngram_range=(1,2), stop_words = ENGLISH_STOP_WORDS)\n",
    "X = vect.fit_transform(df.description.values)"
   ]
  },
  {
   "cell_type": "code",
   "execution_count": 4,
   "metadata": {
    "collapsed": false
   },
   "outputs": [],
   "source": [
    "# Latent Dirichlet Allocation\n",
    "\n",
    "from sklearn.decomposition import LatentDirichletAllocation\n",
    "\n",
    "lda = LatentDirichletAllocation(n_topics=5)\n",
    "y = lda.fit_transform(X)"
   ]
  },
  {
   "cell_type": "code",
   "execution_count": 6,
   "metadata": {
    "collapsed": true
   },
   "outputs": [],
   "source": [
    "# Todo:\n",
    "# 1) Print out what words appear most frequently in each topic\n",
    "# 2) Scatter plot the documents (in 2-D or 3-D space)\n",
    "# 3) Gather statistics (e.g. the ratio of student/normal tickets for each topic)\n",
    "# 4) Try other topic modeling methods (tf-idf, SVD, other flavors of LDA, etc.)"
   ]
  },
  {
   "cell_type": "markdown",
   "metadata": {},
   "source": [
    "### Print out what words appear most frequently in each topic"
   ]
  },
  {
   "cell_type": "code",
   "execution_count": 20,
   "metadata": {
    "collapsed": true
   },
   "outputs": [],
   "source": [
    "# I copy this code from example on sklearn \n",
    "def print_top_words(model, feature_names, n_top_words):\n",
    "    for topic_idx, topic in enumerate(model.components_):\n",
    "        print(\"Topic #%d:\" % topic_idx)\n",
    "        print(\", \".join([feature_names[i]\n",
    "                        for i in topic.argsort()[:-n_top_words - 1:-1]]))\n",
    "    print()"
   ]
  },
  {
   "cell_type": "code",
   "execution_count": 21,
   "metadata": {
    "collapsed": false
   },
   "outputs": [
    {
     "name": "stdout",
     "output_type": "stream",
     "text": [
      "Topic #0:\n",
      "company, ballet, aspen, aspen santa, santa, fe, santa fe, new, dancers, contemporary, fe ballet, ums, program, debut, world, times, american, works, time, chicago, ums debut, features, years, dance, movement, work, audiences, developed, 11, began, repertoire, director, dedicated, artistic, simply, partnership, following, choreographers, member, principal, european, ballet company, chicago sun, sun times, sun, breathtaking, grounded, trained, brass, worldwide\n",
      "Topic #1:\n",
      "music, forsythe, century, dance, performed, program, new, william, art, voice, khan, ali, ali khan, ballet, william forsythe, 19th, 19th century, flat thing, choreography, flat, thrilling, thing, traditions, hand, sufi, asif, york, new york, classical, true, best, year, works, musicians, company, director, robert, set, sound, international, repertoire, experience, makes, night, returns, featuring, wife, text, inspired, piece\n",
      "Topic #2:\n",
      "music, new, performance, musical, orchestra, times, sound, ensemble, jazz, ums, style, modern, traditional, band, years, early, world, concert, group, great, york, chamber, new york, dance, mariachi, london, company, drums, productions, director, quartet, american, film, program, repertoire, gil, instruments, life, propeller, past, orleans, david, man, day, new orleans, tradition, york times, performing, features, culture\n",
      "Topic #3:\n",
      "theatre, national, flamenco, national theatre, theater, new, michigan, michigan theater, london, theatre london, broadcasts, music, high, high definition, broadcasts national, presented, definition, time, partnership, definition broadcasts, london presented, partnership michigan, director, presented partnership, voice, play, james, award, blake, heart, winning, new play, award winning, cigala, diego, old, ums, coriolanus, times, shakespeare, york, takes, new york, york times, tour, year, legendary, people, mother, nicholas\n",
      "Topic #4:\n",
      "music, ums, new, performance, jazz, seats, ann, ann arbor, arbor, american, musical, dance, fela, concert, hall, composers, center, office, ticket office, ticket, available, performances, world, ballet, preljocaj, quartet, tweet, john, 2012, michigan, orchestra, work, works, 734, order, chamber, run, music hall, detroit, teen, mavericks, american mavericks, years, times, symphony, audiences, new york, york, created, story\n",
      "()\n"
     ]
    }
   ],
   "source": [
    "n_top_words = 50\n",
    "\n",
    "print_top_words(lda, vect.get_feature_names(), n_top_words)"
   ]
  }
 ],
 "metadata": {
  "kernelspec": {
   "display_name": "Python 2",
   "language": "python",
   "name": "python2"
  },
  "language_info": {
   "codemirror_mode": {
    "name": "ipython",
    "version": 2
   },
   "file_extension": ".py",
   "mimetype": "text/x-python",
   "name": "python",
   "nbconvert_exporter": "python",
   "pygments_lexer": "ipython2",
   "version": "2.7.11"
  }
 },
 "nbformat": 4,
 "nbformat_minor": 0
}
