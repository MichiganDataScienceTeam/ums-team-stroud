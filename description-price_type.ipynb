{
 "cells": [
  {
   "cell_type": "code",
   "execution_count": 40,
   "metadata": {
    "collapsed": false
   },
   "outputs": [],
   "source": [
    "import pandas as pd\n",
    "import numpy as np\n",
    "import matplotlib.pyplot as plt\n",
    "%matplotlib inline\n",
    "\n",
    "df = pd.read_csv('./data/ums_viz.csv')\n",
    "df_perf = pd.read_pickle('descriptions.pkl')\n",
    "df_perf.columns.values[0] = 'perf_name'\n",
    "\n",
    "df['perf_name'] = df['perf_name'].apply(lambda x: x.strip())\n",
    "df_perf['perf_name'] = df_perf['perf_name'].apply(lambda x: x.strip())\n",
    "\n",
    "perf = dict()\n",
    "\n",
    "for name in df['perf_name'].unique():\n",
    "    x=df[df['perf_name']==name]['price_type'].get_values()\n",
    "    if (x=='Choral Union').any():\n",
    "        perf[name]='Choral'\n",
    "    elif (x=='Jazz Series').any():\n",
    "        perf[name]='Jazz'\n",
    "    elif (x=='Dance Series').any():\n",
    "        perf[name]='Dance'\n",
    "    elif (x=='Chamber Arts').any():\n",
    "        perf[name]='Chamber'\n",
    "    else:\n",
    "        perf[name]='Other'"
   ]
  },
  {
   "cell_type": "code",
   "execution_count": 41,
   "metadata": {
    "collapsed": false
   },
   "outputs": [],
   "source": [
    "df_perf['price_type'] = df_perf.perf_name.map(pd.Series(perf))"
   ]
  },
  {
   "cell_type": "code",
   "execution_count": 39,
   "metadata": {
    "collapsed": false
   },
   "outputs": [
    {
     "data": {
      "text/html": [
       "<div>\n",
       "<table border=\"1\" class=\"dataframe\">\n",
       "  <thead>\n",
       "    <tr style=\"text-align: right;\">\n",
       "      <th></th>\n",
       "      <th>perf_name</th>\n",
       "      <th>description</th>\n",
       "      <th>price_type</th>\n",
       "    </tr>\n",
       "  </thead>\n",
       "  <tbody>\n",
       "    <tr>\n",
       "      <th>0</th>\n",
       "      <td>The Infernal Comedy</td>\n",
       "      <td>John Malkovich makes his UMS debut portraying ...</td>\n",
       "      <td>Choral</td>\n",
       "    </tr>\n",
       "    <tr>\n",
       "      <th>1</th>\n",
       "      <td>Yuja Wang, piano</td>\n",
       "      <td>Chinese pianist Yuja Wang combines the spontan...</td>\n",
       "      <td>Choral</td>\n",
       "    </tr>\n",
       "    <tr>\n",
       "      <th>2</th>\n",
       "      <td>London Philharmonic</td>\n",
       "      <td>The London Philharmonic returns for its first ...</td>\n",
       "      <td>Choral</td>\n",
       "    </tr>\n",
       "    <tr>\n",
       "      <th>3</th>\n",
       "      <td>Hamburg Symphony</td>\n",
       "      <td>In 1971, French composer Olivier Messiaen was ...</td>\n",
       "      <td>Choral</td>\n",
       "    </tr>\n",
       "    <tr>\n",
       "      <th>4</th>\n",
       "      <td>Chicago Symphony Orc</td>\n",
       "      <td>Wind players of the Chicago Symphony come toge...</td>\n",
       "      <td>Choral</td>\n",
       "    </tr>\n",
       "  </tbody>\n",
       "</table>\n",
       "</div>"
      ],
      "text/plain": [
       "              perf_name                                        description  \\\n",
       "0   The Infernal Comedy  John Malkovich makes his UMS debut portraying ...   \n",
       "1      Yuja Wang, piano  Chinese pianist Yuja Wang combines the spontan...   \n",
       "2   London Philharmonic  The London Philharmonic returns for its first ...   \n",
       "3      Hamburg Symphony  In 1971, French composer Olivier Messiaen was ...   \n",
       "4  Chicago Symphony Orc  Wind players of the Chicago Symphony come toge...   \n",
       "\n",
       "  price_type  \n",
       "0     Choral  \n",
       "1     Choral  \n",
       "2     Choral  \n",
       "3     Choral  \n",
       "4     Choral  "
      ]
     },
     "execution_count": 39,
     "metadata": {},
     "output_type": "execute_result"
    }
   ],
   "source": [
    "df_perf.head()"
   ]
  },
  {
   "cell_type": "code",
   "execution_count": null,
   "metadata": {
    "collapsed": true
   },
   "outputs": [],
   "source": []
  }
 ],
 "metadata": {
  "kernelspec": {
   "display_name": "Python 2",
   "language": "python",
   "name": "python2"
  },
  "language_info": {
   "codemirror_mode": {
    "name": "ipython",
    "version": 2
   },
   "file_extension": ".py",
   "mimetype": "text/x-python",
   "name": "python",
   "nbconvert_exporter": "python",
   "pygments_lexer": "ipython2",
   "version": "2.7.11"
  }
 },
 "nbformat": 4,
 "nbformat_minor": 0
}
