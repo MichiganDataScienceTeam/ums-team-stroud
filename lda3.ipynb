{
 "cells": [
  {
   "cell_type": "code",
   "execution_count": null,
   "metadata": {
    "collapsed": false
   },
   "outputs": [],
   "source": [
    "import pandas as pd\n",
    "import numpy as np\n",
    "import matplotlib.pyplot as plt\n",
    "%matplotlib inline\n",
    "\n",
    "df = pd.read_csv('./data/ums_viz.csv')\n",
    "df_perf = pd.read_pickle('descriptions.pkl')\n",
    "df_perf.columns.values[0] = 'perf_name'\n",
    "\n",
    "df['perf_name'] = df['perf_name'].apply(lambda x: x.strip())\n",
    "df_perf['perf_name'] = df_perf['perf_name'].apply(lambda x: x.strip())\n",
    "\n",
    "df['per_seat'] = df['tck_amt']/df['num_seats']\n",
    "df_group = df.groupby('perf_name')\n",
    "\n",
    "# Add a whole bunch of new performance-level features\n",
    "\n",
    "# mean ticket amount, number of seats, price per seat\n",
    "df_tmp = df_group['tck_amt', 'num_seats', 'per_seat'].mean().reset_index()\n",
    "df_tmp = df_tmp.rename(columns = {'tck_amt': 'mean_tck_amt', 'num_seats': 'mean_num_seats', 'per_seat': 'mean_per_seat'})\n",
    "\n",
    "df_perf = pd.merge(df_perf, df_tmp, on='perf_name')\n",
    "\n",
    "# max ticket amount, number of seats, price per seat\n",
    "df_tmp = df_group['tck_amt', 'num_seats', 'per_seat'].max().reset_index()\n",
    "df_tmp = df_tmp.rename(columns = {'tck_amt': 'max_tck_amt', 'num_seats': 'max_num_seats', 'per_seat': 'max_per_seat'})\n",
    "df_perf = pd.merge(df_perf, df_tmp, on='perf_name')\n",
    "\n",
    "# total number of seats\n",
    "df_tmp = df_group['num_seats'].count().reset_index()\n",
    "df_tmp = df_tmp.rename(columns = {'num_seats': 'count_tck_amt'})\n",
    "df_perf = pd.merge(df_perf, df_tmp, on='perf_name')\n",
    "\n",
    "print df_perf"
   ]
  },
  {
   "cell_type": "code",
   "execution_count": null,
   "metadata": {
    "collapsed": false
   },
   "outputs": [],
   "source": [
    "# Extract bigram matrix\n",
    "from sklearn.feature_extraction.text import CountVectorizer, ENGLISH_STOP_WORDS\n",
    "\n",
    "vect = CountVectorizer(ngram_range=(1, 1), stop_words = ENGLISH_STOP_WORDS, min_df = 5)\n",
    "X = vect.fit_transform(df_perf.description.values)\n",
    "\n",
    "print X.shape"
   ]
  },
  {
   "cell_type": "code",
   "execution_count": null,
   "metadata": {
    "collapsed": false
   },
   "outputs": [],
   "source": [
    "# Latent Dirichlet Allocation\n",
    "\n",
    "from sklearn.decomposition import LatentDirichletAllocation\n",
    "\n",
    "lda = LatentDirichletAllocation(n_topics=5, max_iter=10)\n",
    "y = lda.fit_transform(X)\n",
    "\n",
    "def print_top_words(model, feature_names, n_top_words):\n",
    "    for topic_idx, topic in enumerate(model.components_):\n",
    "        print(\"Topic #%d:\" % topic_idx)\n",
    "        print(\" \".join([feature_names[i]\n",
    "                        for i in topic.argsort()[:-n_top_words - 1:-1]]))\n",
    "    print\n",
    "\n",
    "print_top_words(lda, vect.get_feature_names(), 20)\n",
    "\n",
    "df_perf['topic'] = np.argmax(y, 1)"
   ]
  },
  {
   "cell_type": "code",
   "execution_count": null,
   "metadata": {
    "collapsed": false
   },
   "outputs": [],
   "source": [
    "df_perf.groupby('topic').describe()"
   ]
  },
  {
   "cell_type": "markdown",
   "metadata": {},
   "source": [
    "## Plots"
   ]
  },
  {
   "cell_type": "markdown",
   "metadata": {},
   "source": [
    "### Distribution of the number of performances for each topic"
   ]
  },
  {
   "cell_type": "code",
   "execution_count": null,
   "metadata": {
    "collapsed": false
   },
   "outputs": [],
   "source": [
    "import seaborn as sns\n",
    "topic_range = range(5)\n",
    "sns.factorplot(x = 'topic', data = df_perf, kind = 'count', palette=\"BuPu\", size=5, aspect=1.5, order = topic_range)"
   ]
  },
  {
   "cell_type": "markdown",
   "metadata": {},
   "source": [
    "### Mean ticket amount per seat for each topic"
   ]
  },
  {
   "cell_type": "code",
   "execution_count": null,
   "metadata": {
    "collapsed": false
   },
   "outputs": [],
   "source": [
    "sns.set(style=\"ticks\", palette=\"muted\", color_codes=True)\n",
    "ax = sns.boxplot(x=\"topic\", y=\"mean_per_seat\", data=df_perf, whis=np.inf, color=\"c\", order=topic_range)\n",
    "sns.stripplot(x=\"topic\", y=\"mean_per_seat\", data=df_perf, jitter=True, size=3, color=\".3\", linewidth=0, order=topic_range)"
   ]
  },
  {
   "cell_type": "markdown",
   "metadata": {},
   "source": [
    "### Max ticket amount per seat for each topic"
   ]
  },
  {
   "cell_type": "code",
   "execution_count": null,
   "metadata": {
    "collapsed": false
   },
   "outputs": [],
   "source": [
    "sns.set(style=\"ticks\", palette=\"muted\", color_codes=True)\n",
    "ax = sns.boxplot(x=\"topic\", y=\"max_per_seat\", data=df_perf, whis=np.inf, color=\"c\", order=topic_range)\n",
    "sns.stripplot(x=\"topic\", y=\"max_per_seat\", data=df_perf, jitter=True, size=3, color=\".3\", linewidth=0, order=topic_range)"
   ]
  },
  {
   "cell_type": "markdown",
   "metadata": {},
   "source": [
    "### Ticket amount per seat for each topic"
   ]
  },
  {
   "cell_type": "code",
   "execution_count": null,
   "metadata": {
    "collapsed": false
   },
   "outputs": [],
   "source": [
    "sns.set(style=\"ticks\", palette=\"muted\", color_codes=True)\n",
    "ax = sns.boxplot(x=\"topic\", y=\"count_tck_amt\", data=df_perf, whis=np.inf, color=\"c\", order=topic_range)\n",
    "sns.stripplot(x=\"topic\", y=\"count_tck_amt\", data=df_perf, jitter=True, size=3, color=\".3\", linewidth=0, order=topic_range)"
   ]
  },
  {
   "cell_type": "code",
   "execution_count": null,
   "metadata": {
    "collapsed": false
   },
   "outputs": [],
   "source": [
    "df_perf.head()"
   ]
  }
 ],
 "metadata": {
  "kernelspec": {
   "display_name": "Python 2",
   "language": "python",
   "name": "python2"
  },
  "language_info": {
   "codemirror_mode": {
    "name": "ipython",
    "version": 2
   },
   "file_extension": ".py",
   "mimetype": "text/x-python",
   "name": "python",
   "nbconvert_exporter": "python",
   "pygments_lexer": "ipython2",
   "version": "2.7.11"
  }
 },
 "nbformat": 4,
 "nbformat_minor": 0
}
