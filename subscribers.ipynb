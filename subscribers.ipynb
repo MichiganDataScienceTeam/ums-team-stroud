{
 "cells": [
  {
   "cell_type": "code",
   "execution_count": 133,
   "metadata": {
    "collapsed": false,
    "scrolled": true
   },
   "outputs": [
    {
     "name": "stdout",
     "output_type": "stream",
     "text": [
      "9\n"
     ]
    }
   ],
   "source": [
    "from __future__ import division\n",
    "import numpy as np\n",
    "import matplotlib.pyplot as plt\n",
    "import pandas as pd\n",
    "import seaborn as sns\n",
    "import datetime\n",
    "%matplotlib inline\n",
    "\n",
    "# Read in the data, reading in a few columns as datetime objects\n",
    "tbl = pd.read_pickle('data/data_augmented.pkl')\n",
    "NUM_GENRE = len(tbl['genre'].value_counts())"
   ]
  },
  {
   "cell_type": "code",
   "execution_count": 2,
   "metadata": {
    "collapsed": false,
    "scrolled": true
   },
   "outputs": [
    {
     "name": "stdout",
     "output_type": "stream",
     "text": [
      "Columns:\n",
      "\t     UMS_acct_no : int64\n",
      "\t    acct_created : datetime64[ns]\n",
      "\t       cust_type : object\n",
      "\t       perf_name : object\n",
      "\t         perf_dt : datetime64[ns]\n",
      "\t         tck_amt : float64\n",
      "\t       num_seats : int64\n",
      "\t           venue : object\n",
      "\t      price_type : object\n",
      "\tprice_type_group : object\n",
      "\t    mode_of_sale : object\n",
      "\t   sales_channel : object\n",
      "\t        order_dt : datetime64[ns]\n",
      "\t     postal_code : object\n",
      "\t           genre : object\n",
      "\t     description : object\n"
     ]
    }
   ],
   "source": [
    "# Take a look at the columns and their data types\n",
    "print \"Columns:\"\n",
    "for col in tbl.columns.tolist():\n",
    "    print \"\\t%16s\" % col + \" : \" + str(tbl[col].dtype)"
   ]
  },
  {
   "cell_type": "code",
   "execution_count": 3,
   "metadata": {
    "collapsed": false,
    "scrolled": true
   },
   "outputs": [
    {
     "name": "stdout",
     "output_type": "stream",
     "text": [
      "   UMS_acct_no acct_created  cust_type             perf_name  \\\n",
      "0         1111   1979-08-06  Household   The Infernal Comedy   \n",
      "1         1111   1979-08-06  Household      Yuja Wang, piano   \n",
      "2         1111   1979-08-06  Household   London Philharmonic   \n",
      "3         1111   1979-08-06  Household      Hamburg Symphony   \n",
      "4         1111   1979-08-06  Household  Chicago Symphony Orc   \n",
      "\n",
      "              perf_dt  tck_amt  num_seats            venue    price_type  \\\n",
      "0 2011-10-01 20:00:00    112.0          2  Hill Auditorium  Choral Union   \n",
      "1 2011-10-09 16:00:00     80.0          2  Hill Auditorium  Choral Union   \n",
      "2 2011-12-06 19:30:00    112.0          2  Hill Auditorium  Choral Union   \n",
      "3 2012-01-29 16:00:00     92.0          2  Hill Auditorium  Choral Union   \n",
      "4 2012-03-09 20:00:00    140.0          2  Hill Auditorium  Choral Union   \n",
      "\n",
      "  price_type_group  mode_of_sale sales_channel   order_dt postal_code  \\\n",
      "0      Subs Prices  Subscription           Fax 2011-05-31       48103   \n",
      "1      Subs Prices  Subscription           Fax 2011-05-31       48103   \n",
      "2      Subs Prices  Subscription           Fax 2011-05-31       48103   \n",
      "3      Subs Prices  Subscription           Fax 2011-05-31       48103   \n",
      "4      Subs Prices  Subscription           Fax 2011-05-31       48103   \n",
      "\n",
      "        genre                                        description  \n",
      "0     theatre  John Malkovich makes his UMS debut portraying ...  \n",
      "1     soloist  Chinese pianist Yuja Wang combines the spontan...  \n",
      "2  orchestral  The London Philharmonic returns for its first ...  \n",
      "3  orchestral  In 1971, French composer Olivier Messiaen was ...  \n",
      "4  orchestral  Wind players of the Chicago Symphony come toge...  \n"
     ]
    }
   ],
   "source": [
    "# Each row corresponds to a single transaction\n",
    "print tbl.head()"
   ]
  },
  {
   "cell_type": "code",
   "execution_count": 4,
   "metadata": {
    "collapsed": false
   },
   "outputs": [
    {
     "name": "stdout",
     "output_type": "stream",
     "text": [
      "            acct_created  cust_type\n",
      "UMS_acct_no                        \n",
      "1111          1979-08-06  Household\n",
      "1115          1988-02-18  Household\n",
      "1122          1988-02-10  Household\n",
      "1130          1988-02-26  Household\n",
      "1131          1988-02-26  Household\n"
     ]
    }
   ],
   "source": [
    "# From this table we can derive an account-level table\n",
    "\n",
    "acc_tbl = tbl[['UMS_acct_no', 'acct_created', 'cust_type']]\n",
    "acc_tbl = acc_tbl.drop_duplicates()\n",
    "acc_tbl = acc_tbl.set_index('UMS_acct_no')\n",
    "\n",
    "print acc_tbl.head()"
   ]
  },
  {
   "cell_type": "code",
   "execution_count": 41,
   "metadata": {
    "collapsed": false
   },
   "outputs": [
    {
     "data": {
      "text/plain": [
       "0"
      ]
     },
     "execution_count": 41,
     "metadata": {},
     "output_type": "execute_result"
    }
   ],
   "source": [
    "(tbl[tbl['UMS_acct_no'] == 1111].sort_values(by='order_dt')['mode_of_sale'].values == 'Subscription').nonzero()[0][0]"
   ]
  },
  {
   "cell_type": "code",
   "execution_count": 6,
   "metadata": {
    "collapsed": false
   },
   "outputs": [],
   "source": [
    "# We can aggregate some purchase-level statistics for each account\n",
    "\n",
    "grpAcct = tbl.groupby('UMS_acct_no')"
   ]
  },
  {
   "cell_type": "code",
   "execution_count": 7,
   "metadata": {
    "collapsed": false
   },
   "outputs": [
    {
     "data": {
      "text/html": [
       "<div>\n",
       "<table border=\"1\" class=\"dataframe\">\n",
       "  <thead>\n",
       "    <tr style=\"text-align: right;\">\n",
       "      <th></th>\n",
       "      <th>acct_created</th>\n",
       "      <th>cust_type</th>\n",
       "      <th>num_purchases</th>\n",
       "      <th>first_purchase</th>\n",
       "      <th>most_recent_purchase</th>\n",
       "      <th>total_purchase_amt</th>\n",
       "      <th>max_purchase_amt</th>\n",
       "      <th>avg_purchase_amt</th>\n",
       "      <th>total_num_seats</th>\n",
       "      <th>max_num_seats</th>\n",
       "      <th>med_num_seats</th>\n",
       "      <th>avg_seat_amt</th>\n",
       "      <th>subscriber</th>\n",
       "    </tr>\n",
       "    <tr>\n",
       "      <th>UMS_acct_no</th>\n",
       "      <th></th>\n",
       "      <th></th>\n",
       "      <th></th>\n",
       "      <th></th>\n",
       "      <th></th>\n",
       "      <th></th>\n",
       "      <th></th>\n",
       "      <th></th>\n",
       "      <th></th>\n",
       "      <th></th>\n",
       "      <th></th>\n",
       "      <th></th>\n",
       "      <th></th>\n",
       "    </tr>\n",
       "  </thead>\n",
       "  <tbody>\n",
       "    <tr>\n",
       "      <th>1111</th>\n",
       "      <td>1979-08-06</td>\n",
       "      <td>Household</td>\n",
       "      <td>29</td>\n",
       "      <td>2011-10-01 20:00:00</td>\n",
       "      <td>2014-04-13 16:00:00</td>\n",
       "      <td>3008.0</td>\n",
       "      <td>150.0</td>\n",
       "      <td>103.724138</td>\n",
       "      <td>55</td>\n",
       "      <td>2</td>\n",
       "      <td>2.0</td>\n",
       "      <td>54.690909</td>\n",
       "      <td>True</td>\n",
       "    </tr>\n",
       "    <tr>\n",
       "      <th>1115</th>\n",
       "      <td>1988-02-18</td>\n",
       "      <td>Household</td>\n",
       "      <td>33</td>\n",
       "      <td>2011-10-01 20:00:00</td>\n",
       "      <td>2014-04-13 16:00:00</td>\n",
       "      <td>4066.0</td>\n",
       "      <td>184.0</td>\n",
       "      <td>123.212121</td>\n",
       "      <td>61</td>\n",
       "      <td>2</td>\n",
       "      <td>2.0</td>\n",
       "      <td>66.655738</td>\n",
       "      <td>True</td>\n",
       "    </tr>\n",
       "    <tr>\n",
       "      <th>1122</th>\n",
       "      <td>1988-02-10</td>\n",
       "      <td>Household</td>\n",
       "      <td>1</td>\n",
       "      <td>2012-09-27 19:30:00</td>\n",
       "      <td>2012-09-27 19:30:00</td>\n",
       "      <td>200.0</td>\n",
       "      <td>200.0</td>\n",
       "      <td>200.000000</td>\n",
       "      <td>2</td>\n",
       "      <td>2</td>\n",
       "      <td>2.0</td>\n",
       "      <td>100.000000</td>\n",
       "      <td>False</td>\n",
       "    </tr>\n",
       "    <tr>\n",
       "      <th>1130</th>\n",
       "      <td>1988-02-26</td>\n",
       "      <td>Household</td>\n",
       "      <td>8</td>\n",
       "      <td>2012-02-18 20:00:00</td>\n",
       "      <td>2013-12-08 14:00:00</td>\n",
       "      <td>652.0</td>\n",
       "      <td>130.0</td>\n",
       "      <td>81.500000</td>\n",
       "      <td>15</td>\n",
       "      <td>2</td>\n",
       "      <td>2.0</td>\n",
       "      <td>43.466667</td>\n",
       "      <td>False</td>\n",
       "    </tr>\n",
       "    <tr>\n",
       "      <th>1131</th>\n",
       "      <td>1988-02-26</td>\n",
       "      <td>Household</td>\n",
       "      <td>20</td>\n",
       "      <td>2011-10-01 20:00:00</td>\n",
       "      <td>2013-04-20 20:00:00</td>\n",
       "      <td>2616.0</td>\n",
       "      <td>182.0</td>\n",
       "      <td>130.800000</td>\n",
       "      <td>40</td>\n",
       "      <td>2</td>\n",
       "      <td>2.0</td>\n",
       "      <td>65.400000</td>\n",
       "      <td>True</td>\n",
       "    </tr>\n",
       "  </tbody>\n",
       "</table>\n",
       "</div>"
      ],
      "text/plain": [
       "            acct_created  cust_type  num_purchases      first_purchase  \\\n",
       "UMS_acct_no                                                              \n",
       "1111          1979-08-06  Household             29 2011-10-01 20:00:00   \n",
       "1115          1988-02-18  Household             33 2011-10-01 20:00:00   \n",
       "1122          1988-02-10  Household              1 2012-09-27 19:30:00   \n",
       "1130          1988-02-26  Household              8 2012-02-18 20:00:00   \n",
       "1131          1988-02-26  Household             20 2011-10-01 20:00:00   \n",
       "\n",
       "            most_recent_purchase  total_purchase_amt  max_purchase_amt  \\\n",
       "UMS_acct_no                                                              \n",
       "1111         2014-04-13 16:00:00              3008.0             150.0   \n",
       "1115         2014-04-13 16:00:00              4066.0             184.0   \n",
       "1122         2012-09-27 19:30:00               200.0             200.0   \n",
       "1130         2013-12-08 14:00:00               652.0             130.0   \n",
       "1131         2013-04-20 20:00:00              2616.0             182.0   \n",
       "\n",
       "             avg_purchase_amt  total_num_seats  max_num_seats  med_num_seats  \\\n",
       "UMS_acct_no                                                                    \n",
       "1111               103.724138               55              2            2.0   \n",
       "1115               123.212121               61              2            2.0   \n",
       "1122               200.000000                2              2            2.0   \n",
       "1130                81.500000               15              2            2.0   \n",
       "1131               130.800000               40              2            2.0   \n",
       "\n",
       "             avg_seat_amt subscriber  \n",
       "UMS_acct_no                           \n",
       "1111            54.690909       True  \n",
       "1115            66.655738       True  \n",
       "1122           100.000000      False  \n",
       "1130            43.466667      False  \n",
       "1131            65.400000       True  "
      ]
     },
     "execution_count": 7,
     "metadata": {},
     "output_type": "execute_result"
    }
   ],
   "source": [
    "acc_tbl['num_purchases']        = grpAcct['acct_created'].count() # any var works here, just need the count\n",
    "acc_tbl['first_purchase']       = grpAcct['perf_dt'].min()\n",
    "acc_tbl['most_recent_purchase'] = grpAcct['perf_dt'].max()\n",
    "acc_tbl['total_purchase_amt']   = grpAcct['tck_amt'].sum()\n",
    "acc_tbl['max_purchase_amt']     = grpAcct['tck_amt'].max()\n",
    "acc_tbl['avg_purchase_amt']     = grpAcct['tck_amt'].mean()\n",
    "acc_tbl['total_num_seats']      = grpAcct['num_seats'].sum()\n",
    "acc_tbl['max_num_seats']        = grpAcct['num_seats'].max()\n",
    "acc_tbl['med_num_seats']        = grpAcct['num_seats'].median()\n",
    "acc_tbl['avg_seat_amt']         = grpAcct['tck_amt'].sum() / grpAcct['num_seats'].sum()\n",
    "acc_tbl['subscriber']  = grpAcct['mode_of_sale'].agg(lambda x : x.eq('Subscription').any())\n",
    "\n",
    "acc_tbl.head()"
   ]
  },
  {
   "cell_type": "code",
   "execution_count": 93,
   "metadata": {
    "collapsed": false
   },
   "outputs": [
    {
     "name": "stderr",
     "output_type": "stream",
     "text": [
      "/usr/lib/python2.7/site-packages/ipykernel/__main__.py:16: SettingWithCopyWarning: \n",
      "A value is trying to be set on a copy of a slice from a DataFrame.\n",
      "Try using .loc[row_indexer,col_indexer] = value instead\n",
      "\n",
      "See the caveats in the documentation: http://pandas.pydata.org/pandas-docs/stable/indexing.html#indexing-view-versus-copy\n",
      "/usr/lib/python2.7/site-packages/ipykernel/__main__.py:17: SettingWithCopyWarning: \n",
      "A value is trying to be set on a copy of a slice from a DataFrame.\n",
      "Try using .loc[row_indexer,col_indexer] = value instead\n",
      "\n",
      "See the caveats in the documentation: http://pandas.pydata.org/pandas-docs/stable/indexing.html#indexing-view-versus-copy\n"
     ]
    },
    {
     "data": {
      "text/html": [
       "<div>\n",
       "<table border=\"1\" class=\"dataframe\">\n",
       "  <thead>\n",
       "    <tr style=\"text-align: right;\">\n",
       "      <th></th>\n",
       "      <th>acct_created</th>\n",
       "      <th>cust_type</th>\n",
       "      <th>num_purchases</th>\n",
       "      <th>first_purchase</th>\n",
       "      <th>most_recent_purchase</th>\n",
       "      <th>total_purchase_amt</th>\n",
       "      <th>max_purchase_amt</th>\n",
       "      <th>avg_purchase_amt</th>\n",
       "      <th>total_num_seats</th>\n",
       "      <th>max_num_seats</th>\n",
       "      <th>med_num_seats</th>\n",
       "      <th>avg_seat_amt</th>\n",
       "      <th>subscriber</th>\n",
       "      <th>shows_before_conversion</th>\n",
       "      <th>genre_before_conversion</th>\n",
       "    </tr>\n",
       "    <tr>\n",
       "      <th>UMS_acct_no</th>\n",
       "      <th></th>\n",
       "      <th></th>\n",
       "      <th></th>\n",
       "      <th></th>\n",
       "      <th></th>\n",
       "      <th></th>\n",
       "      <th></th>\n",
       "      <th></th>\n",
       "      <th></th>\n",
       "      <th></th>\n",
       "      <th></th>\n",
       "      <th></th>\n",
       "      <th></th>\n",
       "      <th></th>\n",
       "      <th></th>\n",
       "    </tr>\n",
       "  </thead>\n",
       "  <tbody>\n",
       "    <tr>\n",
       "      <th>1111</th>\n",
       "      <td>1979-08-06</td>\n",
       "      <td>Household</td>\n",
       "      <td>29</td>\n",
       "      <td>2011-10-01 20:00:00</td>\n",
       "      <td>2014-04-13 16:00:00</td>\n",
       "      <td>3008.0</td>\n",
       "      <td>150.0</td>\n",
       "      <td>103.724138</td>\n",
       "      <td>55</td>\n",
       "      <td>2</td>\n",
       "      <td>2.0</td>\n",
       "      <td>54.690909</td>\n",
       "      <td>True</td>\n",
       "      <td>0</td>\n",
       "      <td>NaN</td>\n",
       "    </tr>\n",
       "    <tr>\n",
       "      <th>1115</th>\n",
       "      <td>1988-02-18</td>\n",
       "      <td>Household</td>\n",
       "      <td>33</td>\n",
       "      <td>2011-10-01 20:00:00</td>\n",
       "      <td>2014-04-13 16:00:00</td>\n",
       "      <td>4066.0</td>\n",
       "      <td>184.0</td>\n",
       "      <td>123.212121</td>\n",
       "      <td>61</td>\n",
       "      <td>2</td>\n",
       "      <td>2.0</td>\n",
       "      <td>66.655738</td>\n",
       "      <td>True</td>\n",
       "      <td>0</td>\n",
       "      <td>NaN</td>\n",
       "    </tr>\n",
       "    <tr>\n",
       "      <th>1131</th>\n",
       "      <td>1988-02-26</td>\n",
       "      <td>Household</td>\n",
       "      <td>20</td>\n",
       "      <td>2011-10-01 20:00:00</td>\n",
       "      <td>2013-04-20 20:00:00</td>\n",
       "      <td>2616.0</td>\n",
       "      <td>182.0</td>\n",
       "      <td>130.800000</td>\n",
       "      <td>40</td>\n",
       "      <td>2</td>\n",
       "      <td>2.0</td>\n",
       "      <td>65.400000</td>\n",
       "      <td>True</td>\n",
       "      <td>0</td>\n",
       "      <td>NaN</td>\n",
       "    </tr>\n",
       "    <tr>\n",
       "      <th>1143</th>\n",
       "      <td>1988-02-10</td>\n",
       "      <td>Individual</td>\n",
       "      <td>48</td>\n",
       "      <td>2011-10-09 16:00:00</td>\n",
       "      <td>2014-04-13 16:00:00</td>\n",
       "      <td>2580.6</td>\n",
       "      <td>100.0</td>\n",
       "      <td>53.762500</td>\n",
       "      <td>49</td>\n",
       "      <td>2</td>\n",
       "      <td>1.0</td>\n",
       "      <td>52.665306</td>\n",
       "      <td>True</td>\n",
       "      <td>14</td>\n",
       "      <td>theatre</td>\n",
       "    </tr>\n",
       "    <tr>\n",
       "      <th>1152</th>\n",
       "      <td>1988-02-10</td>\n",
       "      <td>Individual</td>\n",
       "      <td>16</td>\n",
       "      <td>2011-09-18 16:00:00</td>\n",
       "      <td>2013-11-03 16:00:00</td>\n",
       "      <td>1034.0</td>\n",
       "      <td>91.0</td>\n",
       "      <td>64.625000</td>\n",
       "      <td>16</td>\n",
       "      <td>1</td>\n",
       "      <td>1.0</td>\n",
       "      <td>64.625000</td>\n",
       "      <td>True</td>\n",
       "      <td>4</td>\n",
       "      <td>orchestral</td>\n",
       "    </tr>\n",
       "  </tbody>\n",
       "</table>\n",
       "</div>"
      ],
      "text/plain": [
       "            acct_created   cust_type  num_purchases      first_purchase  \\\n",
       "UMS_acct_no                                                               \n",
       "1111          1979-08-06   Household             29 2011-10-01 20:00:00   \n",
       "1115          1988-02-18   Household             33 2011-10-01 20:00:00   \n",
       "1131          1988-02-26   Household             20 2011-10-01 20:00:00   \n",
       "1143          1988-02-10  Individual             48 2011-10-09 16:00:00   \n",
       "1152          1988-02-10  Individual             16 2011-09-18 16:00:00   \n",
       "\n",
       "            most_recent_purchase  total_purchase_amt  max_purchase_amt  \\\n",
       "UMS_acct_no                                                              \n",
       "1111         2014-04-13 16:00:00              3008.0             150.0   \n",
       "1115         2014-04-13 16:00:00              4066.0             184.0   \n",
       "1131         2013-04-20 20:00:00              2616.0             182.0   \n",
       "1143         2014-04-13 16:00:00              2580.6             100.0   \n",
       "1152         2013-11-03 16:00:00              1034.0              91.0   \n",
       "\n",
       "             avg_purchase_amt  total_num_seats  max_num_seats  med_num_seats  \\\n",
       "UMS_acct_no                                                                    \n",
       "1111               103.724138               55              2            2.0   \n",
       "1115               123.212121               61              2            2.0   \n",
       "1131               130.800000               40              2            2.0   \n",
       "1143                53.762500               49              2            1.0   \n",
       "1152                64.625000               16              1            1.0   \n",
       "\n",
       "             avg_seat_amt subscriber  shows_before_conversion  \\\n",
       "UMS_acct_no                                                     \n",
       "1111            54.690909       True                        0   \n",
       "1115            66.655738       True                        0   \n",
       "1131            65.400000       True                        0   \n",
       "1143            52.665306       True                       14   \n",
       "1152            64.625000       True                        4   \n",
       "\n",
       "            genre_before_conversion  \n",
       "UMS_acct_no                          \n",
       "1111                            NaN  \n",
       "1115                            NaN  \n",
       "1131                            NaN  \n",
       "1143                        theatre  \n",
       "1152                     orchestral  "
      ]
     },
     "execution_count": 93,
     "metadata": {},
     "output_type": "execute_result"
    }
   ],
   "source": [
    "# get subscriber info\n",
    "\n",
    "subs = acc_tbl[acc_tbl['subscriber'] == True]\n",
    "\n",
    "# get number of shows before person became subscriber\n",
    "conv_map = dict()\n",
    "conv_genre_map = dict()\n",
    "for acc_no in subs.index:\n",
    "    # get index of first show that was ordered under subscription\n",
    "    conv_index = (tbl[tbl['UMS_acct_no'] == acc_no].sort_values(by='order_dt')['mode_of_sale'].values == 'Subscription').nonzero()[0][0]\n",
    "    conv_map[acc_no] = conv_index\n",
    "    # get genre of show right before conversion\n",
    "    if conv_index > 0:\n",
    "        conv_genre = tbl[tbl['UMS_acct_no'] == acc_no].sort_values(by='order_dt')['genre'].iloc[conv_index-1]\n",
    "        conv_genre_map[acc_no] = conv_genre\n",
    "subs['shows_before_conversion'] = pd.Series(conv_map)\n",
    "subs['genre_before_conversion'] = pd.Series(conv_genre_map)\n",
    "\n",
    "subs.head()"
   ]
  },
  {
   "cell_type": "code",
   "execution_count": 169,
   "metadata": {
    "collapsed": false
   },
   "outputs": [
    {
     "name": "stdout",
     "output_type": "stream",
     "text": [
      "Percentage of accounts that are subscribers:  5.02885408079\n",
      "Percentage of revenue from subscribers:       40.9106000925\n",
      "Percentage of subscribers who converted:      28.125\n"
     ]
    }
   ],
   "source": [
    "subs_prop = len(subs) / len(acc_tbl)\n",
    "subs_purc = subs['total_purchase_amt'].sum() / acc_tbl['total_purchase_amt'].sum()\n",
    "\n",
    "subs_recent = subs[subs['acct_created'] >= tbl['order_dt'].min()]\n",
    "subs_prop_convs = len(subs_recent[subs_recent['shows_before_conversion'] > 0]) / len(subs_recent)\n",
    "\n",
    "print \"Percentage of accounts that are subscribers: \", 100 * subs_prop\n",
    "print \"Percentage of revenue from subscribers:      \", 100 * subs_purc\n",
    "print \"Percentage of subscribers who converted:     \", 100 * subs_prop_convs"
   ]
  },
  {
   "cell_type": "code",
   "execution_count": 164,
   "metadata": {
    "collapsed": false,
    "scrolled": true
   },
   "outputs": [
    {
     "data": {
      "image/png": "[encoded data removed]",
      "text/plain": [
       "<matplotlib.figure.Figure at 0x7f3c986fbd50>"
      ]
     },
     "metadata": {},
     "output_type": "display_data"
    }
   ],
   "source": [
    "# How many shows did people go to before becoming a subscriber?\n",
    "\n",
    "plt.hist(subs[subs['shows_before_conversion'] > 0]['shows_before_conversion'], bins=subs['shows_before_conversion'].max()-1)\n",
    "plt.title('Distribution of number of shows before conversion')\n",
    "plt.xlabel('Shows')\n",
    "\n",
    "#plt.savefig('shows_before_conversion.png')\n",
    "plt.show()"
   ]
  },
  {
   "cell_type": "code",
   "execution_count": 165,
   "metadata": {
    "collapsed": false
   },
   "outputs": [
    {
     "data": {
      "image/png": "[encoded data removed]",
      "text/plain": [
       "<matplotlib.figure.Figure at 0x7f3c98c4c110>"
      ]
     },
     "metadata": {},
     "output_type": "display_data"
    }
   ],
   "source": [
    "# What kind of show did people watch right before becoming a subscriber?\n",
    "\n",
    "plt.barh(range(NUM_GENRE), subs['genre_before_conversion'].value_counts(ascending=True).values,\n",
    "        align='center',\n",
    "        tick_label=subs['genre_before_conversion'].value_counts(ascending=True).index)\n",
    "plt.title('Distribution of show genre before conversion')\n",
    "plt.ylabel('Genre')\n",
    "\n",
    "#plt.savefig('show_genre_before_conversion.png')\n",
    "plt.show()"
   ]
  },
  {
   "cell_type": "code",
   "execution_count": null,
   "metadata": {
    "collapsed": true
   },
   "outputs": [],
   "source": []
  }
 ],
 "metadata": {
  "kernelspec": {
   "display_name": "Python 2",
   "language": "python",
   "name": "python2"
  },
  "language_info": {
   "codemirror_mode": {
    "name": "ipython",
    "version": 2
   },
   "file_extension": ".py",
   "mimetype": "text/x-python",
   "name": "python",
   "nbconvert_exporter": "python",
   "pygments_lexer": "ipython2",
   "version": "2.7.11"
  }
 },
 "nbformat": 4,
 "nbformat_minor": 0
}
